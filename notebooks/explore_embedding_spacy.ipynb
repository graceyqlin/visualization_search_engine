{
 "cells": [
  {
   "cell_type": "markdown",
   "metadata": {},
   "source": [
    "# About\n",
    "\n",
    "test notebook to explore spacy and bag of words\n"
   ]
  },
  {
   "cell_type": "code",
   "execution_count": 35,
   "metadata": {},
   "outputs": [],
   "source": [
    "import numpy as np\n",
    "import pandas as pd\n",
    "from sklearn.feature_extraction.text import CountVectorizer,TfidfVectorizer\n",
    "from sklearn.base import TransformerMixin\n",
    "from sklearn.pipeline import Pipeline\n",
    "from bs4 import BeautifulSoup\n",
    "import collections\n",
    "from typing import Dict, List, Tuple"
   ]
  },
  {
   "cell_type": "markdown",
   "metadata": {},
   "source": [
    "# Loads Data"
   ]
  },
  {
   "cell_type": "code",
   "execution_count": null,
   "metadata": {},
   "outputs": [],
   "source": [
    "# Loading data, see yuqing's notebook\n",
    "\n",
    "p_comments = \"/mnt/disks/disk-1-w210-data/data/interim/stackexchange/stackoverflow/CommentsFiltered_v3.tsv\"\n",
    "p_tags = \"/mnt/disks/disk-1-w210-data/data/interim/stackexchange/stackoverflow/tags.csv\"\n",
    "p_answers = \"/mnt/disks/disk-1-w210-data/data/interim/stackexchange/stackoverflow/PostAnswersFiltered_V3_parsed.tsv\"\n",
    "p_questions = \"/mnt/disks/disk-1-w210-data/data/interim/stackexchange/stackoverflow/PostQuestionsFiltered_V3_parsed.tsv\"\n",
    "\n",
    "comments = pd.read_csv(p_comments, delimiter = \"\\t\", encoding = \"utf-8\")\n",
    "tags = pd.read_csv(p_tags)\n",
    "answers = pd.read_csv(p_answers, delimiter = \"\\t\", encoding = \"utf-8\")\n",
    "questions = pd.read_csv(p_questions, delimiter = \"\\t\", encoding = \"utf-8\")"
   ]
  },
  {
   "cell_type": "code",
   "execution_count": 3,
   "metadata": {
    "collapsed": true
   },
   "outputs": [
    {
     "name": "stdout",
     "output_type": "stream",
     "text": [
      "<class 'pandas.core.frame.DataFrame'>\n",
      "RangeIndex: 1184056 entries, 0 to 1184055\n",
      "Data columns (total 8 columns):\n",
      "Unnamed: 0           1184056 non-null int64\n",
      "id                   1184056 non-null int64\n",
      "text                 1184056 non-null object\n",
      "creation_date        1184056 non-null object\n",
      "post_id              1184056 non-null int64\n",
      "user_id              1171470 non-null float64\n",
      "user_display_name    12669 non-null object\n",
      "score                1184056 non-null int64\n",
      "dtypes: float64(1), int64(4), object(3)\n",
      "memory usage: 72.3+ MB\n"
     ]
    }
   ],
   "source": [
    "comments.info()"
   ]
  },
  {
   "cell_type": "code",
   "execution_count": 4,
   "metadata": {
    "collapsed": true
   },
   "outputs": [
    {
     "name": "stdout",
     "output_type": "stream",
     "text": [
      "<class 'pandas.core.frame.DataFrame'>\n",
      "RangeIndex: 55665 entries, 0 to 55664\n",
      "Data columns (total 5 columns):\n",
      "_Id               55665 non-null int64\n",
      "_TagName          55663 non-null object\n",
      "_Count            55665 non-null int64\n",
      "_ExcerptPostId    41059 non-null float64\n",
      "_WikiPostId       41059 non-null float64\n",
      "dtypes: float64(2), int64(2), object(1)\n",
      "memory usage: 2.1+ MB\n"
     ]
    }
   ],
   "source": [
    "tags.info()"
   ]
  },
  {
   "cell_type": "code",
   "execution_count": 5,
   "metadata": {
    "collapsed": true
   },
   "outputs": [
    {
     "name": "stdout",
     "output_type": "stream",
     "text": [
      "<class 'pandas.core.frame.DataFrame'>\n",
      "RangeIndex: 889576 entries, 0 to 889575\n",
      "Data columns (total 26 columns):\n",
      "Unnamed: 0                  889576 non-null int64\n",
      "id                          889576 non-null int64\n",
      "title                       0 non-null float64\n",
      "body                        889576 non-null object\n",
      "accepted_answer_id          0 non-null float64\n",
      "answer_count                0 non-null float64\n",
      "comment_count               889576 non-null int64\n",
      "community_owned_date        2623 non-null object\n",
      "creation_date               889576 non-null object\n",
      "favorite_count              0 non-null float64\n",
      "last_activity_date          889576 non-null object\n",
      "last_edit_date              272709 non-null object\n",
      "last_editor_display_name    3243 non-null object\n",
      "last_editor_user_id         271211 non-null float64\n",
      "owner_display_name          15159 non-null object\n",
      "owner_user_id               883321 non-null float64\n",
      "parent_id                   889576 non-null int64\n",
      "post_type_id                889576 non-null int64\n",
      "score                       889576 non-null int64\n",
      "tags                        0 non-null float64\n",
      "view_count                  0 non-null float64\n",
      "UnorderedLists              889576 non-null float64\n",
      "OrderedLists                889576 non-null float64\n",
      "CodeSnippets                889576 non-null float64\n",
      "SampleOutput                889576 non-null float64\n",
      "Images                      889576 non-null float64\n",
      "dtypes: float64(13), int64(6), object(7)\n",
      "memory usage: 176.5+ MB\n"
     ]
    }
   ],
   "source": [
    "answers.info()"
   ]
  },
  {
   "cell_type": "code",
   "execution_count": 6,
   "metadata": {
    "collapsed": true
   },
   "outputs": [
    {
     "name": "stdout",
     "output_type": "stream",
     "text": [
      "<class 'pandas.core.frame.DataFrame'>\n",
      "RangeIndex: 692177 entries, 0 to 692176\n",
      "Data columns (total 72 columns):\n",
      "Unnamed: 0                  692177 non-null int64\n",
      "Unnamed: 0.1                692177 non-null int64\n",
      "id                          692177 non-null int64\n",
      "title                       692177 non-null object\n",
      "body                        692177 non-null object\n",
      "accepted_answer_id          353530 non-null float64\n",
      "answer_count                692177 non-null int64\n",
      "comment_count               692177 non-null int64\n",
      "community_owned_date        293 non-null object\n",
      "creation_date               692177 non-null object\n",
      "favorite_count              170080 non-null float64\n",
      "last_activity_date          692177 non-null object\n",
      "last_edit_date              375266 non-null object\n",
      "last_editor_display_name    5267 non-null object\n",
      "last_editor_user_id         371649 non-null float64\n",
      "owner_display_name          11995 non-null object\n",
      "owner_user_id               683235 non-null float64\n",
      "parent_id                   0 non-null float64\n",
      "post_type_id                692177 non-null int64\n",
      "score                       692177 non-null int64\n",
      "tags                        692177 non-null object\n",
      "view_count                  692177 non-null int64\n",
      "parsedtags                  685945 non-null object\n",
      "javascript                  692177 non-null int64\n",
      "java                        692177 non-null int64\n",
      "c#                          692177 non-null int64\n",
      "php                         692177 non-null int64\n",
      "python                      692177 non-null int64\n",
      "c++                         692177 non-null int64\n",
      "node.js                     692177 non-null int64\n",
      "objective-c                 692177 non-null int64\n",
      "vb.net                      692177 non-null int64\n",
      "scala                       692177 non-null int64\n",
      "matlab                      692177 non-null int64\n",
      "perl                        692177 non-null int64\n",
      "delphi                      692177 non-null int64\n",
      "matplotlib                  692177 non-null int64\n",
      "animation                   692177 non-null int64\n",
      "d3                          692177 non-null int64\n",
      "ggplot2                     692177 non-null int64\n",
      "plot                        692177 non-null int64\n",
      "graph                       692177 non-null int64\n",
      "chart                       692177 non-null int64\n",
      "highcharts                  692177 non-null int64\n",
      "vbscript                    692177 non-null int64\n",
      "colors                      692177 non-null int64\n",
      "pyspark                     692177 non-null int64\n",
      "dplyr                       692177 non-null int64\n",
      "f#                          692177 non-null int64\n",
      "3d                          692177 non-null int64\n",
      "sas                         692177 non-null int64\n",
      "fortran                     692177 non-null int64\n",
      "maps                        692177 non-null int64\n",
      "lisp                        692177 non-null int64\n",
      "julia                       692177 non-null int64\n",
      "powerbi                     692177 non-null int64\n",
      "drawing                     692177 non-null int64\n",
      "line                        692177 non-null int64\n",
      "plotly                      692177 non-null int64\n",
      "bar-chart                   692177 non-null int64\n",
      "visualization               692177 non-null int64\n",
      "tableau                     692177 non-null int64\n",
      "seaborn                     692177 non-null int64\n",
      "geospatial                  692177 non-null int64\n",
      "stata                       692177 non-null int64\n",
      "plyr                        692177 non-null int64\n",
      "pie-chart                   692177 non-null int64\n",
      "graphviz                    692177 non-null int64\n",
      "spss                        692177 non-null int64\n",
      "diagram                     692177 non-null int64\n",
      "qlikview                    692177 non-null int64\n",
      "altair                      692177 non-null int64\n",
      "dtypes: float64(5), int64(57), object(10)\n",
      "memory usage: 380.2+ MB\n"
     ]
    }
   ],
   "source": [
    "questions.info()"
   ]
  },
  {
   "cell_type": "markdown",
   "metadata": {},
   "source": [
    "## sample"
   ]
  },
  {
   "cell_type": "code",
   "execution_count": 7,
   "metadata": {},
   "outputs": [],
   "source": [
    "n = 6000\n",
    "comments_sample = comments.sample(n)\n",
    "tags_sample = tags.sample(n)\n",
    "answers_sample = answers.sample(n)\n",
    "questions_sample = questions.sample(n)"
   ]
  },
  {
   "cell_type": "code",
   "execution_count": 8,
   "metadata": {
    "collapsed": true
   },
   "outputs": [
    {
     "data": {
      "text/html": [
       "<div>\n",
       "<style scoped>\n",
       "    .dataframe tbody tr th:only-of-type {\n",
       "        vertical-align: middle;\n",
       "    }\n",
       "\n",
       "    .dataframe tbody tr th {\n",
       "        vertical-align: top;\n",
       "    }\n",
       "\n",
       "    .dataframe thead th {\n",
       "        text-align: right;\n",
       "    }\n",
       "</style>\n",
       "<table border=\"1\" class=\"dataframe\">\n",
       "  <thead>\n",
       "    <tr style=\"text-align: right;\">\n",
       "      <th></th>\n",
       "      <th>Unnamed: 0</th>\n",
       "      <th>id</th>\n",
       "      <th>text</th>\n",
       "      <th>creation_date</th>\n",
       "      <th>post_id</th>\n",
       "      <th>user_id</th>\n",
       "      <th>user_display_name</th>\n",
       "      <th>score</th>\n",
       "    </tr>\n",
       "  </thead>\n",
       "  <tbody>\n",
       "    <tr>\n",
       "      <td>641513</td>\n",
       "      <td>641513</td>\n",
       "      <td>51312642</td>\n",
       "      <td>Try this assuming your matrix is stored in `A`...</td>\n",
       "      <td>2015-07-28 19:33:25.633000+00:00</td>\n",
       "      <td>31685078</td>\n",
       "      <td>3250829.0</td>\n",
       "      <td>NaN</td>\n",
       "      <td>1</td>\n",
       "    </tr>\n",
       "    <tr>\n",
       "      <td>547146</td>\n",
       "      <td>547146</td>\n",
       "      <td>3383081</td>\n",
       "      <td>I think Frank is asking for instructions on ho...</td>\n",
       "      <td>2010-07-17 05:07:22.650000+00:00</td>\n",
       "      <td>3270170</td>\n",
       "      <td>385115.0</td>\n",
       "      <td>NaN</td>\n",
       "      <td>1</td>\n",
       "    </tr>\n",
       "    <tr>\n",
       "      <td>998506</td>\n",
       "      <td>998506</td>\n",
       "      <td>92906537</td>\n",
       "      <td>What is the call to fill_pie() with no data in...</td>\n",
       "      <td>2018-10-26 03:49:53.013000+00:00</td>\n",
       "      <td>53001058</td>\n",
       "      <td>4670239.0</td>\n",
       "      <td>NaN</td>\n",
       "      <td>1</td>\n",
       "    </tr>\n",
       "  </tbody>\n",
       "</table>\n",
       "</div>"
      ],
      "text/plain": [
       "        Unnamed: 0        id  \\\n",
       "641513      641513  51312642   \n",
       "547146      547146   3383081   \n",
       "998506      998506  92906537   \n",
       "\n",
       "                                                     text  \\\n",
       "641513  Try this assuming your matrix is stored in `A`...   \n",
       "547146  I think Frank is asking for instructions on ho...   \n",
       "998506  What is the call to fill_pie() with no data in...   \n",
       "\n",
       "                           creation_date   post_id    user_id  \\\n",
       "641513  2015-07-28 19:33:25.633000+00:00  31685078  3250829.0   \n",
       "547146  2010-07-17 05:07:22.650000+00:00   3270170   385115.0   \n",
       "998506  2018-10-26 03:49:53.013000+00:00  53001058  4670239.0   \n",
       "\n",
       "       user_display_name  score  \n",
       "641513               NaN      1  \n",
       "547146               NaN      1  \n",
       "998506               NaN      1  "
      ]
     },
     "execution_count": 8,
     "metadata": {},
     "output_type": "execute_result"
    }
   ],
   "source": [
    "comments_sample.head(3)"
   ]
  },
  {
   "cell_type": "code",
   "execution_count": 9,
   "metadata": {
    "collapsed": true
   },
   "outputs": [
    {
     "data": {
      "text/html": [
       "<div>\n",
       "<style scoped>\n",
       "    .dataframe tbody tr th:only-of-type {\n",
       "        vertical-align: middle;\n",
       "    }\n",
       "\n",
       "    .dataframe tbody tr th {\n",
       "        vertical-align: top;\n",
       "    }\n",
       "\n",
       "    .dataframe thead th {\n",
       "        text-align: right;\n",
       "    }\n",
       "</style>\n",
       "<table border=\"1\" class=\"dataframe\">\n",
       "  <thead>\n",
       "    <tr style=\"text-align: right;\">\n",
       "      <th></th>\n",
       "      <th>_Id</th>\n",
       "      <th>_TagName</th>\n",
       "      <th>_Count</th>\n",
       "      <th>_ExcerptPostId</th>\n",
       "      <th>_WikiPostId</th>\n",
       "    </tr>\n",
       "  </thead>\n",
       "  <tbody>\n",
       "    <tr>\n",
       "      <td>15857</td>\n",
       "      <td>45720</td>\n",
       "      <td>pretty-urls</td>\n",
       "      <td>157</td>\n",
       "      <td>25923660.0</td>\n",
       "      <td>25923659.0</td>\n",
       "    </tr>\n",
       "    <tr>\n",
       "      <td>10027</td>\n",
       "      <td>25258</td>\n",
       "      <td>tournament</td>\n",
       "      <td>87</td>\n",
       "      <td>45217505.0</td>\n",
       "      <td>45217504.0</td>\n",
       "    </tr>\n",
       "    <tr>\n",
       "      <td>52298</td>\n",
       "      <td>134973</td>\n",
       "      <td>php-namespaces</td>\n",
       "      <td>3</td>\n",
       "      <td>52681673.0</td>\n",
       "      <td>52681672.0</td>\n",
       "    </tr>\n",
       "  </tbody>\n",
       "</table>\n",
       "</div>"
      ],
      "text/plain": [
       "          _Id        _TagName  _Count  _ExcerptPostId  _WikiPostId\n",
       "15857   45720     pretty-urls     157      25923660.0   25923659.0\n",
       "10027   25258      tournament      87      45217505.0   45217504.0\n",
       "52298  134973  php-namespaces       3      52681673.0   52681672.0"
      ]
     },
     "execution_count": 9,
     "metadata": {},
     "output_type": "execute_result"
    }
   ],
   "source": [
    "tags_sample.head(3)"
   ]
  },
  {
   "cell_type": "code",
   "execution_count": 10,
   "metadata": {
    "collapsed": true
   },
   "outputs": [
    {
     "data": {
      "text/html": [
       "<div>\n",
       "<style scoped>\n",
       "    .dataframe tbody tr th:only-of-type {\n",
       "        vertical-align: middle;\n",
       "    }\n",
       "\n",
       "    .dataframe tbody tr th {\n",
       "        vertical-align: top;\n",
       "    }\n",
       "\n",
       "    .dataframe thead th {\n",
       "        text-align: right;\n",
       "    }\n",
       "</style>\n",
       "<table border=\"1\" class=\"dataframe\">\n",
       "  <thead>\n",
       "    <tr style=\"text-align: right;\">\n",
       "      <th></th>\n",
       "      <th>Unnamed: 0</th>\n",
       "      <th>id</th>\n",
       "      <th>title</th>\n",
       "      <th>body</th>\n",
       "      <th>accepted_answer_id</th>\n",
       "      <th>answer_count</th>\n",
       "      <th>comment_count</th>\n",
       "      <th>community_owned_date</th>\n",
       "      <th>creation_date</th>\n",
       "      <th>favorite_count</th>\n",
       "      <th>...</th>\n",
       "      <th>parent_id</th>\n",
       "      <th>post_type_id</th>\n",
       "      <th>score</th>\n",
       "      <th>tags</th>\n",
       "      <th>view_count</th>\n",
       "      <th>UnorderedLists</th>\n",
       "      <th>OrderedLists</th>\n",
       "      <th>CodeSnippets</th>\n",
       "      <th>SampleOutput</th>\n",
       "      <th>Images</th>\n",
       "    </tr>\n",
       "  </thead>\n",
       "  <tbody>\n",
       "    <tr>\n",
       "      <td>136969</td>\n",
       "      <td>136969</td>\n",
       "      <td>50676838</td>\n",
       "      <td>NaN</td>\n",
       "      <td>&lt;p&gt;Actually, for both AAD Graph API and Micros...</td>\n",
       "      <td>NaN</td>\n",
       "      <td>NaN</td>\n",
       "      <td>3</td>\n",
       "      <td>NaN</td>\n",
       "      <td>2018-06-04 08:58:33.090000+00:00</td>\n",
       "      <td>NaN</td>\n",
       "      <td>...</td>\n",
       "      <td>50675653</td>\n",
       "      <td>2</td>\n",
       "      <td>1</td>\n",
       "      <td>NaN</td>\n",
       "      <td>NaN</td>\n",
       "      <td>0.0</td>\n",
       "      <td>0.0</td>\n",
       "      <td>1.0</td>\n",
       "      <td>0.0</td>\n",
       "      <td>0.0</td>\n",
       "    </tr>\n",
       "    <tr>\n",
       "      <td>796972</td>\n",
       "      <td>796972</td>\n",
       "      <td>7734649</td>\n",
       "      <td>NaN</td>\n",
       "      <td>&lt;p&gt;You could try:&lt;/p&gt;\\r\\n\\r\\n&lt;pre&gt;&lt;code&gt;text(....</td>\n",
       "      <td>NaN</td>\n",
       "      <td>NaN</td>\n",
       "      <td>0</td>\n",
       "      <td>NaN</td>\n",
       "      <td>2011-10-12 02:33:41.277000+00:00</td>\n",
       "      <td>NaN</td>\n",
       "      <td>...</td>\n",
       "      <td>7734535</td>\n",
       "      <td>2</td>\n",
       "      <td>0</td>\n",
       "      <td>NaN</td>\n",
       "      <td>NaN</td>\n",
       "      <td>0.0</td>\n",
       "      <td>0.0</td>\n",
       "      <td>1.0</td>\n",
       "      <td>0.0</td>\n",
       "      <td>0.0</td>\n",
       "    </tr>\n",
       "    <tr>\n",
       "      <td>884854</td>\n",
       "      <td>884854</td>\n",
       "      <td>3875921</td>\n",
       "      <td>NaN</td>\n",
       "      <td>&lt;p&gt;Found a solution in &lt;a href=\"https://stacko...</td>\n",
       "      <td>NaN</td>\n",
       "      <td>NaN</td>\n",
       "      <td>1</td>\n",
       "      <td>NaN</td>\n",
       "      <td>2010-10-06 18:52:54.410000+00:00</td>\n",
       "      <td>NaN</td>\n",
       "      <td>...</td>\n",
       "      <td>2669727</td>\n",
       "      <td>2</td>\n",
       "      <td>0</td>\n",
       "      <td>NaN</td>\n",
       "      <td>NaN</td>\n",
       "      <td>0.0</td>\n",
       "      <td>0.0</td>\n",
       "      <td>1.0</td>\n",
       "      <td>0.0</td>\n",
       "      <td>0.0</td>\n",
       "    </tr>\n",
       "  </tbody>\n",
       "</table>\n",
       "<p>3 rows × 26 columns</p>\n",
       "</div>"
      ],
      "text/plain": [
       "        Unnamed: 0        id  title  \\\n",
       "136969      136969  50676838    NaN   \n",
       "796972      796972   7734649    NaN   \n",
       "884854      884854   3875921    NaN   \n",
       "\n",
       "                                                     body  accepted_answer_id  \\\n",
       "136969  <p>Actually, for both AAD Graph API and Micros...                 NaN   \n",
       "796972  <p>You could try:</p>\\r\\n\\r\\n<pre><code>text(....                 NaN   \n",
       "884854  <p>Found a solution in <a href=\"https://stacko...                 NaN   \n",
       "\n",
       "        answer_count  comment_count community_owned_date  \\\n",
       "136969           NaN              3                  NaN   \n",
       "796972           NaN              0                  NaN   \n",
       "884854           NaN              1                  NaN   \n",
       "\n",
       "                           creation_date  favorite_count  ... parent_id  \\\n",
       "136969  2018-06-04 08:58:33.090000+00:00             NaN  ...  50675653   \n",
       "796972  2011-10-12 02:33:41.277000+00:00             NaN  ...   7734535   \n",
       "884854  2010-10-06 18:52:54.410000+00:00             NaN  ...   2669727   \n",
       "\n",
       "       post_type_id score  tags view_count  UnorderedLists  OrderedLists  \\\n",
       "136969            2     1   NaN        NaN             0.0           0.0   \n",
       "796972            2     0   NaN        NaN             0.0           0.0   \n",
       "884854            2     0   NaN        NaN             0.0           0.0   \n",
       "\n",
       "        CodeSnippets  SampleOutput  Images  \n",
       "136969           1.0           0.0     0.0  \n",
       "796972           1.0           0.0     0.0  \n",
       "884854           1.0           0.0     0.0  \n",
       "\n",
       "[3 rows x 26 columns]"
      ]
     },
     "execution_count": 10,
     "metadata": {},
     "output_type": "execute_result"
    }
   ],
   "source": [
    "answers_sample.head(3)"
   ]
  },
  {
   "cell_type": "code",
   "execution_count": 11,
   "metadata": {
    "collapsed": true
   },
   "outputs": [
    {
     "data": {
      "text/html": [
       "<div>\n",
       "<style scoped>\n",
       "    .dataframe tbody tr th:only-of-type {\n",
       "        vertical-align: middle;\n",
       "    }\n",
       "\n",
       "    .dataframe tbody tr th {\n",
       "        vertical-align: top;\n",
       "    }\n",
       "\n",
       "    .dataframe thead th {\n",
       "        text-align: right;\n",
       "    }\n",
       "</style>\n",
       "<table border=\"1\" class=\"dataframe\">\n",
       "  <thead>\n",
       "    <tr style=\"text-align: right;\">\n",
       "      <th></th>\n",
       "      <th>Unnamed: 0</th>\n",
       "      <th>Unnamed: 0.1</th>\n",
       "      <th>id</th>\n",
       "      <th>title</th>\n",
       "      <th>body</th>\n",
       "      <th>accepted_answer_id</th>\n",
       "      <th>answer_count</th>\n",
       "      <th>comment_count</th>\n",
       "      <th>community_owned_date</th>\n",
       "      <th>creation_date</th>\n",
       "      <th>...</th>\n",
       "      <th>seaborn</th>\n",
       "      <th>geospatial</th>\n",
       "      <th>stata</th>\n",
       "      <th>plyr</th>\n",
       "      <th>pie-chart</th>\n",
       "      <th>graphviz</th>\n",
       "      <th>spss</th>\n",
       "      <th>diagram</th>\n",
       "      <th>qlikview</th>\n",
       "      <th>altair</th>\n",
       "    </tr>\n",
       "  </thead>\n",
       "  <tbody>\n",
       "    <tr>\n",
       "      <td>468670</td>\n",
       "      <td>468670</td>\n",
       "      <td>468670</td>\n",
       "      <td>6460450</td>\n",
       "      <td>how does inline functions expose internal data...</td>\n",
       "      <td>&lt;p&gt;I hear this a lot of times that: \"inline fu...</td>\n",
       "      <td>6460507.0</td>\n",
       "      <td>3</td>\n",
       "      <td>1</td>\n",
       "      <td>NaN</td>\n",
       "      <td>2011-06-23 20:50:49.553000+00:00</td>\n",
       "      <td>...</td>\n",
       "      <td>0</td>\n",
       "      <td>0</td>\n",
       "      <td>0</td>\n",
       "      <td>0</td>\n",
       "      <td>0</td>\n",
       "      <td>0</td>\n",
       "      <td>0</td>\n",
       "      <td>0</td>\n",
       "      <td>0</td>\n",
       "      <td>0</td>\n",
       "    </tr>\n",
       "    <tr>\n",
       "      <td>435508</td>\n",
       "      <td>435508</td>\n",
       "      <td>435508</td>\n",
       "      <td>26975575</td>\n",
       "      <td>iOS stack Animations in series</td>\n",
       "      <td>&lt;p&gt;I would like to create a set of animations ...</td>\n",
       "      <td>26975725.0</td>\n",
       "      <td>2</td>\n",
       "      <td>1</td>\n",
       "      <td>NaN</td>\n",
       "      <td>2014-11-17 15:04:44.453000+00:00</td>\n",
       "      <td>...</td>\n",
       "      <td>0</td>\n",
       "      <td>0</td>\n",
       "      <td>0</td>\n",
       "      <td>0</td>\n",
       "      <td>0</td>\n",
       "      <td>0</td>\n",
       "      <td>0</td>\n",
       "      <td>0</td>\n",
       "      <td>0</td>\n",
       "      <td>0</td>\n",
       "    </tr>\n",
       "    <tr>\n",
       "      <td>386127</td>\n",
       "      <td>386127</td>\n",
       "      <td>386127</td>\n",
       "      <td>22047085</td>\n",
       "      <td>Using the css3 animation property 'alternate' ...</td>\n",
       "      <td>&lt;p&gt;I've set up 3 divs to animate in a wavelike...</td>\n",
       "      <td>NaN</td>\n",
       "      <td>0</td>\n",
       "      <td>8</td>\n",
       "      <td>NaN</td>\n",
       "      <td>2014-02-26 16:17:31.413000+00:00</td>\n",
       "      <td>...</td>\n",
       "      <td>0</td>\n",
       "      <td>0</td>\n",
       "      <td>0</td>\n",
       "      <td>0</td>\n",
       "      <td>0</td>\n",
       "      <td>0</td>\n",
       "      <td>0</td>\n",
       "      <td>0</td>\n",
       "      <td>0</td>\n",
       "      <td>0</td>\n",
       "    </tr>\n",
       "  </tbody>\n",
       "</table>\n",
       "<p>3 rows × 72 columns</p>\n",
       "</div>"
      ],
      "text/plain": [
       "        Unnamed: 0  Unnamed: 0.1        id  \\\n",
       "468670      468670        468670   6460450   \n",
       "435508      435508        435508  26975575   \n",
       "386127      386127        386127  22047085   \n",
       "\n",
       "                                                    title  \\\n",
       "468670  how does inline functions expose internal data...   \n",
       "435508                     iOS stack Animations in series   \n",
       "386127  Using the css3 animation property 'alternate' ...   \n",
       "\n",
       "                                                     body  accepted_answer_id  \\\n",
       "468670  <p>I hear this a lot of times that: \"inline fu...           6460507.0   \n",
       "435508  <p>I would like to create a set of animations ...          26975725.0   \n",
       "386127  <p>I've set up 3 divs to animate in a wavelike...                 NaN   \n",
       "\n",
       "        answer_count  comment_count community_owned_date  \\\n",
       "468670             3              1                  NaN   \n",
       "435508             2              1                  NaN   \n",
       "386127             0              8                  NaN   \n",
       "\n",
       "                           creation_date  ...  seaborn geospatial stata plyr  \\\n",
       "468670  2011-06-23 20:50:49.553000+00:00  ...        0          0     0    0   \n",
       "435508  2014-11-17 15:04:44.453000+00:00  ...        0          0     0    0   \n",
       "386127  2014-02-26 16:17:31.413000+00:00  ...        0          0     0    0   \n",
       "\n",
       "        pie-chart graphviz  spss  diagram  qlikview  altair  \n",
       "468670          0        0     0        0         0       0  \n",
       "435508          0        0     0        0         0       0  \n",
       "386127          0        0     0        0         0       0  \n",
       "\n",
       "[3 rows x 72 columns]"
      ]
     },
     "execution_count": 11,
     "metadata": {},
     "output_type": "execute_result"
    }
   ],
   "source": [
    "questions_sample.head(3)"
   ]
  },
  {
   "cell_type": "markdown",
   "metadata": {},
   "source": [
    "# Tokenizer"
   ]
  },
  {
   "cell_type": "code",
   "execution_count": 12,
   "metadata": {},
   "outputs": [],
   "source": [
    "import string\n",
    "import spacy\n",
    "from spacy.lang.en.stop_words import STOP_WORDS\n",
    "from spacy.lang.en import English\n",
    "\n",
    "# Create our list of punctuation marks\n",
    "punctuations = string.punctuation\n",
    "\n",
    "# Create our list of stopwords\n",
    "nlp = spacy.load('en')\n",
    "stop_words = spacy.lang.en.stop_words.STOP_WORDS\n",
    "\n",
    "# Load English tokenizer, tagger, parser, NER and word vectors\n",
    "parser = English()\n",
    "\n",
    "# Creating our tokenizer function\n",
    "def spacy_tokenizer(sentence):\n",
    "    # gets just the txt, without the html tags\n",
    "    txt = BeautifulSoup(sentence, 'html.parser').get_text()\n",
    "    \n",
    "    # Creating our token object, which is used to create documents with linguistic annotations.\n",
    "    mytokens = parser(txt)\n",
    "\n",
    "    # Lemmatizing each token and converting each token into lowercase\n",
    "    mytokens = [ word.lemma_.lower().strip() if word.lemma_ != \"-PRON-\" else word.lower_ for word in mytokens ]\n",
    "\n",
    "    # Removing stop words\n",
    "    mytokens = [ word for word in mytokens if word not in stop_words and word not in punctuations ]\n",
    "\n",
    "    # return preprocessed list of tokens\n",
    "    return mytokens"
   ]
  },
  {
   "cell_type": "code",
   "execution_count": 14,
   "metadata": {},
   "outputs": [
    {
     "name": "stderr",
     "output_type": "stream",
     "text": [
      "IOPub data rate exceeded.\n",
      "The notebook server will temporarily stop sending output\n",
      "to the client in order to avoid crashing it.\n",
      "To change this limit, set the config variable\n",
      "`--NotebookApp.iopub_data_rate_limit`.\n",
      "\n",
      "Current values:\n",
      "NotebookApp.iopub_data_rate_limit=1000000.0 (bytes/sec)\n",
      "NotebookApp.rate_limit_window=3.0 (secs)\n",
      "\n"
     ]
    }
   ],
   "source": [
    "# try to run the tokenizer manually to inspect results\n",
    "# can only work for samples\n",
    "\n",
    "# helper function, takes in words, and dictionary, and outputs a list representing \n",
    "def text2bow(words: List[str], dictionary: Dict[str, int]) -> List[Tuple[int, int]]:\n",
    "    word_frequences = collections.defaultdict(int)\n",
    "    for word in words:\n",
    "        if word not in dictionary:\n",
    "            dictionary[word] = len(dictionary)\n",
    "        word_frequences[dictionary[word]] += 1\n",
    "    return list(word_frequences.items())\n",
    "\n",
    "def gen_ngrams_questions(questions):\n",
    "    dictionary = {}\n",
    "    bow_list = []\n",
    "    questions_body = questions[\"body\"]\n",
    "    for q in questions_body:\n",
    "        q_tokens = spacy_tokenizer(q)\n",
    "        bow = text2bow(q_tokens, dictionary)\n",
    "        bow_list.append(bow)\n",
    "    results = {\"bow_representation\" : bow_list, \"dictionary\" : dictionary}\n",
    "    return(results)\n",
    "\n",
    "results = gen_ngrams_questions(questions_sample)\n",
    "print(\"BOW representations ===================\")\n",
    "print(results[\"bow_representation\"])\n",
    "print(\"Dictionary ===================\")\n",
    "print(results[\"dictionary\"])\n"
   ]
  },
  {
   "cell_type": "markdown",
   "metadata": {},
   "source": [
    "# Cleaner (Transformer)"
   ]
  },
  {
   "cell_type": "code",
   "execution_count": 16,
   "metadata": {},
   "outputs": [],
   "source": [
    "# Custom transformer using spaCy\n",
    "class predictors(TransformerMixin):\n",
    "    def transform(self, X, **transform_params):\n",
    "        # Cleaning Text\n",
    "        return [clean_text(text) for text in X]\n",
    "\n",
    "    def fit(self, X, y=None, **fit_params):\n",
    "        return self\n",
    "\n",
    "    def get_params(self, deep=True):\n",
    "        return {}\n",
    "\n",
    "# Basic function to clean the text\n",
    "def clean_text(text):\n",
    "    # Removing spaces and converting text into lowercase\n",
    "    return text.strip().lower()"
   ]
  },
  {
   "cell_type": "markdown",
   "metadata": {},
   "source": [
    "# Vectorization Feature Engineering (TF-IDF)"
   ]
  },
  {
   "cell_type": "code",
   "execution_count": 17,
   "metadata": {},
   "outputs": [
    {
     "data": {
      "text/plain": [
       "CountVectorizer(analyzer='word', binary=False, decode_error='strict',\n",
       "                dtype=<class 'numpy.int64'>, encoding='utf-8', input='content',\n",
       "                lowercase=True, max_df=1.0, max_features=None, min_df=1,\n",
       "                ngram_range=(1, 1), preprocessor=None, stop_words=None,\n",
       "                strip_accents=None, token_pattern='(?u)\\\\b\\\\w\\\\w+\\\\b',\n",
       "                tokenizer=<function spacy_tokenizer at 0x7fb98af184d0>,\n",
       "                vocabulary=None)"
      ]
     },
     "execution_count": 17,
     "metadata": {},
     "output_type": "execute_result"
    }
   ],
   "source": [
    "bow_vector = CountVectorizer(tokenizer = spacy_tokenizer, ngram_range=(1,1))\n",
    "bow_vector"
   ]
  },
  {
   "cell_type": "code",
   "execution_count": 30,
   "metadata": {},
   "outputs": [
    {
     "data": {
      "text/plain": [
       "CountVectorizer(analyzer='word', binary=False, decode_error='strict',\n",
       "                dtype=<class 'numpy.int64'>, encoding='utf-8', input='content',\n",
       "                lowercase=True, max_df=1.0, max_features=None, min_df=1,\n",
       "                ngram_range=(5, 5), preprocessor=None, stop_words=None,\n",
       "                strip_accents=None, token_pattern='(?u)\\\\b\\\\w\\\\w+\\\\b',\n",
       "                tokenizer=<function spacy_tokenizer at 0x7fb98af184d0>,\n",
       "                vocabulary=None)"
      ]
     },
     "execution_count": 30,
     "metadata": {},
     "output_type": "execute_result"
    }
   ],
   "source": [
    "bow_vector_2 = CountVectorizer(tokenizer = spacy_tokenizer, ngram_range=(5,5))\n",
    "bow_vector_2"
   ]
  },
  {
   "cell_type": "code",
   "execution_count": 18,
   "metadata": {},
   "outputs": [
    {
     "data": {
      "text/plain": [
       "TfidfVectorizer(analyzer='word', binary=False, decode_error='strict',\n",
       "                dtype=<class 'numpy.float64'>, encoding='utf-8',\n",
       "                input='content', lowercase=True, max_df=1.0, max_features=None,\n",
       "                min_df=1, ngram_range=(1, 1), norm='l2', preprocessor=None,\n",
       "                smooth_idf=True, stop_words=None, strip_accents=None,\n",
       "                sublinear_tf=False, token_pattern='(?u)\\\\b\\\\w\\\\w+\\\\b',\n",
       "                tokenizer=<function spacy_tokenizer at 0x7fb98af184d0>,\n",
       "                use_idf=True, vocabulary=None)"
      ]
     },
     "execution_count": 18,
     "metadata": {},
     "output_type": "execute_result"
    }
   ],
   "source": [
    "tfidf_vector = TfidfVectorizer(tokenizer = spacy_tokenizer)\n",
    "tfidf_vector"
   ]
  },
  {
   "cell_type": "markdown",
   "metadata": {},
   "source": [
    "# Splitting The Data into Training and Test Sets"
   ]
  },
  {
   "cell_type": "code",
   "execution_count": 19,
   "metadata": {},
   "outputs": [
    {
     "name": "stdout",
     "output_type": "stream",
     "text": [
      "train X and y\n",
      "(4200,)\n",
      "(4200,)\n",
      "test X and y\n",
      "(1800,)\n",
      "(1800,)\n"
     ]
    }
   ],
   "source": [
    "from sklearn.model_selection import train_test_split\n",
    "\n",
    "X = questions_sample[\"body\"] # the features we want to analyze\n",
    "\n",
    "# TODO replace with real label(s)\n",
    "questions_sample[\"tmp\"] = questions_sample[\"accepted_answer_id\"] > 0\n",
    "questions_sample[\"has_answer\"] = questions_sample[\"tmp\"].astype(int)\n",
    "\n",
    "ylabels = questions_sample[\"has_answer\"] # the labels, or answers, we want to test against\n",
    "\n",
    "X_train, X_test, y_train, y_test = train_test_split(X, ylabels, test_size = 0.3)\n",
    "\n",
    "print(\"train X and y\")\n",
    "print(X_train.shape)\n",
    "print(y_train.shape)\n",
    "print(\"test X and y\")\n",
    "print(X_test.shape)\n",
    "print(y_test.shape)"
   ]
  },
  {
   "cell_type": "markdown",
   "metadata": {},
   "source": [
    "# Creating a Pipeline and Generating the Model"
   ]
  },
  {
   "cell_type": "code",
   "execution_count": 38,
   "metadata": {},
   "outputs": [],
   "source": [
    "# get the term matrix\n",
    "\n",
    "# Logistic Regression Classifier\n",
    "from sklearn.linear_model import LogisticRegression\n",
    "classifier = LogisticRegression()\n",
    "vectorizer = tfidf_vector\n",
    "\n",
    "# Create pipeline using Bag of Words\n",
    "pipe = Pipeline([(\"cleaner\", predictors()),\n",
    "                 ('vectorizer', vectorizer)])\n",
    "\n",
    "# model generation\n",
    "wm = pipe.fit_transform(X_train)\n",
    "\n",
    "tokens = vectorizer.get_feature_names()"
   ]
  },
  {
   "cell_type": "code",
   "execution_count": 40,
   "metadata": {},
   "outputs": [
    {
     "name": "stdout",
     "output_type": "stream",
     "text": [
      "(4200, 84660)\n",
      "[[0. 0. 0. ... 0. 0. 0.]\n",
      " [0. 0. 0. ... 0. 0. 0.]\n",
      " [0. 0. 0. ... 0. 0. 0.]\n",
      " ...\n",
      " [0. 0. 0. ... 0. 0. 0.]\n",
      " [0. 0. 0. ... 0. 0. 0.]\n",
      " [0. 0. 0. ... 0. 0. 0.]]\n"
     ]
    }
   ],
   "source": [
    "print(wm.shape)\n",
    "print(wm.toarray())"
   ]
  },
  {
   "cell_type": "code",
   "execution_count": null,
   "metadata": {},
   "outputs": [],
   "source": [
    "# Logistic Regression Classifier\n",
    "from sklearn.linear_model import LogisticRegression\n",
    "classifier = LogisticRegression()\n",
    "vectorizer = bow_vector\n",
    "\n",
    "# Create pipeline using Bag of Words\n",
    "pipe = Pipeline([(\"cleaner\", predictors()),\n",
    "                 ('vectorizer', vectorizer),\n",
    "                 ('classifier', classifier)])"
   ]
  },
  {
   "cell_type": "markdown",
   "metadata": {},
   "source": [
    "# Eval of Model"
   ]
  },
  {
   "cell_type": "code",
   "execution_count": 24,
   "metadata": {},
   "outputs": [
    {
     "name": "stdout",
     "output_type": "stream",
     "text": [
      "Logistic Regression Accuracy: 0.5\n",
      "Logistic Regression Precision: 0.5082304526748971\n",
      "Logistic Regression Recall: 0.5393013100436681\n"
     ]
    }
   ],
   "source": [
    "from sklearn import metrics\n",
    "# Predicting with a test dataset\n",
    "predicted = pipe.predict(X_test)\n",
    "\n",
    "# Model Accuracy\n",
    "print(\"Logistic Regression Accuracy:\",metrics.accuracy_score(y_test, predicted))\n",
    "print(\"Logistic Regression Precision:\",metrics.precision_score(y_test, predicted))\n",
    "print(\"Logistic Regression Recall:\",metrics.recall_score(y_test, predicted))"
   ]
  }
 ],
 "metadata": {
  "kernelspec": {
   "display_name": "Python 3",
   "language": "python",
   "name": "python3"
  },
  "language_info": {
   "codemirror_mode": {
    "name": "ipython",
    "version": 3
   },
   "file_extension": ".py",
   "mimetype": "text/x-python",
   "name": "python",
   "nbconvert_exporter": "python",
   "pygments_lexer": "ipython3",
   "version": "3.7.4"
  }
 },
 "nbformat": 4,
 "nbformat_minor": 2
}
