{
 "cells": [
  {
   "cell_type": "code",
   "execution_count": null,
   "metadata": {},
   "outputs": [],
   "source": [
    "import gensim\n",
    "from gensim.utils import simple_preprocess\n",
    "from gensim.parsing.preprocessing import STOPWORDS\n",
    "from nltk.stem import WordNetLemmatizer, SnowballStemmer\n",
    "from nltk.stem.porter import *\n",
    "import numpy as np\n",
    "np.random.seed(2019)\n",
    "\n",
    "import nltk\n",
    "nltk.download('wordnet')\n"
   ]
  },
  {
   "cell_type": "code",
   "execution_count": 93,
   "metadata": {},
   "outputs": [
    {
     "data": {
      "text/plain": [
       "'boostcompilationconfigurerhelgraph-tool'"
      ]
     },
     "execution_count": 93,
     "metadata": {},
     "output_type": "execute_result"
    }
   ],
   "source": [
    "questions = pd.read_csv('PostQuestionsFiltered.tsv', delimiter='\\t', encoding='utf-8', nrows=1000)\n",
    "\n",
    "ques_title = questions[['body']]\n",
    "\n",
    "ques_title['index'] = ques_title.index\n",
    "\n",
    "titles = ques_title"
   ]
  },
  {
   "cell_type": "code",
   "execution_count": 98,
   "metadata": {},
   "outputs": [
    {
     "name": "stdout",
     "output_type": "stream",
     "text": [
      "                                                body  index\n",
      "0  <p>I need to use Python's graph-tool on a RHEL...      0\n",
      "1  <p>I need a HashMap, which the key is String a...      1\n",
      "2  <p>I've to make a map with multiple directions...      2\n",
      "3  <p>I'm working on a project using React for my...      3\n",
      "4  <p>I wrote a simple program to monitor my ping...      4\n"
     ]
    }
   ],
   "source": [
    "print(titles[:5])"
   ]
  },
  {
   "cell_type": "code",
   "execution_count": 100,
   "metadata": {},
   "outputs": [],
   "source": [
    "def lemmatize_stemming(text):\n",
    "    stemmer = PorterStemmer()\n",
    "    return stemmer.stem(WordNetLemmatizer().lemmatize(text, pos='v'))"
   ]
  },
  {
   "cell_type": "code",
   "execution_count": 101,
   "metadata": {},
   "outputs": [],
   "source": [
    "def preprocess(text):\n",
    "    result = []\n",
    "    for token in gensim.utils.simple_preprocess(text):\n",
    "        if token not in gensim.parsing.preprocessing.STOPWORDS and len(token) > 3:\n",
    "            result.append(lemmatize_stemming(token))\n",
    "    return result"
   ]
  },
  {
   "cell_type": "code",
   "execution_count": null,
   "metadata": {},
   "outputs": [],
   "source": [
    "title_sample = titles[titles['index'] == 90].values[0][0]\n",
    "\n",
    "words = []\n",
    "for word in title_sample.split(' '):\n",
    "    words.append(word)\n",
    "\n",
    "processed_title = titles['body'].map(preprocess)\n",
    "\n",
    "bow_corpus = [dictionary.doc2bow(doc) for doc in processed_title]"
   ]
  },
  {
   "cell_type": "code",
   "execution_count": 109,
   "metadata": {},
   "outputs": [],
   "source": [
    "lda_model = gensim.models.LdaMulticore(bow_corpus, num_topics=10, id2word=dictionary, passes=2, workers=2)"
   ]
  },
  {
   "cell_type": "code",
   "execution_count": 113,
   "metadata": {},
   "outputs": [
    {
     "name": "stdout",
     "output_type": "stream",
     "text": [
      "\n",
      "Score: 0.7287601232528687\t \n",
      "Topic: 0.039*\"valu\" + 0.025*\"data\" + 0.022*\"line\" + 0.018*\"file\" + 0.017*\"function\" + 0.016*\"http\" + 0.014*\"map\" + 0.013*\"googl\" + 0.013*\"marker\" + 0.012*\"point\"\n",
      "\n",
      "Score: 0.19449633359909058\t \n",
      "Topic: 0.017*\"applic\" + 0.015*\"public\" + 0.015*\"class\" + 0.014*\"string\" + 0.014*\"googl\" + 0.012*\"null\" + 0.012*\"error\" + 0.012*\"bitmap\" + 0.011*\"float\" + 0.011*\"function\"\n",
      "\n",
      "Score: 0.06629209965467453\t \n",
      "Topic: 0.024*\"function\" + 0.021*\"class\" + 0.015*\"text\" + 0.015*\"height\" + 0.015*\"info\" + 0.014*\"attr\" + 0.013*\"margin\" + 0.013*\"style\" + 0.013*\"font\" + 0.013*\"return\"\n"
     ]
    }
   ],
   "source": [
    "for index, score in sorted(lda_model[bow_corpus[90]], key=lambda tup: -1*tup[1]):\n",
    "    print(\"\\nScore: {}\\t \\nTopic: {}\".format(score, lda_model.print_topic(index, 10)))"
   ]
  }
 ],
 "metadata": {
  "kernelspec": {
   "display_name": "Python 3",
   "language": "python",
   "name": "python3"
  },
  "language_info": {
   "codemirror_mode": {
    "name": "ipython",
    "version": 3
   },
   "file_extension": ".py",
   "mimetype": "text/x-python",
   "name": "python",
   "nbconvert_exporter": "python",
   "pygments_lexer": "ipython3",
   "version": "3.6.5"
  }
 },
 "nbformat": 4,
 "nbformat_minor": 2
}
