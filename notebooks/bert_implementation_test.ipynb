{
 "cells": [
  {
   "cell_type": "markdown",
   "metadata": {},
   "source": [
    "# About\n",
    "\n",
    "Test for BERT implementations"
   ]
  },
  {
   "cell_type": "code",
   "execution_count": 1,
   "metadata": {},
   "outputs": [
    {
     "data": {
      "text/plain": [
       "True"
      ]
     },
     "execution_count": 1,
     "metadata": {},
     "output_type": "execute_result"
    }
   ],
   "source": [
    "# checks if GPU is available\n",
    "import torch\n",
    "torch.cuda.is_available()"
   ]
  },
  {
   "cell_type": "markdown",
   "metadata": {},
   "source": [
    "# quick look at the various data"
   ]
  },
  {
   "cell_type": "code",
   "execution_count": 2,
   "metadata": {},
   "outputs": [],
   "source": [
    "import os\n",
    "import pandas as pd\n",
    "import numpy as np\n",
    "\n",
    "# path to the data\n",
    "p_base_dir = \"/mnt/disks/w210-jcgy-bucket/w210-data-output-new-q-and-a-files-with-separate-cleaned-answer-bodies\"\n",
    "p_questions_11k = os.path.join(p_base_dir, \"new_qs_11k.csv\")\n",
    "p_questions_22k = os.path.join(p_base_dir, \"new_qs_22k.csv\")\n",
    "p_answers = os.path.join(p_base_dir, \"PostAnswersFiltered_V4_cleaned_answer_bodies.tsv\")\n",
    "\n",
    "# path to list of questions\n",
    "p_check_questions = os.path.join(p_base_dir, \"Sample Questions V 2.csv\")"
   ]
  },
  {
   "cell_type": "markdown",
   "metadata": {},
   "source": [
    "## check questions\n",
    "\n",
    "the list of questions used for checking"
   ]
  },
  {
   "cell_type": "code",
   "execution_count": 3,
   "metadata": {},
   "outputs": [],
   "source": [
    "check_questions = pd.read_csv(p_check_questions, sep = \"\\t\", keep_default_na = False, encoding = \"utf-8\")"
   ]
  },
  {
   "cell_type": "code",
   "execution_count": 9,
   "metadata": {},
   "outputs": [
    {
     "data": {
      "text/html": [
       "<div>\n",
       "<style scoped>\n",
       "    .dataframe tbody tr th:only-of-type {\n",
       "        vertical-align: middle;\n",
       "    }\n",
       "\n",
       "    .dataframe tbody tr th {\n",
       "        vertical-align: top;\n",
       "    }\n",
       "\n",
       "    .dataframe thead th {\n",
       "        text-align: right;\n",
       "    }\n",
       "</style>\n",
       "<table border=\"1\" class=\"dataframe\">\n",
       "  <thead>\n",
       "    <tr style=\"text-align: right;\">\n",
       "      <th></th>\n",
       "      <th>question</th>\n",
       "    </tr>\n",
       "  </thead>\n",
       "  <tbody>\n",
       "    <tr>\n",
       "      <th>0</th>\n",
       "      <td>Is there a way to visualize the distribution o...</td>\n",
       "    </tr>\n",
       "    <tr>\n",
       "      <th>1</th>\n",
       "      <td>How do I show data on a map?</td>\n",
       "    </tr>\n",
       "    <tr>\n",
       "      <th>2</th>\n",
       "      <td>How can I illustrate changes in my data over t...</td>\n",
       "    </tr>\n",
       "  </tbody>\n",
       "</table>\n",
       "</div>"
      ],
      "text/plain": [
       "                                            question\n",
       "0  Is there a way to visualize the distribution o...\n",
       "1                       How do I show data on a map?\n",
       "2  How can I illustrate changes in my data over t..."
      ]
     },
     "execution_count": 9,
     "metadata": {},
     "output_type": "execute_result"
    }
   ],
   "source": [
    "check_questions.head(3)"
   ]
  },
  {
   "cell_type": "markdown",
   "metadata": {},
   "source": [
    "## answers\n",
    "\n",
    "the answers from stackoverflow"
   ]
  },
  {
   "cell_type": "code",
   "execution_count": 4,
   "metadata": {},
   "outputs": [],
   "source": [
    "answers = pd.read_csv(p_answers, sep = \"\\t\", keep_default_na = False, encoding = \"utf-8\")"
   ]
  },
  {
   "cell_type": "code",
   "execution_count": 11,
   "metadata": {},
   "outputs": [
    {
     "data": {
      "text/plain": [
       "(542216, 23)"
      ]
     },
     "execution_count": 11,
     "metadata": {},
     "output_type": "execute_result"
    }
   ],
   "source": [
    "answers.shape"
   ]
  },
  {
   "cell_type": "code",
   "execution_count": 12,
   "metadata": {},
   "outputs": [
    {
     "data": {
      "text/html": [
       "<div>\n",
       "<style scoped>\n",
       "    .dataframe tbody tr th:only-of-type {\n",
       "        vertical-align: middle;\n",
       "    }\n",
       "\n",
       "    .dataframe tbody tr th {\n",
       "        vertical-align: top;\n",
       "    }\n",
       "\n",
       "    .dataframe thead th {\n",
       "        text-align: right;\n",
       "    }\n",
       "</style>\n",
       "<table border=\"1\" class=\"dataframe\">\n",
       "  <thead>\n",
       "    <tr style=\"text-align: right;\">\n",
       "      <th></th>\n",
       "      <th>id</th>\n",
       "      <th>title</th>\n",
       "      <th>body</th>\n",
       "      <th>accepted_answer_id</th>\n",
       "      <th>answer_count</th>\n",
       "      <th>comment_count</th>\n",
       "      <th>community_owned_date</th>\n",
       "      <th>creation_date</th>\n",
       "      <th>favorite_count</th>\n",
       "      <th>last_activity_date</th>\n",
       "      <th>...</th>\n",
       "      <th>owner_display_name</th>\n",
       "      <th>owner_user_id</th>\n",
       "      <th>parent_id</th>\n",
       "      <th>post_type_id</th>\n",
       "      <th>score</th>\n",
       "      <th>tags</th>\n",
       "      <th>view_count</th>\n",
       "      <th>images_list</th>\n",
       "      <th>code_snippets</th>\n",
       "      <th>cleaned_body</th>\n",
       "    </tr>\n",
       "  </thead>\n",
       "  <tbody>\n",
       "    <tr>\n",
       "      <th>0</th>\n",
       "      <td>15956654</td>\n",
       "      <td></td>\n",
       "      <td>&lt;p&gt;Go to Edit --&gt; Preferences --&gt; Python and s...</td>\n",
       "      <td></td>\n",
       "      <td></td>\n",
       "      <td>0</td>\n",
       "      <td></td>\n",
       "      <td>2013-04-11 18:56:38.187000+00:00</td>\n",
       "      <td></td>\n",
       "      <td>2013-04-11 18:56:38.187000+00:00</td>\n",
       "      <td>...</td>\n",
       "      <td></td>\n",
       "      <td>1473765.0</td>\n",
       "      <td>15955808</td>\n",
       "      <td>2</td>\n",
       "      <td>0</td>\n",
       "      <td></td>\n",
       "      <td></td>\n",
       "      <td>[]</td>\n",
       "      <td>[]</td>\n",
       "      <td>Go to Edit --&gt; Preferences --&gt; Python and sel...</td>\n",
       "    </tr>\n",
       "    <tr>\n",
       "      <th>1</th>\n",
       "      <td>15957626</td>\n",
       "      <td></td>\n",
       "      <td>&lt;p&gt;Like @Baptiste said, just use facetting. An...</td>\n",
       "      <td></td>\n",
       "      <td></td>\n",
       "      <td>0</td>\n",
       "      <td></td>\n",
       "      <td>2013-04-11 19:51:27.630000+00:00</td>\n",
       "      <td></td>\n",
       "      <td>2013-04-11 19:51:27.630000+00:00</td>\n",
       "      <td>...</td>\n",
       "      <td></td>\n",
       "      <td>1033808.0</td>\n",
       "      <td>15957399</td>\n",
       "      <td>2</td>\n",
       "      <td>0</td>\n",
       "      <td></td>\n",
       "      <td></td>\n",
       "      <td>[&lt;img alt=\"enter image description here\" src=\"...</td>\n",
       "      <td>[&lt;code&gt;ggplot(aes(x = mpg), data = mtcars) + \\...</td>\n",
       "      <td>Like @Baptiste said, just use facetting. An e...</td>\n",
       "    </tr>\n",
       "    <tr>\n",
       "      <th>2</th>\n",
       "      <td>15957907</td>\n",
       "      <td></td>\n",
       "      <td>&lt;p&gt;Without spending a lot of time digging thro...</td>\n",
       "      <td></td>\n",
       "      <td></td>\n",
       "      <td>0</td>\n",
       "      <td></td>\n",
       "      <td>2013-04-11 20:07:16.230000+00:00</td>\n",
       "      <td></td>\n",
       "      <td>2013-04-11 20:07:16.230000+00:00</td>\n",
       "      <td>...</td>\n",
       "      <td></td>\n",
       "      <td>669143.0</td>\n",
       "      <td>15954672</td>\n",
       "      <td>2</td>\n",
       "      <td>0</td>\n",
       "      <td></td>\n",
       "      <td></td>\n",
       "      <td>[]</td>\n",
       "      <td>[&lt;code&gt;digraph G {\\r\\r\\r\\n    nodesep = 0.5;\\r...</td>\n",
       "      <td>Without spending a lot of time digging throug...</td>\n",
       "    </tr>\n",
       "  </tbody>\n",
       "</table>\n",
       "<p>3 rows × 23 columns</p>\n",
       "</div>"
      ],
      "text/plain": [
       "         id title                                               body  \\\n",
       "0  15956654        <p>Go to Edit --> Preferences --> Python and s...   \n",
       "1  15957626        <p>Like @Baptiste said, just use facetting. An...   \n",
       "2  15957907        <p>Without spending a lot of time digging thro...   \n",
       "\n",
       "  accepted_answer_id answer_count  comment_count community_owned_date  \\\n",
       "0                                              0                        \n",
       "1                                              0                        \n",
       "2                                              0                        \n",
       "\n",
       "                      creation_date favorite_count  \\\n",
       "0  2013-04-11 18:56:38.187000+00:00                  \n",
       "1  2013-04-11 19:51:27.630000+00:00                  \n",
       "2  2013-04-11 20:07:16.230000+00:00                  \n",
       "\n",
       "                 last_activity_date  ... owner_display_name owner_user_id  \\\n",
       "0  2013-04-11 18:56:38.187000+00:00  ...                        1473765.0   \n",
       "1  2013-04-11 19:51:27.630000+00:00  ...                        1033808.0   \n",
       "2  2013-04-11 20:07:16.230000+00:00  ...                         669143.0   \n",
       "\n",
       "  parent_id post_type_id score  tags  view_count  \\\n",
       "0  15955808            2     0                     \n",
       "1  15957399            2     0                     \n",
       "2  15954672            2     0                     \n",
       "\n",
       "                                         images_list  \\\n",
       "0                                                 []   \n",
       "1  [<img alt=\"enter image description here\" src=\"...   \n",
       "2                                                 []   \n",
       "\n",
       "                                       code_snippets  \\\n",
       "0                                                 []   \n",
       "1  [<code>ggplot(aes(x = mpg), data = mtcars) + \\...   \n",
       "2  [<code>digraph G {\\r\\r\\r\\n    nodesep = 0.5;\\r...   \n",
       "\n",
       "                                        cleaned_body  \n",
       "0   Go to Edit --> Preferences --> Python and sel...  \n",
       "1   Like @Baptiste said, just use facetting. An e...  \n",
       "2   Without spending a lot of time digging throug...  \n",
       "\n",
       "[3 rows x 23 columns]"
      ]
     },
     "execution_count": 12,
     "metadata": {},
     "output_type": "execute_result"
    }
   ],
   "source": [
    "answers.head(3)"
   ]
  },
  {
   "cell_type": "code",
   "execution_count": 13,
   "metadata": {},
   "outputs": [
    {
     "name": "stdout",
     "output_type": "stream",
     "text": [
      "<class 'pandas.core.frame.DataFrame'>\n",
      "RangeIndex: 542216 entries, 0 to 542215\n",
      "Data columns (total 23 columns):\n",
      "id                          542216 non-null int64\n",
      "title                       542216 non-null object\n",
      "body                        542216 non-null object\n",
      "accepted_answer_id          542216 non-null object\n",
      "answer_count                542216 non-null object\n",
      "comment_count               542216 non-null int64\n",
      "community_owned_date        542216 non-null object\n",
      "creation_date               542216 non-null object\n",
      "favorite_count              542216 non-null object\n",
      "last_activity_date          542216 non-null object\n",
      "last_edit_date              542216 non-null object\n",
      "last_editor_display_name    542216 non-null object\n",
      "last_editor_user_id         542216 non-null object\n",
      "owner_display_name          542216 non-null object\n",
      "owner_user_id               542216 non-null object\n",
      "parent_id                   542216 non-null int64\n",
      "post_type_id                542216 non-null int64\n",
      "score                       542216 non-null int64\n",
      "tags                        542216 non-null object\n",
      "view_count                  542216 non-null object\n",
      "images_list                 542216 non-null object\n",
      "code_snippets               542216 non-null object\n",
      "cleaned_body                542216 non-null object\n",
      "dtypes: int64(5), object(18)\n",
      "memory usage: 95.1+ MB\n"
     ]
    }
   ],
   "source": [
    "answers.info()"
   ]
  },
  {
   "cell_type": "markdown",
   "metadata": {},
   "source": [
    "## questions\n",
    "\n",
    "the questions from stackoverflow"
   ]
  },
  {
   "cell_type": "code",
   "execution_count": 5,
   "metadata": {},
   "outputs": [],
   "source": [
    "questions_11k = pd.read_csv(p_questions_11k, sep = \",\", keep_default_na = False, encoding = \"utf-8\")"
   ]
  },
  {
   "cell_type": "code",
   "execution_count": 15,
   "metadata": {},
   "outputs": [
    {
     "data": {
      "text/plain": [
       "(11000, 73)"
      ]
     },
     "execution_count": 15,
     "metadata": {},
     "output_type": "execute_result"
    }
   ],
   "source": [
    "questions_11k.shape"
   ]
  },
  {
   "cell_type": "code",
   "execution_count": 16,
   "metadata": {},
   "outputs": [
    {
     "data": {
      "text/html": [
       "<div>\n",
       "<style scoped>\n",
       "    .dataframe tbody tr th:only-of-type {\n",
       "        vertical-align: middle;\n",
       "    }\n",
       "\n",
       "    .dataframe tbody tr th {\n",
       "        vertical-align: top;\n",
       "    }\n",
       "\n",
       "    .dataframe thead th {\n",
       "        text-align: right;\n",
       "    }\n",
       "</style>\n",
       "<table border=\"1\" class=\"dataframe\">\n",
       "  <thead>\n",
       "    <tr style=\"text-align: right;\">\n",
       "      <th></th>\n",
       "      <th>Unnamed: 0</th>\n",
       "      <th>id</th>\n",
       "      <th>title</th>\n",
       "      <th>body</th>\n",
       "      <th>accepted_answer_id</th>\n",
       "      <th>answer_count</th>\n",
       "      <th>comment_count</th>\n",
       "      <th>community_owned_date</th>\n",
       "      <th>creation_date</th>\n",
       "      <th>favorite_count</th>\n",
       "      <th>...</th>\n",
       "      <th>plyr</th>\n",
       "      <th>pie-chart</th>\n",
       "      <th>graphviz</th>\n",
       "      <th>spss</th>\n",
       "      <th>diagram</th>\n",
       "      <th>qlikview</th>\n",
       "      <th>altair</th>\n",
       "      <th>r</th>\n",
       "      <th>parsedtags</th>\n",
       "      <th>new_tags</th>\n",
       "    </tr>\n",
       "  </thead>\n",
       "  <tbody>\n",
       "    <tr>\n",
       "      <th>0</th>\n",
       "      <td>177443</td>\n",
       "      <td>19178315</td>\n",
       "      <td>Sonar -LOC &amp; Cyclomatic complexity</td>\n",
       "      <td>&lt;p&gt;How does Sonar calculates software metrics ...</td>\n",
       "      <td></td>\n",
       "      <td>2</td>\n",
       "      <td>0</td>\n",
       "      <td></td>\n",
       "      <td>2013-10-04 09:52:38.377000+00:00</td>\n",
       "      <td></td>\n",
       "      <td>...</td>\n",
       "      <td>0</td>\n",
       "      <td>0</td>\n",
       "      <td>0</td>\n",
       "      <td>0</td>\n",
       "      <td>0</td>\n",
       "      <td>0</td>\n",
       "      <td>0</td>\n",
       "      <td>0</td>\n",
       "      <td>line</td>\n",
       "      <td>line</td>\n",
       "    </tr>\n",
       "    <tr>\n",
       "      <th>1</th>\n",
       "      <td>81483</td>\n",
       "      <td>4642828</td>\n",
       "      <td>How to get multiple years Y-axis data from a s...</td>\n",
       "      <td>&lt;p&gt;I have gas meter readings over three years ...</td>\n",
       "      <td></td>\n",
       "      <td>2</td>\n",
       "      <td>0</td>\n",
       "      <td></td>\n",
       "      <td>2011-01-10 00:39:45.173000+00:00</td>\n",
       "      <td>8.0</td>\n",
       "      <td>...</td>\n",
       "      <td>0</td>\n",
       "      <td>0</td>\n",
       "      <td>0</td>\n",
       "      <td>0</td>\n",
       "      <td>0</td>\n",
       "      <td>0</td>\n",
       "      <td>0</td>\n",
       "      <td>0</td>\n",
       "      <td>php ggplot2 plot graph</td>\n",
       "      <td>php ggplot2 plot graph</td>\n",
       "    </tr>\n",
       "    <tr>\n",
       "      <th>2</th>\n",
       "      <td>81659</td>\n",
       "      <td>4706451</td>\n",
       "      <td>How to save a figure remotely with pylab?</td>\n",
       "      <td>&lt;p&gt;I'm trying to generate a figure at a remote...</td>\n",
       "      <td>4706614.0</td>\n",
       "      <td>2</td>\n",
       "      <td>1</td>\n",
       "      <td></td>\n",
       "      <td>2011-01-16 16:11:59.350000+00:00</td>\n",
       "      <td>17.0</td>\n",
       "      <td>...</td>\n",
       "      <td>0</td>\n",
       "      <td>0</td>\n",
       "      <td>0</td>\n",
       "      <td>0</td>\n",
       "      <td>0</td>\n",
       "      <td>0</td>\n",
       "      <td>0</td>\n",
       "      <td>0</td>\n",
       "      <td>python matplotlib plot</td>\n",
       "      <td>python matplotlib plot</td>\n",
       "    </tr>\n",
       "  </tbody>\n",
       "</table>\n",
       "<p>3 rows × 73 columns</p>\n",
       "</div>"
      ],
      "text/plain": [
       "   Unnamed: 0        id                                              title  \\\n",
       "0      177443  19178315                 Sonar -LOC & Cyclomatic complexity   \n",
       "1       81483   4642828  How to get multiple years Y-axis data from a s...   \n",
       "2       81659   4706451          How to save a figure remotely with pylab?   \n",
       "\n",
       "                                                body accepted_answer_id  \\\n",
       "0  <p>How does Sonar calculates software metrics ...                      \n",
       "1  <p>I have gas meter readings over three years ...                      \n",
       "2  <p>I'm trying to generate a figure at a remote...          4706614.0   \n",
       "\n",
       "   answer_count  comment_count community_owned_date  \\\n",
       "0             2              0                        \n",
       "1             2              0                        \n",
       "2             2              1                        \n",
       "\n",
       "                      creation_date favorite_count  ... plyr pie-chart  \\\n",
       "0  2013-10-04 09:52:38.377000+00:00                 ...    0         0   \n",
       "1  2011-01-10 00:39:45.173000+00:00            8.0  ...    0         0   \n",
       "2  2011-01-16 16:11:59.350000+00:00           17.0  ...    0         0   \n",
       "\n",
       "  graphviz spss diagram qlikview altair  r               parsedtags  \\\n",
       "0        0    0       0        0      0  0                    line    \n",
       "1        0    0       0        0      0  0  php ggplot2 plot graph    \n",
       "2        0    0       0        0      0  0  python matplotlib plot    \n",
       "\n",
       "                 new_tags  \n",
       "0                    line  \n",
       "1  php ggplot2 plot graph  \n",
       "2  python matplotlib plot  \n",
       "\n",
       "[3 rows x 73 columns]"
      ]
     },
     "execution_count": 16,
     "metadata": {},
     "output_type": "execute_result"
    }
   ],
   "source": [
    "questions_11k.head(3)"
   ]
  },
  {
   "cell_type": "code",
   "execution_count": 17,
   "metadata": {},
   "outputs": [
    {
     "name": "stdout",
     "output_type": "stream",
     "text": [
      "<class 'pandas.core.frame.DataFrame'>\n",
      "RangeIndex: 11000 entries, 0 to 10999\n",
      "Data columns (total 73 columns):\n",
      "Unnamed: 0                  11000 non-null int64\n",
      "id                          11000 non-null int64\n",
      "title                       11000 non-null object\n",
      "body                        11000 non-null object\n",
      "accepted_answer_id          11000 non-null object\n",
      "answer_count                11000 non-null int64\n",
      "comment_count               11000 non-null int64\n",
      "community_owned_date        11000 non-null object\n",
      "creation_date               11000 non-null object\n",
      "favorite_count              11000 non-null object\n",
      "last_activity_date          11000 non-null object\n",
      "last_edit_date              11000 non-null object\n",
      "last_editor_display_name    11000 non-null object\n",
      "last_editor_user_id         11000 non-null object\n",
      "owner_display_name          11000 non-null object\n",
      "owner_user_id               11000 non-null object\n",
      "parent_id                   11000 non-null object\n",
      "post_type_id                11000 non-null int64\n",
      "score                       11000 non-null int64\n",
      "tags                        11000 non-null object\n",
      "view_count                  11000 non-null int64\n",
      "javascript                  11000 non-null int64\n",
      "java                        11000 non-null int64\n",
      "c#                          11000 non-null int64\n",
      "php                         11000 non-null int64\n",
      "python                      11000 non-null int64\n",
      "c++                         11000 non-null int64\n",
      "node.js                     11000 non-null int64\n",
      "objective-c                 11000 non-null int64\n",
      "vb.net                      11000 non-null int64\n",
      "scala                       11000 non-null int64\n",
      "matlab                      11000 non-null int64\n",
      "perl                        11000 non-null int64\n",
      "delphi                      11000 non-null int64\n",
      "matplotlib                  11000 non-null int64\n",
      "animation                   11000 non-null int64\n",
      "d3                          11000 non-null int64\n",
      "ggplot2                     11000 non-null int64\n",
      "plot                        11000 non-null int64\n",
      "graph                       11000 non-null int64\n",
      "chart                       11000 non-null int64\n",
      "highcharts                  11000 non-null int64\n",
      "vbscript                    11000 non-null int64\n",
      "colors                      11000 non-null int64\n",
      "pyspark                     11000 non-null int64\n",
      "dplyr                       11000 non-null int64\n",
      "f#                          11000 non-null int64\n",
      "3d                          11000 non-null int64\n",
      "sas                         11000 non-null int64\n",
      "fortran                     11000 non-null int64\n",
      "maps                        11000 non-null int64\n",
      "lisp                        11000 non-null int64\n",
      "julia                       11000 non-null int64\n",
      "powerbi                     11000 non-null int64\n",
      "drawing                     11000 non-null int64\n",
      "line                        11000 non-null int64\n",
      "plotly                      11000 non-null int64\n",
      "bar-chart                   11000 non-null int64\n",
      "visualization               11000 non-null int64\n",
      "tableau                     11000 non-null int64\n",
      "seaborn                     11000 non-null int64\n",
      "geospatial                  11000 non-null int64\n",
      "stata                       11000 non-null int64\n",
      "plyr                        11000 non-null int64\n",
      "pie-chart                   11000 non-null int64\n",
      "graphviz                    11000 non-null int64\n",
      "spss                        11000 non-null int64\n",
      "diagram                     11000 non-null int64\n",
      "qlikview                    11000 non-null int64\n",
      "altair                      11000 non-null int64\n",
      "r                           11000 non-null int64\n",
      "parsedtags                  11000 non-null object\n",
      "new_tags                    11000 non-null object\n",
      "dtypes: int64(57), object(16)\n",
      "memory usage: 6.1+ MB\n"
     ]
    }
   ],
   "source": [
    "questions_11k.info()"
   ]
  },
  {
   "cell_type": "markdown",
   "metadata": {},
   "source": [
    "## corpus, example"
   ]
  },
  {
   "cell_type": "code",
   "execution_count": null,
   "metadata": {},
   "outputs": [],
   "source": [
    "t1 = questions_11k # ends 5628 q-a pairs\n",
    "# t1 = questions_22k # ends up with 11235 q-a pairs\n",
    "t1 = t1[t1[\"accepted_answer_id\"]  != \"\"]\n",
    "t1[\"accepted_answer_id\"] = t1[\"accepted_answer_id\"].astype(float).astype(int)\n",
    "t1 = t1[[\n",
    "    \"id\"\n",
    "    , \"title\"\n",
    "    , \"tags\"\n",
    "    , \"accepted_answer_id\"\n",
    "]].rename(columns = {\n",
    "    \"id\" : \"q_id\"\n",
    "    , \"title\" : \"q_title\"\n",
    "})"
   ]
  },
  {
   "cell_type": "code",
   "execution_count": 23,
   "metadata": {},
   "outputs": [],
   "source": [
    "t2 = answers[[\n",
    "    \"id\"\n",
    "    , \"body\"\n",
    "    , \"images_list\"\n",
    "    , \"code_snippets\"\n",
    "    , \"cleaned_body\"\n",
    "]].rename(columns = {\n",
    "    \"id\" : \"a_id\"\n",
    "    , \"body\" : \"a_body\"\n",
    "    , \"images_list\" : \"a_images_list\"\n",
    "    , \"code_snippets\" : \"a_code_snippets\"\n",
    "    , \"cleaned_body\" : \"a_cleaned_body\"\n",
    "})"
   ]
  },
  {
   "cell_type": "code",
   "execution_count": 25,
   "metadata": {},
   "outputs": [],
   "source": [
    "t3 = t1.merge(\n",
    "    t2\n",
    "    , left_on = \"accepted_answer_id\"\n",
    "    , right_on = \"a_id\"\n",
    "    , how = \"inner\"\n",
    ").drop(columns = \"a_id\")"
   ]
  },
  {
   "cell_type": "code",
   "execution_count": 26,
   "metadata": {},
   "outputs": [
    {
     "data": {
      "text/html": [
       "<div>\n",
       "<style scoped>\n",
       "    .dataframe tbody tr th:only-of-type {\n",
       "        vertical-align: middle;\n",
       "    }\n",
       "\n",
       "    .dataframe tbody tr th {\n",
       "        vertical-align: top;\n",
       "    }\n",
       "\n",
       "    .dataframe thead th {\n",
       "        text-align: right;\n",
       "    }\n",
       "</style>\n",
       "<table border=\"1\" class=\"dataframe\">\n",
       "  <thead>\n",
       "    <tr style=\"text-align: right;\">\n",
       "      <th></th>\n",
       "      <th>q_id</th>\n",
       "      <th>q_title</th>\n",
       "      <th>tags</th>\n",
       "      <th>accepted_answer_id</th>\n",
       "      <th>a_body</th>\n",
       "      <th>a_images_list</th>\n",
       "      <th>a_code_snippets</th>\n",
       "      <th>a_cleaned_body</th>\n",
       "    </tr>\n",
       "  </thead>\n",
       "  <tbody>\n",
       "    <tr>\n",
       "      <th>0</th>\n",
       "      <td>4706451</td>\n",
       "      <td>How to save a figure remotely with pylab?</td>\n",
       "      <td>pythonmatplotlibfigure</td>\n",
       "      <td>4706614</td>\n",
       "      <td>&lt;p&gt;By default, matplotlib will use something l...</td>\n",
       "      <td>[]</td>\n",
       "      <td>[&lt;code&gt;TkAgg&lt;/code&gt;, &lt;code&gt;Agg&lt;/code&gt;, &lt;code&gt;i...</td>\n",
       "      <td>By default, matplotlib will use something lik...</td>\n",
       "    </tr>\n",
       "    <tr>\n",
       "      <th>1</th>\n",
       "      <td>41325227</td>\n",
       "      <td>How to do linear regression using Python and S...</td>\n",
       "      <td>pythonscikit-learnlinear-regression</td>\n",
       "      <td>41345907</td>\n",
       "      <td>&lt;p&gt;You can do like:&lt;/p&gt;\\r\\r\\r\\n\\r\\r\\r\\n&lt;pre&gt;&lt;c...</td>\n",
       "      <td>[]</td>\n",
       "      <td>[&lt;code&gt;from sklearn.preprocessing import OneHo...</td>\n",
       "      <td>You can do like: Please note that this exampl...</td>\n",
       "    </tr>\n",
       "    <tr>\n",
       "      <th>2</th>\n",
       "      <td>32595803</td>\n",
       "      <td>Read a blank column in a CSV file with Ruby</td>\n",
       "      <td>rubycsvblank-line</td>\n",
       "      <td>32595876</td>\n",
       "      <td>&lt;p&gt;If you've used &lt;code&gt;CSV.parse&lt;/code&gt; for p...</td>\n",
       "      <td>[]</td>\n",
       "      <td>[&lt;code&gt;CSV.parse&lt;/code&gt;, &lt;code&gt;nil&lt;/code&gt;, &lt;co...</td>\n",
       "      <td>If you've used for parsing (I hope you do), y...</td>\n",
       "    </tr>\n",
       "  </tbody>\n",
       "</table>\n",
       "</div>"
      ],
      "text/plain": [
       "       q_id                                            q_title  \\\n",
       "0   4706451          How to save a figure remotely with pylab?   \n",
       "1  41325227  How to do linear regression using Python and S...   \n",
       "2  32595803        Read a blank column in a CSV file with Ruby   \n",
       "\n",
       "                                  tags  accepted_answer_id  \\\n",
       "0               pythonmatplotlibfigure             4706614   \n",
       "1  pythonscikit-learnlinear-regression            41345907   \n",
       "2                    rubycsvblank-line            32595876   \n",
       "\n",
       "                                              a_body a_images_list  \\\n",
       "0  <p>By default, matplotlib will use something l...            []   \n",
       "1  <p>You can do like:</p>\\r\\r\\r\\n\\r\\r\\r\\n<pre><c...            []   \n",
       "2  <p>If you've used <code>CSV.parse</code> for p...            []   \n",
       "\n",
       "                                     a_code_snippets  \\\n",
       "0  [<code>TkAgg</code>, <code>Agg</code>, <code>i...   \n",
       "1  [<code>from sklearn.preprocessing import OneHo...   \n",
       "2  [<code>CSV.parse</code>, <code>nil</code>, <co...   \n",
       "\n",
       "                                      a_cleaned_body  \n",
       "0   By default, matplotlib will use something lik...  \n",
       "1   You can do like: Please note that this exampl...  \n",
       "2   If you've used for parsing (I hope you do), y...  "
      ]
     },
     "execution_count": 26,
     "metadata": {},
     "output_type": "execute_result"
    }
   ],
   "source": [
    "t3.head(3)"
   ]
  },
  {
   "cell_type": "code",
   "execution_count": 27,
   "metadata": {},
   "outputs": [
    {
     "data": {
      "text/plain": [
       "(5628, 8)"
      ]
     },
     "execution_count": 27,
     "metadata": {},
     "output_type": "execute_result"
    }
   ],
   "source": [
    "t3.shape"
   ]
  },
  {
   "cell_type": "markdown",
   "metadata": {},
   "source": [
    "# loads our wrapper classes\n",
    "\n",
    "we're not using NYTimes article feed\n",
    "\n",
    "so instead of the News Title vs News Body, we have Question Title vs Question Body\n",
    "\n",
    "and we're going to make it similar to Grace's framework, so it will be easier for Chi to adapt"
   ]
  },
  {
   "cell_type": "code",
   "execution_count": 7,
   "metadata": {},
   "outputs": [],
   "source": [
    "import sys\n",
    "sys.path.append(\"..\")\n",
    "from src.models import bert_model_5d as bert_model"
   ]
  },
  {
   "cell_type": "code",
   "execution_count": 8,
   "metadata": {},
   "outputs": [
    {
     "name": "stdout",
     "output_type": "stream",
     "text": [
      "import gcsfs\n",
      "import os\n",
      "import logging\n",
      "import random\n",
      "import torch\n",
      "import torch.nn as nn\n",
      "import pandas as pd\n",
      "import numpy as np\n",
      "import json\n",
      "import gc\n",
      "import matplotlib.pyplot as plt\n",
      "\n",
      "from torch.utils.data import TensorDataset, DataLoader, SequentialSampler\n",
      "from pytorch_pretrained_bert.modeling import BertForNextSentencePrediction\n",
      "from pytorch_pretrained_bert.tokenization import BertTokenizer\n",
      "from fastprogress import master_bar, progress_bar\n",
      "from sklearn.model_selection import StratifiedShuffleSplit\n",
      "\n",
      "class Suggester_BertTopicSimiliarty():\n",
      "    def __init__(\n",
      "        self\n",
      "        , question_file\n",
      "        , answer_file\n",
      "        , sample_n\n",
      "        , random_state\n",
      "        , bert_cache\n",
      "        , logger\n",
      "        , device\n",
      "        , max_seq_length\n",
      "        , batch_size\n",
      "    ):\n",
      "        # initializes some vars\n",
      "        self.question_file = question_file\n",
      "        self.answer_file = answer_file\n",
      "        self.sample_n = sample_n\n",
      "        self.random_state = random_state\n",
      "        self.bert_cache = bert_cache\n",
      "        self.logger = logger\n",
      "        self.device = device\n",
      "        self.max_seq_length = max_seq_length\n",
      "        self.batch_size = batch_size\n",
      "        \n",
      "        # gets the pre-trained tokenizer\n",
      "        self.tokenizer = BertTokenizer.from_pretrained(\n",
      "            \"bert-base-uncased\"\n",
      "            , do_lower_case = True\n",
      "            , cache_dir = self.bert_cache\n",
      "        )\n",
      "        \n",
      "        # gets the pre-trained model\n",
      "        self.model = BertForNextSentencePrediction.from_pretrained(\n",
      "            \"bert-base-uncased\"\n",
      "            , cache_dir = self.bert_cache\n",
      "        ).to(self.device)\n",
      "        \n",
      "        # instantiates the helper class\n",
      "        self.ceshiner = Ceshiner()\n",
      "    \n",
      "    def _construct_corpus(self, questions, answers):\n",
      "        '''\n",
      "        helper function that constructs corpus\n",
      "        with question id, title, accepted answer id, answer body\n",
      "        note, implicitly only questions with accepted answers will end up in corpus\n",
      "        '''\n",
      "        t1 = questions\n",
      "        t1 = t1[t1[\"accepted_answer_id\"]  != \"\"]\n",
      "        t1 = t1[t1.accepted_answer_id.notnull()]\n",
      "        t1[\"accepted_answer_id\"] = t1[\"accepted_answer_id\"].astype(float).astype(int)\n",
      "        t1 = t1[[\n",
      "            \"id\"\n",
      "            , \"title\"\n",
      "            , \"tags\"\n",
      "            , \"accepted_answer_id\"\n",
      "        ]].rename(columns = {\n",
      "            \"id\" : \"q_id\"\n",
      "            , \"title\" : \"q_title\"\n",
      "        })\n",
      "        t2 = answers[[\n",
      "            \"id\"\n",
      "            , \"body\"\n",
      "            , \"images_list\"\n",
      "            , \"code_snippets\"\n",
      "            , \"cleaned_body\"\n",
      "        ]].rename(columns = {\n",
      "            \"id\" : \"a_id\"\n",
      "            , \"body\" : \"a_body\"\n",
      "            , \"images_list\" : \"a_images_list\"\n",
      "            , \"code_snippets\" : \"a_code_snippets\"\n",
      "            , \"cleaned_body\" : \"a_cleaned_body\"\n",
      "        })\n",
      "        t3 = t1.merge(\n",
      "            t2\n",
      "            , left_on = \"accepted_answer_id\"\n",
      "            , right_on = \"a_id\"\n",
      "            , how = \"inner\"\n",
      "        ).drop(columns = \"a_id\")\n",
      "        # ... removes any cleaned answers that are null\n",
      "        t4 = t3[t3.a_cleaned_body.notnull()]\n",
      "        if self.sample_n is not None:\n",
      "            t5 = t4.sample(self.sample_n, random_state = self.random_state)\n",
      "        else:\n",
      "            t5 = t4\n",
      "        return(t5)\n",
      "    \n",
      "    def prepare(self):\n",
      "        '''\n",
      "        loads data & makes corpus\n",
      "        '''\n",
      "        self.questions = pd.read_csv(self.question_file, delimiter = \",\", encoding = \"utf-8\")\n",
      "        self.answers = pd.read_csv(self.answer_file, delimiter = \"\\t\", encoding = \"utf-8\")\n",
      "        self.corpus = self._construct_corpus(self.questions, self.answers)\n",
      "    \n",
      "    def get_similar_documents(self, query, num_results = 5, threshold = 0.10):\n",
      "        sentence_pairs = self.ceshiner.convert_sentence_pair(\n",
      "            [query] * self.corpus.shape[0]\n",
      "            , self.corpus.a_cleaned_body.tolist()\n",
      "            , max_seq_length = self.max_seq_length\n",
      "            , tokenizer = self.tokenizer\n",
      "            , logger = self.logger\n",
      "        )\n",
      "        similarity_scores = self.ceshiner.eval_pairs(\n",
      "            sentence_pairs = sentence_pairs\n",
      "            , batch_size = self.batch_size\n",
      "            , model = self.model\n",
      "            , device = self.device\n",
      "            , logger = self.logger\n",
      "        )\n",
      "        self.corpus_res = self.corpus.copy()\n",
      "        self.corpus_res[\"similarity\"] = similarity_scores\n",
      "        self.best_matches = self.corpus_res.copy()\n",
      "        self.best_matches = self.best_matches[self.best_matches['similarity'] >= threshold]\n",
      "        self.best_matches = self.best_matches.sort_values('similarity', ascending = False)\n",
      "        self.best_matches = self.best_matches[:num_results]\n",
      "        similar_que = self.best_matches[\"q_title\"]\n",
      "        similar_ans = self.best_matches[\"a_cleaned_body\"]\n",
      "        similar_img = self.best_matches[\"a_images_list\"]\n",
      "        similar_code = self.best_matches[\"a_code_snippets\"]\n",
      "        return(similar_que, similar_ans, similar_img, similar_code)\n",
      "\n",
      "\n",
      "class InputFeatures(object):\n",
      "    \"\"\"A single set of features of data.\"\"\"\n",
      "\n",
      "    def __init__(self, input_ids, input_mask, segment_ids, target):\n",
      "        self.input_ids = input_ids\n",
      "        self.input_mask = input_mask\n",
      "        self.segment_ids = segment_ids\n",
      "        self.target = target\n",
      "\n",
      "\n",
      "class Ceshiner():\n",
      "    def __init__(self):\n",
      "        pass\n",
      "    \n",
      "    def _truncate_seq_pair(self, tokens_a, tokens_b, max_length):\n",
      "        \"\"\"Truncates a sequence pair in place to the maximum length.\"\"\"\n",
      "        # This is a simple heuristic which will always truncate the longer sequence\n",
      "        # one token at a time. This makes more sense than truncating an equal percent\n",
      "        # of tokens from each, since if one sequence is very short then each token\n",
      "        # that's truncated likely contains more information than a longer sequence.\n",
      "        while True:\n",
      "            total_length = len(tokens_a) + len(tokens_b)\n",
      "            if total_length <= max_length:\n",
      "                break\n",
      "            if len(tokens_a) > len(tokens_b):\n",
      "                tokens_a.pop()\n",
      "            else:\n",
      "                tokens_b.pop()\n",
      "                \n",
      "    def convert_sentence_pair(self, titles, descs, max_seq_length, tokenizer, logger):\n",
      "        features = []\n",
      "        for (ex_index, (title, desc)) in enumerate(zip(titles, descs)):\n",
      "            tokens_a = tokenizer.tokenize(title)\n",
      "            \n",
      "            tokens_b = None\n",
      "            tokens_b = tokenizer.tokenize(desc)\n",
      "            # Modifies `tokens_a` and `tokens_b` in place so that the total\n",
      "            # length is less than the specified length.\n",
      "            # Account for [CLS], [SEP], [SEP] with \"- 3\"\n",
      "            self._truncate_seq_pair(tokens_a, tokens_b, max_seq_length - 3)\n",
      "\n",
      "            # The convention in BERT is:\n",
      "            # (a) For sequence pairs:\n",
      "            #  tokens:   [CLS] is this jack ##son ##ville ? [SEP] no it is not . [SEP]\n",
      "            #  type_ids: 0   0  0    0    0     0       0 0    1  1  1  1   1 1\n",
      "            # (b) For single sequences:\n",
      "            #  tokens:   [CLS] the dog is hairy . [SEP]\n",
      "            #  type_ids: 0   0   0   0  0     0 0\n",
      "            #\n",
      "            # Where \"type_ids\" are used to indicate whether this is the first\n",
      "            # sequence or the second sequence. The embedding vectors for `type=0` and\n",
      "            # `type=1` were learned during pre-training and are added to the wordpiece\n",
      "            # embedding vector (and position vector). This is not *strictly* necessary\n",
      "            # since the [SEP] token unambigiously separates the sequences, but it makes\n",
      "            # it easier for the model to learn the concept of sequences.\n",
      "            #\n",
      "            # For classification tasks, the first vector (corresponding to [CLS]) is\n",
      "            # used as as the \"sentence vector\". Note that this only makes sense because\n",
      "            # the entire model is fine-tuned.\n",
      "            tokens = [\"[CLS]\"] + tokens_a + [\"[SEP]\"]\n",
      "            segment_ids = [0] * len(tokens)\n",
      "\n",
      "            if tokens_b:\n",
      "                tokens += tokens_b + [\"[SEP]\"]\n",
      "                segment_ids += [1] * (len(tokens_b) + 1)\n",
      "\n",
      "            input_ids = tokenizer.convert_tokens_to_ids(tokens)\n",
      "\n",
      "            # The mask has 1 for real tokens and 0 for padding tokens. Only real\n",
      "            # tokens are attended to.\n",
      "            input_mask = [1] * len(input_ids)\n",
      "\n",
      "            # Zero-pad up to the sequence length.\n",
      "            padding = [0] * (max_seq_length - len(input_ids))\n",
      "            input_ids += padding\n",
      "            input_mask += padding\n",
      "            segment_ids += padding\n",
      "\n",
      "            assert len(input_ids) == max_seq_length\n",
      "            assert len(input_mask) == max_seq_length\n",
      "            assert len(segment_ids) == max_seq_length\n",
      "            if ex_index < 5:\n",
      "                logger.info(\"*** Example ***\")\n",
      "                logger.info(\"tokens: %s\" % \" \".join(\n",
      "                        [str(x) for x in tokens]))\n",
      "                logger.info(\"input_ids: %s\" % \" \".join([str(x) for x in input_ids]))\n",
      "                logger.info(\"input_mask: %s\" % \" \".join([str(x) for x in input_mask]))\n",
      "                logger.info(\n",
      "                        \"segment_ids: %s\" % \" \".join([str(x) for x in segment_ids]))\n",
      "\n",
      "            features.append(\n",
      "                    InputFeatures(\n",
      "                        input_ids=input_ids,\n",
      "                        input_mask=input_mask,\n",
      "                        segment_ids=segment_ids,\n",
      "                        target=1\n",
      "            ))\n",
      "        return features\n",
      "\n",
      "    def eval_pairs(self, sentence_pairs, batch_size, model, device, logger):\n",
      "        logger.info(\"***** Running evaluation *****\")\n",
      "        all_input_ids = torch.tensor([f.input_ids for f in sentence_pairs], dtype=torch.long)\n",
      "        all_input_mask = torch.tensor([f.input_mask for f in sentence_pairs], dtype=torch.long)\n",
      "        all_segment_ids = torch.tensor([f.segment_ids for f in sentence_pairs], dtype=torch.long)\n",
      "        eval_data = TensorDataset(all_input_ids, all_input_mask, all_segment_ids)\n",
      "        # Run prediction for full data\n",
      "        eval_sampler = SequentialSampler(eval_data)\n",
      "        eval_dataloader = DataLoader(eval_data, sampler = eval_sampler, batch_size = batch_size)\n",
      "\n",
      "        logger.info(\"  Num examples = %d\", len(sentence_pairs))\n",
      "        logger.info(\"  Batch size = %d\", batch_size)\n",
      "\n",
      "        model.eval()\n",
      "\n",
      "        res = []\n",
      "\n",
      "        mb = progress_bar(eval_dataloader)\n",
      "        for input_ids, input_mask, segment_ids in mb:\n",
      "            input_ids = input_ids.to(device)\n",
      "            input_mask = input_mask.to(device)\n",
      "            segment_ids = segment_ids.to(device)\n",
      "\n",
      "            with torch.no_grad():\n",
      "                res.append(nn.functional.softmax(\n",
      "                    model(input_ids, segment_ids, input_mask), dim=1\n",
      "                )[:, 0].detach().cpu().numpy())\n",
      "\n",
      "        res = np.concatenate(res)\n",
      "        return(res)\n",
      "\n"
     ]
    }
   ],
   "source": [
    "import inspect\n",
    "print(inspect.getsource(bert_model))"
   ]
  },
  {
   "cell_type": "code",
   "execution_count": 9,
   "metadata": {},
   "outputs": [],
   "source": [
    "# i.e. app.py\n",
    "\n",
    "import gcsfs\n",
    "import os\n",
    "import logging\n",
    "import random\n",
    "import torch\n",
    "import torch.nn as nn\n",
    "import pandas as pd\n",
    "import numpy as np\n",
    "import json\n",
    "import gc\n",
    "import matplotlib.pyplot as plt\n",
    "\n",
    "from torch.utils.data import TensorDataset, DataLoader, SequentialSampler\n",
    "from pytorch_pretrained_bert.modeling import BertForNextSentencePrediction\n",
    "from pytorch_pretrained_bert.tokenization import BertTokenizer\n",
    "from fastprogress import master_bar, progress_bar\n",
    "from sklearn.model_selection import StratifiedShuffleSplit\n",
    "\n",
    "\n",
    "# defines seed for replication\n",
    "SEED = 20191202\n",
    "\n",
    "# defines cache folder for BERT model\n",
    "PYTORCH_PRETRAINED_BERT_CACHE = \"../models/bert/\"\n",
    "\n",
    "# defines other hyper parameters\n",
    "# SAMPLE_SIZE = 10\n",
    "SAMPLE_SIZE = None\n",
    "BATCH_SIZE = 128\n",
    "MAX_SEQ_LENGTH = 200\n",
    "\n",
    "# creates a logger\n",
    "logging.basicConfig(format = '%(asctime)s - %(levelname)s - %(name)s -   %(message)s',\n",
    "                    datefmt = '%m/%d/%Y %H:%M:%S',\n",
    "                    level = logging.INFO)\n",
    "logger = logging.getLogger(\"bert\")\n",
    "\n",
    "\n",
    "# detects the device (CPU or GPU)\n",
    "device = torch.device(\"cuda\" if torch.cuda.is_available() else \"cpu\")\n",
    "\n",
    "\n",
    "# sets random states\n",
    "random.seed(SEED)\n",
    "np.random.seed(SEED)\n",
    "torch.manual_seed(SEED)\n",
    "if device == torch.device(\"cuda\"):\n",
    "    torch.cuda.manual_seed_all(SEED)"
   ]
  },
  {
   "cell_type": "markdown",
   "metadata": {},
   "source": [
    "# check answers for single question"
   ]
  },
  {
   "cell_type": "code",
   "execution_count": null,
   "metadata": {},
   "outputs": [],
   "source": [
    "# ... gets a set of questions\n",
    "p_questions = p_questions_22k\n",
    "\n",
    "# ... creates an instance of our wrapper\n",
    "m = bert_model.Suggester_BertTopicSimiliarty(\n",
    "    p_questions\n",
    "    , p_answers\n",
    "    , sample_n = None\n",
    "    , random_state = SEED\n",
    "    , bert_cache = PYTORCH_PRETRAINED_BERT_CACHE\n",
    "    , logger = logger\n",
    "    , device = device\n",
    "    , max_seq_length = MAX_SEQ_LENGTH\n",
    "    , batch_size = BATCH_SIZE\n",
    ")\n",
    "\n",
    "# ... loads data and builds a corpus\n",
    "m.prepare()\n",
    "\n",
    "# ... gets top 5 similar results\n",
    "similar_que, similar_ans, similar_img, similar_code = m.get_similar_documents(query = \"Is there a way to visualize the distribution of my data?\", num_results = 5)\n",
    "\n",
    "t1 = m.best_matches.copy()"
   ]
  },
  {
   "cell_type": "code",
   "execution_count": 19,
   "metadata": {
    "collapsed": true
   },
   "outputs": [
    {
     "data": {
      "text/html": [
       "<div>\n",
       "<style scoped>\n",
       "    .dataframe tbody tr th:only-of-type {\n",
       "        vertical-align: middle;\n",
       "    }\n",
       "\n",
       "    .dataframe tbody tr th {\n",
       "        vertical-align: top;\n",
       "    }\n",
       "\n",
       "    .dataframe thead th {\n",
       "        text-align: right;\n",
       "    }\n",
       "</style>\n",
       "<table border=\"1\" class=\"dataframe\">\n",
       "  <thead>\n",
       "    <tr style=\"text-align: right;\">\n",
       "      <th></th>\n",
       "      <th>q_id</th>\n",
       "      <th>q_title</th>\n",
       "      <th>tags</th>\n",
       "      <th>accepted_answer_id</th>\n",
       "      <th>a_body</th>\n",
       "      <th>a_images_list</th>\n",
       "      <th>a_code_snippets</th>\n",
       "      <th>a_cleaned_body</th>\n",
       "      <th>similarity</th>\n",
       "    </tr>\n",
       "  </thead>\n",
       "  <tbody>\n",
       "    <tr>\n",
       "      <th>10248</th>\n",
       "      <td>10944621</td>\n",
       "      <td>Dynamically updating plot in matplotlib</td>\n",
       "      <td>pythonmatplotlibtkinter</td>\n",
       "      <td>10944967</td>\n",
       "      <td>&lt;blockquote&gt;\\r\\r\\r\\n  &lt;p&gt;&lt;em&gt;Is there a way in...</td>\n",
       "      <td>[]</td>\n",
       "      <td>[&lt;code&gt;data&lt;/code&gt;, &lt;code&gt;data&lt;/code&gt;, &lt;code&gt;i...</td>\n",
       "      <td>Is there a way in which I can update the plot...</td>\n",
       "      <td>0.999996</td>\n",
       "    </tr>\n",
       "    <tr>\n",
       "      <th>1521</th>\n",
       "      <td>7688275</td>\n",
       "      <td>save yaxis legends as a separate grob?</td>\n",
       "      <td>rggplot2</td>\n",
       "      <td>15642634</td>\n",
       "      <td>&lt;p&gt;This question has been sitting long enough,...</td>\n",
       "      <td>[&lt;img alt=\"demo graph\" src=\"https://i.stack.im...</td>\n",
       "      <td>[&lt;code&gt;library(grid)\\r\\r\\r\\nlibrary(lubridate)...</td>\n",
       "      <td>This question has been sitting long enough, t...</td>\n",
       "      <td>0.999996</td>\n",
       "    </tr>\n",
       "    <tr>\n",
       "      <th>10299</th>\n",
       "      <td>8112791</td>\n",
       "      <td>Multiple density graphs different groups (base...</td>\n",
       "      <td>rloopsgraphicsplyr</td>\n",
       "      <td>8113154</td>\n",
       "      <td>&lt;p&gt;I see that @Andrie just beat me to most of ...</td>\n",
       "      <td>[&lt;img alt=\"enter image description here\" src=\"...</td>\n",
       "      <td>[&lt;code&gt;set.seed(1234)\\r\\r\\r\\nAa = c(rnorm(4000...</td>\n",
       "      <td>I see that @Andrie just beat me to most of th...</td>\n",
       "      <td>0.999996</td>\n",
       "    </tr>\n",
       "  </tbody>\n",
       "</table>\n",
       "</div>"
      ],
      "text/plain": [
       "           q_id                                            q_title  \\\n",
       "10248  10944621            Dynamically updating plot in matplotlib   \n",
       "1521    7688275             save yaxis legends as a separate grob?   \n",
       "10299   8112791  Multiple density graphs different groups (base...   \n",
       "\n",
       "                          tags  accepted_answer_id  \\\n",
       "10248  pythonmatplotlibtkinter            10944967   \n",
       "1521                  rggplot2            15642634   \n",
       "10299       rloopsgraphicsplyr             8113154   \n",
       "\n",
       "                                                  a_body  \\\n",
       "10248  <blockquote>\\r\\r\\r\\n  <p><em>Is there a way in...   \n",
       "1521   <p>This question has been sitting long enough,...   \n",
       "10299  <p>I see that @Andrie just beat me to most of ...   \n",
       "\n",
       "                                           a_images_list  \\\n",
       "10248                                                 []   \n",
       "1521   [<img alt=\"demo graph\" src=\"https://i.stack.im...   \n",
       "10299  [<img alt=\"enter image description here\" src=\"...   \n",
       "\n",
       "                                         a_code_snippets  \\\n",
       "10248  [<code>data</code>, <code>data</code>, <code>i...   \n",
       "1521   [<code>library(grid)\\r\\r\\r\\nlibrary(lubridate)...   \n",
       "10299  [<code>set.seed(1234)\\r\\r\\r\\nAa = c(rnorm(4000...   \n",
       "\n",
       "                                          a_cleaned_body  similarity  \n",
       "10248   Is there a way in which I can update the plot...    0.999996  \n",
       "1521    This question has been sitting long enough, t...    0.999996  \n",
       "10299   I see that @Andrie just beat me to most of th...    0.999996  "
      ]
     },
     "execution_count": 19,
     "metadata": {},
     "output_type": "execute_result"
    }
   ],
   "source": [
    "t1.head(3)"
   ]
  },
  {
   "cell_type": "code",
   "execution_count": 20,
   "metadata": {},
   "outputs": [
    {
     "data": {
      "text/plain": [
       "(5, 9)"
      ]
     },
     "execution_count": 20,
     "metadata": {},
     "output_type": "execute_result"
    }
   ],
   "source": [
    "t1.shape"
   ]
  },
  {
   "cell_type": "code",
   "execution_count": 21,
   "metadata": {},
   "outputs": [
    {
     "name": "stdout",
     "output_type": "stream",
     "text": [
      "<class 'pandas.core.frame.DataFrame'>\n",
      "Int64Index: 5 entries, 10248 to 8739\n",
      "Data columns (total 9 columns):\n",
      "q_id                  5 non-null int64\n",
      "q_title               5 non-null object\n",
      "tags                  5 non-null object\n",
      "accepted_answer_id    5 non-null int64\n",
      "a_body                5 non-null object\n",
      "a_images_list         5 non-null object\n",
      "a_code_snippets       5 non-null object\n",
      "a_cleaned_body        5 non-null object\n",
      "similarity            5 non-null float32\n",
      "dtypes: float32(1), int64(2), object(6)\n",
      "memory usage: 380.0+ bytes\n"
     ]
    }
   ],
   "source": [
    "t1.info()"
   ]
  },
  {
   "cell_type": "code",
   "execution_count": 22,
   "metadata": {},
   "outputs": [
    {
     "data": {
      "text/plain": [
       "10248              Dynamically updating plot in matplotlib\n",
       "1521                save yaxis legends as a separate grob?\n",
       "10299    Multiple density graphs different groups (base...\n",
       "1791                Generate dynamic graph from MySQL data\n",
       "8739                          skip legend in for loop plot\n",
       "Name: q_title, dtype: object"
      ]
     },
     "execution_count": 22,
     "metadata": {},
     "output_type": "execute_result"
    }
   ],
   "source": [
    "similar_que"
   ]
  },
  {
   "cell_type": "code",
   "execution_count": 23,
   "metadata": {},
   "outputs": [
    {
     "data": {
      "text/plain": [
       "10248     Is there a way in which I can update the plot...\n",
       "1521      This question has been sitting long enough, t...\n",
       "10299     I see that @Andrie just beat me to most of th...\n",
       "1791      Great question one awesome solution that i ha...\n",
       "8739      Please try this, I don't have data to plot bu...\n",
       "Name: a_cleaned_body, dtype: object"
      ]
     },
     "execution_count": 23,
     "metadata": {},
     "output_type": "execute_result"
    }
   ],
   "source": [
    "similar_ans"
   ]
  },
  {
   "cell_type": "code",
   "execution_count": 24,
   "metadata": {},
   "outputs": [
    {
     "data": {
      "text/plain": [
       "10248                                                   []\n",
       "1521     [<img alt=\"demo graph\" src=\"https://i.stack.im...\n",
       "10299    [<img alt=\"enter image description here\" src=\"...\n",
       "1791                                                    []\n",
       "8739     [<img alt=\"enter image description here\" src=\"...\n",
       "Name: a_images_list, dtype: object"
      ]
     },
     "execution_count": 24,
     "metadata": {},
     "output_type": "execute_result"
    }
   ],
   "source": [
    "similar_img"
   ]
  },
  {
   "cell_type": "code",
   "execution_count": 25,
   "metadata": {},
   "outputs": [
    {
     "data": {
      "text/plain": [
       "10248    [<code>data</code>, <code>data</code>, <code>i...\n",
       "1521     [<code>library(grid)\\r\\r\\r\\nlibrary(lubridate)...\n",
       "10299    [<code>set.seed(1234)\\r\\r\\r\\nAa = c(rnorm(4000...\n",
       "1791                                                    []\n",
       "8739     [<code>figure(4);\\r\\r\\r\\nfor i=1:300  \\r\\r\\r\\n...\n",
       "Name: a_code_snippets, dtype: object"
      ]
     },
     "execution_count": 25,
     "metadata": {},
     "output_type": "execute_result"
    }
   ],
   "source": [
    "similar_code"
   ]
  },
  {
   "cell_type": "markdown",
   "metadata": {},
   "source": [
    "# checking performance on various sizes of data"
   ]
  },
  {
   "cell_type": "code",
   "execution_count": 14,
   "metadata": {},
   "outputs": [],
   "source": [
    "def g1(p_questions, p_answers, p_check_questions, sample_n):\n",
    "    # creates an instance of our wrapper\n",
    "    m = bert_model.Suggester_BertTopicSimiliarty(\n",
    "        p_questions\n",
    "        , p_answers\n",
    "        , sample_n = sample_n\n",
    "        , random_state = SEED\n",
    "        , bert_cache = PYTORCH_PRETRAINED_BERT_CACHE\n",
    "        , logger = logger\n",
    "        , device = device\n",
    "        , max_seq_length = MAX_SEQ_LENGTH\n",
    "        , batch_size = BATCH_SIZE\n",
    "    )\n",
    "\n",
    "    # loads data and builds a corpus\n",
    "    m.prepare()\n",
    "    \n",
    "    # gets the list of check questions\n",
    "    check_questions = pd.read_csv(p_check_questions, sep = \"\\t\", keep_default_na = False, encoding = \"utf-8\")\n",
    "    \n",
    "    # evaluates model against all check-questions\n",
    "    res = []\n",
    "    res_df = pd.DataFrame()\n",
    "    for q in check_questions.question:\n",
    "        similar_que, similar_ans, similar_img, similar_code = m.get_similar_documents(query = q, num_results = 5)\n",
    "        t1 = m.best_matches.copy()\n",
    "        t1[\"user_input\"] = q\n",
    "        t1[\"q_file\"] = os.path.basename(p_questions)\n",
    "        t2 = t1[[\n",
    "            \"q_file\"\n",
    "            , \"user_input\"\n",
    "            , \"similarity\"\n",
    "            , \"q_id\"\n",
    "            , \"q_title\"\n",
    "            , \"tags\"\n",
    "            , \"accepted_answer_id\"\n",
    "            , \"a_body\"\n",
    "            , \"a_cleaned_body\"\n",
    "            , \"a_images_list\"\n",
    "            , \"a_code_snippets\"\n",
    "        ]]\n",
    "        res.append(t2)\n",
    "    res_df = pd.concat(res)\n",
    "    res_df.sort_values([\"q_file\", \"user_input\", \"similarity\"], ascending=[True, True, False])\n",
    "    return(res_df)"
   ]
  },
  {
   "cell_type": "markdown",
   "metadata": {},
   "source": [
    "## for 11k"
   ]
  },
  {
   "cell_type": "code",
   "execution_count": null,
   "metadata": {},
   "outputs": [],
   "source": [
    "t1 = g1(p_questions_11k, p_answers, p_check_questions, sample_n = None)"
   ]
  },
  {
   "cell_type": "markdown",
   "metadata": {},
   "source": [
    "Looks like it takes 35 seconds for each question, for 5628 question-answer pairs (based on the 11k sample)\n",
    "\n",
    "For 18 questions, takes about 10 minutes total"
   ]
  },
  {
   "cell_type": "markdown",
   "metadata": {},
   "source": [
    "## for 22K"
   ]
  },
  {
   "cell_type": "code",
   "execution_count": null,
   "metadata": {},
   "outputs": [],
   "source": [
    "t2 = g1(p_questions_22k, p_answers, p_check_questions, sample_n = None)"
   ]
  },
  {
   "cell_type": "markdown",
   "metadata": {},
   "source": [
    "Looks like it takes 1 minute 11 seconds for each question, for 11235 question-answer pairs (based on the 22k sample)\n",
    "\n",
    "For 18 questions, takes about 21 minutes total"
   ]
  },
  {
   "cell_type": "markdown",
   "metadata": {},
   "source": [
    "## speed, scaling to number of samples"
   ]
  },
  {
   "cell_type": "code",
   "execution_count": 36,
   "metadata": {},
   "outputs": [],
   "source": [
    "def g2(p_questions, p_answers, p_check_questions, sample_n):\n",
    "    # creates an instance of our wrapper\n",
    "    m = bert_model.Suggester_BertTopicSimiliarty(\n",
    "        p_questions\n",
    "        , p_answers\n",
    "        , sample_n = sample_n\n",
    "        , random_state = SEED\n",
    "        , bert_cache = PYTORCH_PRETRAINED_BERT_CACHE\n",
    "        , logger = logger\n",
    "        , device = device\n",
    "        , max_seq_length = MAX_SEQ_LENGTH\n",
    "        , batch_size = BATCH_SIZE\n",
    "    )\n",
    "\n",
    "    # loads data and builds a corpus\n",
    "    m.prepare()\n",
    "    \n",
    "    # gets the list of check questions\n",
    "    check_questions = pd.read_csv(p_check_questions, sep = \"\\t\", keep_default_na = False, encoding = \"utf-8\")\n",
    "    q = check_questions.question[0]\n",
    "    \n",
    "    # evaluates model against a single check-questions, times the result\n",
    "    import time\n",
    "    t0 = time.time()\n",
    "    similar_que, similar_ans, similar_img, similar_code = m.get_similar_documents(query = q, num_results = 5)\n",
    "    _ = m.best_matches.copy()\n",
    "    t1 = time.time()\n",
    "    total = t1-t0\n",
    "    return(total)"
   ]
  },
  {
   "cell_type": "code",
   "execution_count": 37,
   "metadata": {},
   "outputs": [
    {
     "data": {
      "text/plain": [
       "[8, 516, 1024, 2048, 4096, 8192, 11000]"
      ]
     },
     "execution_count": 37,
     "metadata": {},
     "output_type": "execute_result"
    }
   ],
   "source": [
    "sample_n_list = [8, 516, 1024, 2048, 4096, 8192, 11000]\n",
    "sample_n_list"
   ]
  },
  {
   "cell_type": "code",
   "execution_count": null,
   "metadata": {},
   "outputs": [],
   "source": [
    "run_times = []\n",
    "for sample_n in sample_n_list:\n",
    "    t3 = g2(p_questions_22k, p_answers, p_check_questions, sample_n = sample_n)\n",
    "    run_times.append(t3)"
   ]
  },
  {
   "cell_type": "code",
   "execution_count": 39,
   "metadata": {},
   "outputs": [
    {
     "name": "stdout",
     "output_type": "stream",
     "text": [
      "[8, 516, 1024, 2048, 4096, 8192, 11000]\n",
      "[0.11218023300170898, 3.9586384296417236, 7.878463983535767, 15.48396897315979, 31.033019065856934, 61.93504333496094, 83.281094789505]\n"
     ]
    }
   ],
   "source": [
    "print(sample_n_list)\n",
    "print(run_times)"
   ]
  },
  {
   "cell_type": "code",
   "execution_count": 40,
   "metadata": {},
   "outputs": [
    {
     "data": {
      "image/png": "[encoded data removed]",
      "text/plain": [
       "<Figure size 432x288 with 1 Axes>"
      ]
     },
     "metadata": {
      "needs_background": "light"
     },
     "output_type": "display_data"
    }
   ],
   "source": [
    "import matplotlib.pyplot as plt\n",
    "plt.plot(sample_n_list, run_times, marker = \"o\")\n",
    "plt.title(\"run time increases linearly with sample size\")\n",
    "plt.xlabel(\"sample size\")\n",
    "plt.ylabel(\"runtime seconds\")\n",
    "plt.show()"
   ]
  }
 ],
 "metadata": {
  "kernelspec": {
   "display_name": "Python 3",
   "language": "python",
   "name": "python3"
  },
  "language_info": {
   "codemirror_mode": {
    "name": "ipython",
    "version": 3
   },
   "file_extension": ".py",
   "mimetype": "text/x-python",
   "name": "python",
   "nbconvert_exporter": "python",
   "pygments_lexer": "ipython3",
   "version": "3.7.5"
  }
 },
 "nbformat": 4,
 "nbformat_minor": 2
}
