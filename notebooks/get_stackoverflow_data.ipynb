{
 "cells": [
  {
   "cell_type": "code",
   "execution_count": 1,
   "metadata": {},
   "outputs": [],
   "source": [
    "import pandas_gbq\n",
    "import pickle\n",
    "import pandas as pd\n",
    "import numpy as np\n",
    "\n",
    "# TODO: Set project_id to your Google Cloud Platform project ID.\n",
    "# project_id = \"xxxxxx-yyyyyy-######\""
   ]
  },
  {
   "cell_type": "code",
   "execution_count": 26,
   "metadata": {},
   "outputs": [],
   "source": [
    "# use this to get the table definition of individual tables in Big Query's tables\n",
    "# substitute the table name you want the schema for in the \"table_name = \" line below\n",
    "\n",
    "sql = \"\"\"\n",
    "\n",
    "SELECT column_name\n",
    "FROM `bigquery-public-data`.stackoverflow.INFORMATION_SCHEMA.COLUMNS  \n",
    "WHERE table_name = 'posts_questions' \n",
    "\n",
    "\"\"\"\n",
    "df=pandas_gbq.read_gbq(sql, project_id=project_id)"
   ]
  },
  {
   "cell_type": "code",
   "execution_count": 3,
   "metadata": {},
   "outputs": [],
   "source": [
    "# Here is the code to extract the records from one table and load it into a pandas data frame\n",
    "\n",
    "# note that this can run a long time, depending on the number of records you are trying to load\n",
    "\n",
    "\n",
    "sql = \"\"\"\n",
    "SELECT * FROM `bigquery-public-data.stackoverflow.posts_questions` WHERE (tags LIKE '%d3%' \n",
    "OR tags LIKE '%tableau%'\n",
    "OR tags LIKE '%ggplot%'\n",
    "OR tags LIKE '%plotly%'\n",
    "OR tags LIKE '%matplotlib%'\n",
    "OR tags LIKE '%excel%'\n",
    "OR tags LIKE '%sheets%'\n",
    "OR tags LIKE '%seaborn%'\n",
    "OR tags LIKE '%altair%'\n",
    "OR tags LIKE '%powerbi%'\n",
    "OR tags LIKE '%qlik%'\n",
    "OR tags LIKE '%chart%'\n",
    "OR tags LIKE '%graph%'\n",
    "OR tags LIKE '%sas%'\n",
    "OR tags LIKE '%spss%'\n",
    "OR tags LIKE '%plot%'\n",
    "OR tags LIKE '%stata%'\n",
    "OR tags LIKE '%line%'\n",
    "OR tags LIKE '%visual%'\n",
    "OR tags LIKE '%viz%'\n",
    "OR tags LIKE '%linechart%'\n",
    "OR tags LIKE '%diagram%'\n",
    "OR tags LIKE '%map%')\n",
    "AND\n",
    "tags NOT LIKE '%visual-studio%'\n",
    "AND\n",
    "tags NOT LIKE '%visual-c++%'\n",
    "\"\"\"\n",
    "dfPostQuestionsFiltered = pandas_gbq.read_gbq(sql, project_id=project_id)"
   ]
  },
  {
   "cell_type": "code",
   "execution_count": 4,
   "metadata": {},
   "outputs": [
    {
     "data": {
      "text/plain": [
       "(971729, 20)"
      ]
     },
     "execution_count": 4,
     "metadata": {},
     "output_type": "execute_result"
    }
   ],
   "source": [
    "np.shape(dfPostQuestionsFiltered)"
   ]
  },
  {
   "cell_type": "code",
   "execution_count": 5,
   "metadata": {},
   "outputs": [],
   "source": [
    "# write the dataframe to a tsv\n",
    "dfPostQuestionsFiltered.to_csv(\"data/stackoverflow/PostQuestionsFiltered.tsv\", sep='\\t')"
   ]
  },
  {
   "cell_type": "code",
   "execution_count": 28,
   "metadata": {},
   "outputs": [],
   "source": [
    "# retrieving the answers that belong to the questions retrieved above\n",
    "\n",
    "sql = \"\"\"\n",
    "SELECT * FROM `bigquery-public-data.stackoverflow.posts_answers` WHERE parent_id IN \n",
    "    (SELECT id FROM `bigquery-public-data.stackoverflow.posts_questions` WHERE (tags LIKE '%d3%' \n",
    "    OR tags LIKE '%tableau%'\n",
    "    OR tags LIKE '%ggplot%'\n",
    "    OR tags LIKE '%plotly%'\n",
    "    OR tags LIKE '%matplotlib%'\n",
    "    OR tags LIKE '%excel%'\n",
    "    OR tags LIKE '%sheets%'\n",
    "    OR tags LIKE '%seaborn%'\n",
    "    OR tags LIKE '%altair%'\n",
    "    OR tags LIKE '%powerbi%'\n",
    "    OR tags LIKE '%qlik%'\n",
    "    OR tags LIKE '%chart%'\n",
    "    OR tags LIKE '%graph%'\n",
    "    OR tags LIKE '%sas%'\n",
    "    OR tags LIKE '%spss%'\n",
    "    OR tags LIKE '%plot%'\n",
    "    OR tags LIKE '%stata%'\n",
    "    OR tags LIKE '%line%'\n",
    "    OR tags LIKE '%visual%'\n",
    "    OR tags LIKE '%viz%'\n",
    "    OR tags LIKE '%linechart%'\n",
    "    OR tags LIKE '%diagram%'\n",
    "    OR tags LIKE '%map%')\n",
    "    AND\n",
    "    tags NOT LIKE '%visual-studio%'\n",
    "    AND\n",
    "    tags NOT LIKE '%visual-c++%')\n",
    "\"\"\"\n",
    "dfPostAnswersFiltered = pandas_gbq.read_gbq(sql, project_id=project_id)"
   ]
  },
  {
   "cell_type": "code",
   "execution_count": 29,
   "metadata": {},
   "outputs": [
    {
     "data": {
      "text/plain": [
       "(1266934, 20)"
      ]
     },
     "execution_count": 29,
     "metadata": {},
     "output_type": "execute_result"
    }
   ],
   "source": [
    "np.shape(dfPostAnswersFiltered)"
   ]
  },
  {
   "cell_type": "code",
   "execution_count": 33,
   "metadata": {},
   "outputs": [],
   "source": [
    "\n",
    "dfPostAnswersFiltered = pd.read_csv(\"data/stackoverflow/PostAnswersFiltered.tsv\", sep='\\t')"
   ]
  },
  {
   "cell_type": "code",
   "execution_count": 35,
   "metadata": {},
   "outputs": [],
   "source": [
    "# retrieving the comments that belong to the questions retrieved above\n",
    "\n",
    "sql = \"\"\"\n",
    "SELECT * FROM `bigquery-public-data.stackoverflow.comments` WHERE post_id IN \n",
    "    (SELECT id FROM `bigquery-public-data.stackoverflow.posts_questions` WHERE (tags LIKE '%d3%' \n",
    "    OR tags LIKE '%tableau%'\n",
    "    OR tags LIKE '%ggplot%'\n",
    "    OR tags LIKE '%plotly%'\n",
    "    OR tags LIKE '%matplotlib%'\n",
    "    OR tags LIKE '%excel%'\n",
    "    OR tags LIKE '%sheets%'\n",
    "    OR tags LIKE '%seaborn%'\n",
    "    OR tags LIKE '%altair%'\n",
    "    OR tags LIKE '%powerbi%'\n",
    "    OR tags LIKE '%qlik%'\n",
    "    OR tags LIKE '%chart%'\n",
    "    OR tags LIKE '%graph%'\n",
    "    OR tags LIKE '%sas%'\n",
    "    OR tags LIKE '%spss%'\n",
    "    OR tags LIKE '%plot%'\n",
    "    OR tags LIKE '%stata%'\n",
    "    OR tags LIKE '%line%'\n",
    "    OR tags LIKE '%visual%'\n",
    "    OR tags LIKE '%viz%'\n",
    "    OR tags LIKE '%linechart%'\n",
    "    OR tags LIKE '%diagram%'\n",
    "    OR tags LIKE '%map%')\n",
    "    AND\n",
    "    tags NOT LIKE '%visual-studio%'\n",
    "    AND\n",
    "    tags NOT LIKE '%visual-c++%')\n",
    "\"\"\"\n",
    "dfCommentsFiltered = pandas_gbq.read_gbq(sql, project_id=project_id)"
   ]
  },
  {
   "cell_type": "code",
   "execution_count": 36,
   "metadata": {},
   "outputs": [
    {
     "data": {
      "text/plain": [
       "(1781412, 7)"
      ]
     },
     "execution_count": 36,
     "metadata": {},
     "output_type": "execute_result"
    }
   ],
   "source": [
    "np.shape(dfCommentsFiltered)"
   ]
  },
  {
   "cell_type": "code",
   "execution_count": 39,
   "metadata": {},
   "outputs": [],
   "source": [
    "# write the dataframe to a tsv\n",
    "dfCommentsFiltered.to_csv(\"data/stackoverflow/CommentsFiltered.tsv\", sep='\\t')"
   ]
  }
 ],
 "metadata": {
  "kernelspec": {
   "display_name": "Python 3",
   "language": "python",
   "name": "python3"
  },
  "language_info": {
   "codemirror_mode": {
    "name": "ipython",
    "version": 3
   },
   "file_extension": ".py",
   "mimetype": "text/x-python",
   "name": "python",
   "nbconvert_exporter": "python",
   "pygments_lexer": "ipython3",
   "version": "3.6.5"
  }
 },
 "nbformat": 4,
 "nbformat_minor": 2
}
