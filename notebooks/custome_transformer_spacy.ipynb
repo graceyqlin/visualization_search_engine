{
 "cells": [
  {
   "cell_type": "markdown",
   "metadata": {},
   "source": [
    "# About\n",
    "\n",
    "custome transformer using spacy"
   ]
  },
  {
   "cell_type": "code",
   "execution_count": 1,
   "metadata": {},
   "outputs": [],
   "source": [
    "import numpy as np\n",
    "import pandas as pd\n",
    "pd.set_option('display.max_colwidth', -1)"
   ]
  },
  {
   "cell_type": "markdown",
   "metadata": {},
   "source": [
    "## sample"
   ]
  },
  {
   "cell_type": "code",
   "execution_count": 4,
   "metadata": {},
   "outputs": [],
   "source": [
    "t1 = questions[questions[\"accepted_answer_id\"] > 0]\n",
    "questions_sample = t1.sample(10000, random_state = 20191102)"
   ]
  },
  {
   "cell_type": "markdown",
   "metadata": {},
   "source": [
    "## corpus"
   ]
  },
  {
   "cell_type": "code",
   "execution_count": 7,
   "metadata": {},
   "outputs": [],
   "source": [
    "# constructs corpus\n",
    "# with question id, title, accepted answer id, answer body\n",
    "def construct_corpus(questions, answers = answers):\n",
    "    t1 = questions[[\"id\", \"title\", \"tags\", \"accepted_answer_id\"]].rename(columns = {\"id\" : \"q_id\", \"title\" : \"q_title\"})\n",
    "    t2 = answers[[\"id\", \"body\"]].rename(columns = {\"id\" : \"a_id\", \"body\" : \"a_body\"})\n",
    "    t3 = t1.merge(t2, left_on = \"accepted_answer_id\", right_on = \"a_id\", how = \"inner\").drop(columns = \"a_id\")\n",
    "    return(t3)"
   ]
  },
  {
   "cell_type": "code",
   "execution_count": 8,
   "metadata": {},
   "outputs": [
    {
     "data": {
      "text/html": [
       "<div>\n",
       "<style scoped>\n",
       "    .dataframe tbody tr th:only-of-type {\n",
       "        vertical-align: middle;\n",
       "    }\n",
       "\n",
       "    .dataframe tbody tr th {\n",
       "        vertical-align: top;\n",
       "    }\n",
       "\n",
       "    .dataframe thead th {\n",
       "        text-align: right;\n",
       "    }\n",
       "</style>\n",
       "<table border=\"1\" class=\"dataframe\">\n",
       "  <thead>\n",
       "    <tr style=\"text-align: right;\">\n",
       "      <th></th>\n",
       "      <th>q_id</th>\n",
       "      <th>q_title</th>\n",
       "      <th>tags</th>\n",
       "      <th>accepted_answer_id</th>\n",
       "      <th>a_body</th>\n",
       "    </tr>\n",
       "  </thead>\n",
       "  <tbody>\n",
       "    <tr>\n",
       "      <td>0</td>\n",
       "      <td>17108288</td>\n",
       "      <td>Why is my CSS :hover @keyframes animation not working?</td>\n",
       "      <td>htmlcss3cross-browsercss-animations</td>\n",
       "      <td>17108610.0</td>\n",
       "      <td>&lt;p&gt;here it is:&lt;/p&gt;\\r\\n\\r\\n&lt;p&gt;u have to add vendor prefixes&lt;/p&gt;\\r\\n\\r\\n&lt;pre&gt;&lt;code&gt;.twitter-bird {\\r\\n    height: 38px;\\r\\n    width: 37.5px;\\r\\n    background-image: url(\"http://dl.dropboxusercontent.com/u/105046436/tw.png\");\\r\\n}\\r\\n\\r\\n.twitter-bird:hover { \\r\\n    -webkit-animation: fly .4s steps(3) infinite;\\r\\n       -moz-animation: fly .4s steps(3) infinite;\\r\\n        -ms-animation: fly .4s steps(3) infinite;\\r\\n         -o-animation: fly .4s steps(3) infinite;\\r\\n            animation: fly .4s steps(3) infinite;\\r\\n}\\r\\n\\r\\n@-webkit-keyframes fly {\\r\\n   from { background-position:    0px; }\\r\\n     to { background-position: -112.5px; }\\r\\n}\\r\\n\\r\\n@-moz-keyframes fly {\\r\\n   from { background-position:    0px; }\\r\\n     to { background-position: -112.5px; }\\r\\n}\\r\\n\\r\\n@-ms-keyframes fly {\\r\\n   from { background-position:    0px; }\\r\\n     to { background-position: -112.5px; }\\r\\n}\\r\\n\\r\\n@-o-keyframes fly {\\r\\n   from { background-position:    0px; }\\r\\n     to { background-position: -112.5px; }\\r\\n}\\r\\n\\r\\n@keyframes fly {\\r\\n   from { background-position:    0px; }\\r\\n     to { background-position: -112.5px; }\\r\\n}\\r\\n&lt;/code&gt;&lt;/pre&gt;\\r\\n\\r\\n&lt;p&gt;fiddle: &lt;a href=\"http://jsfiddle.net/6qHMG/4/\" rel=\"noreferrer\"&gt;http://jsfiddle.net/6qHMG/4/&lt;/a&gt;&lt;/p&gt;</td>\n",
       "    </tr>\n",
       "    <tr>\n",
       "      <td>1</td>\n",
       "      <td>13656097</td>\n",
       "      <td>Mixing line and scatterplot in ggplot</td>\n",
       "      <td>rggplot2</td>\n",
       "      <td>13656277.0</td>\n",
       "      <td>&lt;p&gt;As @MattBagg has pointed out, this issue is fixed by moving the &lt;code&gt;aes()&lt;/code&gt; for colour out of the main &lt;code&gt;ggplot()&lt;/code&gt; call and into the &lt;code&gt;geom_point()&lt;/code&gt; call.&lt;/p&gt;\\r\\n\\r\\n&lt;pre&gt;&lt;code&gt;library(ggplot2)\\r\\n\\r\\nallData = read.table(header=TRUE,\\r\\ncolClasses=c(\"Date\", \"numeric\", \"character\", \"numeric\", \"numeric\"),\\r\\ntext=\"AnnounceDate MarketProbability DealStatus binary BrierScore\\r\\n2000-04-10         0.3333333   Complete      1  0.2340565\\r\\n2000-06-14         0.2142857   Complete      1  0.3618200\\r\\n2000-06-26         0.6846154   Complete      1  0.3690167\\r\\n2000-06-16         0.1875000   Complete      1  0.4364041\\r\\n2000-10-05         0.9555556   Complete      1  0.3078432\\r\\n2000-10-19         0.8500000   Complete      1  0.2670799\")\\r\\n\\r\\np1 = ggplot(data=allData, aes(x=AnnounceDate)) +\\r\\n     geom_point(aes(y=MarketProbability, colour=DealStatus)) + \\r\\n     scale_colour_hue(h = c(180,0)) + \\r\\n     geom_line(aes(y=BrierScore))\\r\\n\\r\\nggsave(filename=\"plot_1.png\", plot=p1, height=2.5, width=5)\\r\\n&lt;/code&gt;&lt;/pre&gt;\\r\\n\\r\\n&lt;p&gt;&lt;img src=\"https://i.stack.imgur.com/MF9gp.png\" alt=\"enter image description here\"&gt;&lt;/p&gt;</td>\n",
       "    </tr>\n",
       "    <tr>\n",
       "      <td>2</td>\n",
       "      <td>395599</td>\n",
       "      <td>Java graphic library for multicoloured text</td>\n",
       "      <td>javagraphics</td>\n",
       "      <td>395679.0</td>\n",
       "      <td>&lt;p&gt;I'm assuming you're rendering text to an arbitrary component (via paintComponent()) rather than trying to modify the color of text in a JTextPane, JLabel, or other pre-existing widget.&lt;/p&gt;\\r\\n\\r\\n&lt;p&gt;If this is the case, you should look into using an &lt;a href=\"http://java.sun.com/javase/6/docs/api/java/text/AttributedString.html\" rel=\"nofollow noreferrer\"&gt;AttributedString&lt;/a&gt; along with &lt;a href=\"http://java.sun.com/javase/6/docs/api/java/awt/font/TextAttribute.html\" rel=\"nofollow noreferrer\"&gt;TextAttribute&lt;/a&gt;. These allow you to assign different styles (color, font, etc.) to various ranges of characters within a string and then render the whole string using Graphics.drawString(...). This way, the underlying graphics subsystem will handle any necessary changes to the graphics state during rendering making your code much more readable, and probably faster.&lt;/p&gt;\\r\\n\\r\\n&lt;p&gt;&lt;a href=\"http://academicjava.com/Java_help/Tutorial_Examples_Graphics_12.html\" rel=\"nofollow noreferrer\"&gt;Here&lt;/a&gt; is an example usage.&lt;/p&gt;\\r\\n\\r\\n&lt;p&gt;Of course, as other have mentioned, you should also be caching your Color objects rather than recreating them over and over.&lt;/p&gt;</td>\n",
       "    </tr>\n",
       "  </tbody>\n",
       "</table>\n",
       "</div>"
      ],
      "text/plain": [
       "       q_id                                                 q_title  \\\n",
       "0  17108288  Why is my CSS :hover @keyframes animation not working?   \n",
       "1  13656097  Mixing line and scatterplot in ggplot                    \n",
       "2  395599    Java graphic library for multicoloured text              \n",
       "\n",
       "                                  tags  accepted_answer_id  \\\n",
       "0  htmlcss3cross-browsercss-animations  17108610.0           \n",
       "1  rggplot2                             13656277.0           \n",
       "2  javagraphics                         395679.0             \n",
       "\n",
       "                                                                                                                                                                                                                                                                                                                                                                                                                                                                                                                                                                                                                                                                                                                                                                                                                                                                                                                                                                                                                                                                                                                                                                                                                                                                                                                     a_body  \n",
       "0  <p>here it is:</p>\\r\\n\\r\\n<p>u have to add vendor prefixes</p>\\r\\n\\r\\n<pre><code>.twitter-bird {\\r\\n    height: 38px;\\r\\n    width: 37.5px;\\r\\n    background-image: url(\"http://dl.dropboxusercontent.com/u/105046436/tw.png\");\\r\\n}\\r\\n\\r\\n.twitter-bird:hover { \\r\\n    -webkit-animation: fly .4s steps(3) infinite;\\r\\n       -moz-animation: fly .4s steps(3) infinite;\\r\\n        -ms-animation: fly .4s steps(3) infinite;\\r\\n         -o-animation: fly .4s steps(3) infinite;\\r\\n            animation: fly .4s steps(3) infinite;\\r\\n}\\r\\n\\r\\n@-webkit-keyframes fly {\\r\\n   from { background-position:    0px; }\\r\\n     to { background-position: -112.5px; }\\r\\n}\\r\\n\\r\\n@-moz-keyframes fly {\\r\\n   from { background-position:    0px; }\\r\\n     to { background-position: -112.5px; }\\r\\n}\\r\\n\\r\\n@-ms-keyframes fly {\\r\\n   from { background-position:    0px; }\\r\\n     to { background-position: -112.5px; }\\r\\n}\\r\\n\\r\\n@-o-keyframes fly {\\r\\n   from { background-position:    0px; }\\r\\n     to { background-position: -112.5px; }\\r\\n}\\r\\n\\r\\n@keyframes fly {\\r\\n   from { background-position:    0px; }\\r\\n     to { background-position: -112.5px; }\\r\\n}\\r\\n</code></pre>\\r\\n\\r\\n<p>fiddle: <a href=\"http://jsfiddle.net/6qHMG/4/\" rel=\"noreferrer\">http://jsfiddle.net/6qHMG/4/</a></p>  \n",
       "1  <p>As @MattBagg has pointed out, this issue is fixed by moving the <code>aes()</code> for colour out of the main <code>ggplot()</code> call and into the <code>geom_point()</code> call.</p>\\r\\n\\r\\n<pre><code>library(ggplot2)\\r\\n\\r\\nallData = read.table(header=TRUE,\\r\\ncolClasses=c(\"Date\", \"numeric\", \"character\", \"numeric\", \"numeric\"),\\r\\ntext=\"AnnounceDate MarketProbability DealStatus binary BrierScore\\r\\n2000-04-10         0.3333333   Complete      1  0.2340565\\r\\n2000-06-14         0.2142857   Complete      1  0.3618200\\r\\n2000-06-26         0.6846154   Complete      1  0.3690167\\r\\n2000-06-16         0.1875000   Complete      1  0.4364041\\r\\n2000-10-05         0.9555556   Complete      1  0.3078432\\r\\n2000-10-19         0.8500000   Complete      1  0.2670799\")\\r\\n\\r\\np1 = ggplot(data=allData, aes(x=AnnounceDate)) +\\r\\n     geom_point(aes(y=MarketProbability, colour=DealStatus)) + \\r\\n     scale_colour_hue(h = c(180,0)) + \\r\\n     geom_line(aes(y=BrierScore))\\r\\n\\r\\nggsave(filename=\"plot_1.png\", plot=p1, height=2.5, width=5)\\r\\n</code></pre>\\r\\n\\r\\n<p><img src=\"https://i.stack.imgur.com/MF9gp.png\" alt=\"enter image description here\"></p>                                                                                                                       \n",
       "2  <p>I'm assuming you're rendering text to an arbitrary component (via paintComponent()) rather than trying to modify the color of text in a JTextPane, JLabel, or other pre-existing widget.</p>\\r\\n\\r\\n<p>If this is the case, you should look into using an <a href=\"http://java.sun.com/javase/6/docs/api/java/text/AttributedString.html\" rel=\"nofollow noreferrer\">AttributedString</a> along with <a href=\"http://java.sun.com/javase/6/docs/api/java/awt/font/TextAttribute.html\" rel=\"nofollow noreferrer\">TextAttribute</a>. These allow you to assign different styles (color, font, etc.) to various ranges of characters within a string and then render the whole string using Graphics.drawString(...). This way, the underlying graphics subsystem will handle any necessary changes to the graphics state during rendering making your code much more readable, and probably faster.</p>\\r\\n\\r\\n<p><a href=\"http://academicjava.com/Java_help/Tutorial_Examples_Graphics_12.html\" rel=\"nofollow noreferrer\">Here</a> is an example usage.</p>\\r\\n\\r\\n<p>Of course, as other have mentioned, you should also be caching your Color objects rather than recreating them over and over.</p>                                                                                                                   "
      ]
     },
     "execution_count": 8,
     "metadata": {},
     "output_type": "execute_result"
    }
   ],
   "source": [
    "corpus = construct_corpus(questions_sample)\n",
    "corpus.head(3)"
   ]
  },
  {
   "cell_type": "markdown",
   "metadata": {},
   "source": [
    "# Create and Train Model"
   ]
  },
  {
   "cell_type": "markdown",
   "metadata": {},
   "source": [
    "## cleaner"
   ]
  },
  {
   "cell_type": "code",
   "execution_count": 9,
   "metadata": {},
   "outputs": [],
   "source": [
    "from sklearn.base import TransformerMixin\n",
    "from bs4 import BeautifulSoup\n",
    "\n",
    "# Custom transformer using spaCy\n",
    "class predictors(TransformerMixin):\n",
    "    def transform(self, X, **transform_params):\n",
    "        # Cleaning Text\n",
    "        return [clean_text(text) for text in X]\n",
    "\n",
    "    def fit(self, X, y=None, **fit_params):\n",
    "        return self\n",
    "\n",
    "    def get_params(self, deep=True):\n",
    "        return {}\n",
    "\n",
    "# Basic function to clean the text\n",
    "def clean_text(text):\n",
    "    # gets just the txt, without the html tags\n",
    "    t1 = BeautifulSoup(text, 'html.parser').get_text()\n",
    "    # Removing spaces and converting text into lowercase\n",
    "    t2 = t1.strip().lower()\n",
    "    return t2"
   ]
  },
  {
   "cell_type": "code",
   "execution_count": 19,
   "metadata": {},
   "outputs": [
    {
     "name": "stdout",
     "output_type": "stream",
     "text": [
      "===========\n",
      "Mixing line and scatterplot in ggplot\n",
      "===========\n",
      "mixing line and scatterplot in ggplot\n",
      "===========\n",
      "['mixing line and scatterplot in ggplot']\n"
     ]
    }
   ],
   "source": [
    "# tests on the cleaner\n",
    "t1 = predictors()\n",
    "t2 = corpus.loc[1,\"q_title\"]\n",
    "\n",
    "print(\"===========\")\n",
    "print(t2)\n",
    "print(\"===========\")\n",
    "print(clean_text(t2))\n",
    "print(\"===========\")\n",
    "print(t1.transform([t2]))"
   ]
  },
  {
   "cell_type": "markdown",
   "metadata": {},
   "source": [
    "## tokenizer"
   ]
  },
  {
   "cell_type": "code",
   "execution_count": 20,
   "metadata": {},
   "outputs": [],
   "source": [
    "import string\n",
    "import spacy\n",
    "\n",
    "# Create our list of punctuation marks\n",
    "# TODO more punctuations???\n",
    "punctuations = string.punctuation\n",
    "\n",
    "# Create our list of stopwords\n",
    "# TODO en_core_web_sm ???\n",
    "nlp = spacy.load(\"en\")\n",
    "stop_words = spacy.lang.en.stop_words.STOP_WORDS\n",
    "\n",
    "# Load English tokenizer, tagger, parser, NER and word vectors\n",
    "parser = spacy.lang.en.English()\n",
    "\n",
    "# Creating our tokenizer function\n",
    "def spacy_tokenizer(sentence):\n",
    "    # Creating our token object, which is used to create documents with linguistic annotations.\n",
    "    mytokens = parser(sentence)\n",
    "\n",
    "    # Lemmatizing each token and converting each token into lowercase\n",
    "    mytokens = [ word.lemma_.lower().strip() if word.lemma_ != \"-PRON-\" else word.lower_ for word in mytokens ]\n",
    "\n",
    "    # Removing stop words\n",
    "    mytokens = [ word for word in mytokens if word not in stop_words and word not in punctuations ]\n",
    "\n",
    "    # return preprocessed list of tokens\n",
    "    return mytokens"
   ]
  },
  {
   "cell_type": "markdown",
   "metadata": {},
   "source": [
    "## vectorizer"
   ]
  },
  {
   "cell_type": "code",
   "execution_count": 21,
   "metadata": {},
   "outputs": [],
   "source": [
    "from sklearn.feature_extraction.text import TfidfVectorizer\n",
    "\n",
    "# TODO tweak min doc frequency???\n",
    "vectorizer = TfidfVectorizer(analyzer='word', ngram_range=(1,3), min_df = 0)"
   ]
  },
  {
   "cell_type": "markdown",
   "metadata": {},
   "source": [
    "## train model"
   ]
  },
  {
   "cell_type": "code",
   "execution_count": 22,
   "metadata": {},
   "outputs": [],
   "source": [
    "from sklearn.pipeline import Pipeline\n",
    "\n",
    "# Create pipeline using a custom cleaner, and our vectorizer\n",
    "pipe = Pipeline([\n",
    "    (\"cleaner\", predictors()),\n",
    "    ('vectorizer', vectorizer)\n",
    "])\n",
    "\n",
    "# model generation\n",
    "m1 = pipe.fit_transform(corpus.q_title)"
   ]
  },
  {
   "cell_type": "code",
   "execution_count": 23,
   "metadata": {},
   "outputs": [
    {
     "name": "stdout",
     "output_type": "stream",
     "text": [
      "111469\n",
      "['00 and' '00 and ends' '00 in' '00 in every' '00653' '00653 error'\n",
      " '00653 error on' '07' '07 25' '07 25 has' '0700' '0700 registration'\n",
      " '0700 registration of' '0c' '0px' '0px left' '0px left to' '0x0'\n",
      " '0x8876086a' '0x8876086a when' '0x8876086a when running' '10' '10 100'\n",
      " '10 100 1000' '10 11' '10 cfchart' '10 cfchart how' '10 in' '10 in log'\n",
      " '10 js' '10 matrix' '10 matrix to' '10 of' '10 of the' '10 or'\n",
      " '10 or more' '10 python' '10 value' '10 value in' '10 waterline'\n",
      " '10 waterline what' '10 years' '10 years of' '100' '100 00' '100 00 in'\n",
      " '100 1000' '100 99' '100 99 99' '100 both' '100 both width' '100 entries'\n",
      " '100 entries through' '100 in' '100 in mpandroidchart' '100 opaque'\n",
      " '100 radius' '100 radius miles' '100 random' '100 random surveys'\n",
      " '100 range' '1000' '1000 10' '1000 10 matrix' '1000 90' '1000 and'\n",
      " '1000 and 1000' '10000' '10000 milliseconds' '1000k' '1000k instead'\n",
      " '1000k instead of' '101' '10140' '10140 nor' '10140 nor curent' '1063'\n",
      " '1063 argument' '1063 argument count' '10711' '11' '11 doesn'\n",
      " '11 doesn display' '116' '12' '12 byte' '12 byte array' '12 to'\n",
      " '12 to 13' '1234' '127' '128' '12h' '12h am' '12h am pm' '13' '13 10'\n",
      " '13 and' '13 and 10']\n"
     ]
    }
   ],
   "source": [
    "# inspect tokens\n",
    "tokens = vectorizer.get_feature_names()\n",
    "print(len(tokens))\n",
    "print(np.asarray(tokens[1:100]))"
   ]
  },
  {
   "cell_type": "code",
   "execution_count": 24,
   "metadata": {},
   "outputs": [],
   "source": [
    "from sklearn.metrics.pairwise import linear_kernel\n",
    "\n",
    "# helper function to compare a input question to every question in the corpus\n",
    "def find_similar(vectorizer, tfidf_matrix, question_input, top_n = 3):\n",
    "    t1 = vectorizer.transform([question_input])\n",
    "    cosine_similarities = linear_kernel(t1, tfidf_matrix).flatten()\n",
    "    related_docs_indices = [i for i in cosine_similarities.argsort()[::-1]]\n",
    "    return [(index, cosine_similarities[index]) for index in related_docs_indices][0:top_n]"
   ]
  },
  {
   "cell_type": "code",
   "execution_count": 45,
   "metadata": {},
   "outputs": [],
   "source": [
    "# helper function to decorate the results found by the find_similar function\n",
    "def decorate_answers(similar_qs, corpus = corpus):\n",
    "    t1 = pd.DataFrame(similar_qs, columns = [\"q_index\", \"cos_similarity\"]).set_index([\"q_index\"])\n",
    "    t2 = corpus.iloc[t1.index]\n",
    "    t3 = pd.concat([t1, t2], axis = 1)\n",
    "    t4 = t3[[\n",
    "        \"cos_similarity\"\n",
    "        , \"q_id\"\n",
    "        , \"q_title\"\n",
    "        , \"tags\"\n",
    "        , \"accepted_answer_id\"\n",
    "        , \"a_body\"\n",
    "    ]]\n",
    "    return(t4)"
   ]
  },
  {
   "cell_type": "markdown",
   "metadata": {},
   "source": [
    "# match questions"
   ]
  },
  {
   "cell_type": "markdown",
   "metadata": {},
   "source": [
    "## existing question"
   ]
  },
  {
   "cell_type": "code",
   "execution_count": 46,
   "metadata": {},
   "outputs": [
    {
     "data": {
      "text/plain": [
       "[(9406, 0.5465365979311178),\n",
       " (2683, 0.5340944929842533),\n",
       " (99, 0.5201285716189932)]"
      ]
     },
     "execution_count": 46,
     "metadata": {},
     "output_type": "execute_result"
    }
   ],
   "source": [
    "# match on a question that is an exact match of an existing question\n",
    "# should contain at least 1 match with cosine similarity == 1\n",
    "similar_qs = find_similar(\n",
    "    vectorizer = vectorizer\n",
    "    , tfidf_matrix = m1\n",
    "    , question_input = \"What is the difference between \\r and \\n?\"\n",
    ")\n",
    "similar_qs"
   ]
  },
  {
   "cell_type": "code",
   "execution_count": 50,
   "metadata": {},
   "outputs": [
    {
     "data": {
      "text/html": [
       "<div>\n",
       "<style scoped>\n",
       "    .dataframe tbody tr th:only-of-type {\n",
       "        vertical-align: middle;\n",
       "    }\n",
       "\n",
       "    .dataframe tbody tr th {\n",
       "        vertical-align: top;\n",
       "    }\n",
       "\n",
       "    .dataframe thead th {\n",
       "        text-align: right;\n",
       "    }\n",
       "</style>\n",
       "<table border=\"1\" class=\"dataframe\">\n",
       "  <thead>\n",
       "    <tr style=\"text-align: right;\">\n",
       "      <th></th>\n",
       "      <th>cos_similarity</th>\n",
       "      <th>q_id</th>\n",
       "      <th>q_title</th>\n",
       "      <th>tags</th>\n",
       "      <th>accepted_answer_id</th>\n",
       "      <th>a_body</th>\n",
       "    </tr>\n",
       "  </thead>\n",
       "  <tbody>\n",
       "    <tr>\n",
       "      <td>8822</td>\n",
       "      <td>0.304882</td>\n",
       "      <td>19598522</td>\n",
       "      <td>How do create perpetual animation without freezing?</td>\n",
       "      <td>javascriptanimationwhile-loopconditionalinfinite-loop</td>\n",
       "      <td>19598634.0</td>\n",
       "      <td>&lt;p&gt;Since Javascript is asynchornous there is no &lt;code&gt;sleep&lt;/code&gt; methode. But instead, a good idea is to use &lt;a href=\"http://www.w3schools.com/jsref/met_win_setinterval.asp\" rel=\"nofollow\"&gt;&lt;code&gt;setInterval&lt;/code&gt;&lt;/a&gt; or &lt;a href=\"http://www.w3schools.com/jsref/met_win_settimeout.asp\" rel=\"nofollow\"&gt;&lt;code&gt;setTimeout&lt;/code&gt;&lt;/a&gt;.&lt;/p&gt;\\r\\n\\r\\n&lt;p&gt;Without these function, your loop is going to take as most ressources as it can and it can result in a freeze (depending on your browser).&lt;/p&gt;</td>\n",
       "    </tr>\n",
       "    <tr>\n",
       "      <td>2353</td>\n",
       "      <td>0.267349</td>\n",
       "      <td>39579175</td>\n",
       "      <td>How do I create two different backgrounds on the same page?</td>\n",
       "      <td>htmlcssbackgroundbackground-color</td>\n",
       "      <td>39579501.0</td>\n",
       "      <td>&lt;p&gt;the curved separation comes from the fact that the header image has purple in the bottom to create the curve. the actual file can be seen here: &lt;a href=\"http://www.zucoffee.com/wp-content/themes/zu-coffee/images/header-bg.gif\" rel=\"nofollow\"&gt;http://www.zucoffee.com/wp-content/themes/zu-coffee/images/header-bg.gif&lt;/a&gt;&lt;/p&gt;\\r\\n\\r\\n&lt;p&gt;This (to my knowledge) is fairly common practice to have one background that serves the entire page, and have another separate background on top of that which serves just the header and/or footer. depending on the style of the site, this may include interesting separations, and I have also seen .pngs used to get the header/footer design to 'fade' into the main background. &lt;/p&gt;\\r\\n\\r\\n&lt;p&gt;There are obviously many different ways that you can do this, and I'm sure someone will want to add on to my answer, but the way your example site chose was to use the &lt;code&gt;background&lt;/code&gt; property on their body and header tags to add their images. a snippet from their css file below:&lt;/p&gt;\\r\\n\\r\\n&lt;pre&gt;&lt;code&gt;body { \\r\\n  padding:0; \\r\\n  margin:0;\\r\\n  background:#4b1259 url(images/tile-bg.gif) repeat-x;\\r\\n  width:100%;\\r\\n  display:table;\\r\\n  font:16px/22px Georgia;\\r\\n  color:#ffffff;\\r\\n  text-align:left; \\r\\n}\\r\\n.header-bg { //this is where i found them adding the header image.\\r\\n  margin-bottom:20px;\\r\\n  background:url(images/header-bg.gif) no-repeat center top;\\r\\n}\\r\\n&lt;/code&gt;&lt;/pre&gt;</td>\n",
       "    </tr>\n",
       "    <tr>\n",
       "      <td>7321</td>\n",
       "      <td>0.265658</td>\n",
       "      <td>1222713</td>\n",
       "      <td>how do I create a line of arbitrary thickness using Bresenham?</td>\n",
       "      <td>algorithmgraphics</td>\n",
       "      <td>1222785.0</td>\n",
       "      <td>&lt;p&gt;I think the best way is to draw a rectangle rather than a line since a line with width is a two dimensional object. Tring to draw a set of parallel lines to avoid overdraw (to reduce write bandwidth) and underdraw (missing pixels) would be quite complex. It's not too hard to calculate the corner points of the rectangle from the start and end point and the width.&lt;/p&gt;\\r\\n\\r\\n&lt;p&gt;So, following a comment below, the process to do this would be:-&lt;/p&gt;\\r\\n\\r\\n&lt;ol&gt;\\r\\n&lt;li&gt;Create a rectangle the same length as the required line and width equal to the desired width, so (0,0) to (width,length)&lt;/li&gt;\\r\\n&lt;li&gt;Rotate and translate the rectangles corner coordinates to the desired position using a 2D transformation&lt;/li&gt;\\r\\n&lt;li&gt;Rasterise the rotated rectangle, either using a hardware accelerated renderer (an OpenGL quad for example*) or use a software rasteriser. It can be rendered using a quad rasteriser or as a pair of triangles (top left and bottom right for example).&lt;/li&gt;\\r\\n&lt;/ol&gt;\\r\\n\\r\\n&lt;p&gt;Note *: If you're using OpenGL you can also do Step 2 at the same time. Of course, using OpenGL does mean understanding OpenGL (big and complex) and this application may make that a tricky thing to implement at such a late stage in development.&lt;/p&gt;</td>\n",
       "    </tr>\n",
       "  </tbody>\n",
       "</table>\n",
       "</div>"
      ],
      "text/plain": [
       "      cos_similarity      q_id  \\\n",
       "8822  0.304882        19598522   \n",
       "2353  0.267349        39579175   \n",
       "7321  0.265658        1222713    \n",
       "\n",
       "                                                             q_title  \\\n",
       "8822  How do create perpetual animation without freezing?              \n",
       "2353  How do I create two different backgrounds on the same page?      \n",
       "7321  how do I create a line of arbitrary thickness using Bresenham?   \n",
       "\n",
       "                                                       tags  \\\n",
       "8822  javascriptanimationwhile-loopconditionalinfinite-loop   \n",
       "2353  htmlcssbackgroundbackground-color                       \n",
       "7321  algorithmgraphics                                       \n",
       "\n",
       "      accepted_answer_id  \\\n",
       "8822  19598634.0           \n",
       "2353  39579501.0           \n",
       "7321  1222785.0            \n",
       "\n",
       "                                                                                                                                                                                                                                                                                                                                                                                                                                                                                                                                                                                                                                                                                                                                                                                                                                                                                                                                                                                                                                                                                                                                                                                                                                                                                                                                                                                                                                                                                     a_body  \n",
       "8822  <p>Since Javascript is asynchornous there is no <code>sleep</code> methode. But instead, a good idea is to use <a href=\"http://www.w3schools.com/jsref/met_win_setinterval.asp\" rel=\"nofollow\"><code>setInterval</code></a> or <a href=\"http://www.w3schools.com/jsref/met_win_settimeout.asp\" rel=\"nofollow\"><code>setTimeout</code></a>.</p>\\r\\n\\r\\n<p>Without these function, your loop is going to take as most ressources as it can and it can result in a freeze (depending on your browser).</p>                                                                                                                                                                                                                                                                                                                                                                                                                                                                                                                                                                                                                                                                                                                                                                                                                                                                                                                                                                                \n",
       "2353  <p>the curved separation comes from the fact that the header image has purple in the bottom to create the curve. the actual file can be seen here: <a href=\"http://www.zucoffee.com/wp-content/themes/zu-coffee/images/header-bg.gif\" rel=\"nofollow\">http://www.zucoffee.com/wp-content/themes/zu-coffee/images/header-bg.gif</a></p>\\r\\n\\r\\n<p>This (to my knowledge) is fairly common practice to have one background that serves the entire page, and have another separate background on top of that which serves just the header and/or footer. depending on the style of the site, this may include interesting separations, and I have also seen .pngs used to get the header/footer design to 'fade' into the main background. </p>\\r\\n\\r\\n<p>There are obviously many different ways that you can do this, and I'm sure someone will want to add on to my answer, but the way your example site chose was to use the <code>background</code> property on their body and header tags to add their images. a snippet from their css file below:</p>\\r\\n\\r\\n<pre><code>body { \\r\\n  padding:0; \\r\\n  margin:0;\\r\\n  background:#4b1259 url(images/tile-bg.gif) repeat-x;\\r\\n  width:100%;\\r\\n  display:table;\\r\\n  font:16px/22px Georgia;\\r\\n  color:#ffffff;\\r\\n  text-align:left; \\r\\n}\\r\\n.header-bg { //this is where i found them adding the header image.\\r\\n  margin-bottom:20px;\\r\\n  background:url(images/header-bg.gif) no-repeat center top;\\r\\n}\\r\\n</code></pre>  \n",
       "7321  <p>I think the best way is to draw a rectangle rather than a line since a line with width is a two dimensional object. Tring to draw a set of parallel lines to avoid overdraw (to reduce write bandwidth) and underdraw (missing pixels) would be quite complex. It's not too hard to calculate the corner points of the rectangle from the start and end point and the width.</p>\\r\\n\\r\\n<p>So, following a comment below, the process to do this would be:-</p>\\r\\n\\r\\n<ol>\\r\\n<li>Create a rectangle the same length as the required line and width equal to the desired width, so (0,0) to (width,length)</li>\\r\\n<li>Rotate and translate the rectangles corner coordinates to the desired position using a 2D transformation</li>\\r\\n<li>Rasterise the rotated rectangle, either using a hardware accelerated renderer (an OpenGL quad for example*) or use a software rasteriser. It can be rendered using a quad rasteriser or as a pair of triangles (top left and bottom right for example).</li>\\r\\n</ol>\\r\\n\\r\\n<p>Note *: If you're using OpenGL you can also do Step 2 at the same time. Of course, using OpenGL does mean understanding OpenGL (big and complex) and this application may make that a tricky thing to implement at such a late stage in development.</p>                                                                                                                                                                                               "
      ]
     },
     "execution_count": 50,
     "metadata": {},
     "output_type": "execute_result"
    }
   ],
   "source": [
    "t1 = decorate_answers(similar_qs)\n",
    "t1"
   ]
  },
  {
   "cell_type": "markdown",
   "metadata": {},
   "source": [
    "## user input question"
   ]
  },
  {
   "cell_type": "code",
   "execution_count": 48,
   "metadata": {},
   "outputs": [
    {
     "data": {
      "text/plain": [
       "[(8822, 0.30488205766262383),\n",
       " (2353, 0.26734856457665773),\n",
       " (7321, 0.26565789795496053)]"
      ]
     },
     "execution_count": 48,
     "metadata": {},
     "output_type": "execute_result"
    }
   ],
   "source": [
    "# match on a question that is not an existing question\n",
    "similar_qs = find_similar(\n",
    "    vectorizer = vectorizer\n",
    "    , tfidf_matrix = m1\n",
    "    , question_input = \"How do I create a bar chart?\"\n",
    ")\n",
    "similar_qs"
   ]
  },
  {
   "cell_type": "code",
   "execution_count": 51,
   "metadata": {},
   "outputs": [
    {
     "data": {
      "text/html": [
       "<div>\n",
       "<style scoped>\n",
       "    .dataframe tbody tr th:only-of-type {\n",
       "        vertical-align: middle;\n",
       "    }\n",
       "\n",
       "    .dataframe tbody tr th {\n",
       "        vertical-align: top;\n",
       "    }\n",
       "\n",
       "    .dataframe thead th {\n",
       "        text-align: right;\n",
       "    }\n",
       "</style>\n",
       "<table border=\"1\" class=\"dataframe\">\n",
       "  <thead>\n",
       "    <tr style=\"text-align: right;\">\n",
       "      <th></th>\n",
       "      <th>cos_similarity</th>\n",
       "      <th>q_id</th>\n",
       "      <th>q_title</th>\n",
       "      <th>tags</th>\n",
       "      <th>accepted_answer_id</th>\n",
       "      <th>a_body</th>\n",
       "    </tr>\n",
       "  </thead>\n",
       "  <tbody>\n",
       "    <tr>\n",
       "      <td>8822</td>\n",
       "      <td>0.304882</td>\n",
       "      <td>19598522</td>\n",
       "      <td>How do create perpetual animation without freezing?</td>\n",
       "      <td>javascriptanimationwhile-loopconditionalinfinite-loop</td>\n",
       "      <td>19598634.0</td>\n",
       "      <td>&lt;p&gt;Since Javascript is asynchornous there is no &lt;code&gt;sleep&lt;/code&gt; methode. But instead, a good idea is to use &lt;a href=\"http://www.w3schools.com/jsref/met_win_setinterval.asp\" rel=\"nofollow\"&gt;&lt;code&gt;setInterval&lt;/code&gt;&lt;/a&gt; or &lt;a href=\"http://www.w3schools.com/jsref/met_win_settimeout.asp\" rel=\"nofollow\"&gt;&lt;code&gt;setTimeout&lt;/code&gt;&lt;/a&gt;.&lt;/p&gt;\\r\\n\\r\\n&lt;p&gt;Without these function, your loop is going to take as most ressources as it can and it can result in a freeze (depending on your browser).&lt;/p&gt;</td>\n",
       "    </tr>\n",
       "    <tr>\n",
       "      <td>2353</td>\n",
       "      <td>0.267349</td>\n",
       "      <td>39579175</td>\n",
       "      <td>How do I create two different backgrounds on the same page?</td>\n",
       "      <td>htmlcssbackgroundbackground-color</td>\n",
       "      <td>39579501.0</td>\n",
       "      <td>&lt;p&gt;the curved separation comes from the fact that the header image has purple in the bottom to create the curve. the actual file can be seen here: &lt;a href=\"http://www.zucoffee.com/wp-content/themes/zu-coffee/images/header-bg.gif\" rel=\"nofollow\"&gt;http://www.zucoffee.com/wp-content/themes/zu-coffee/images/header-bg.gif&lt;/a&gt;&lt;/p&gt;\\r\\n\\r\\n&lt;p&gt;This (to my knowledge) is fairly common practice to have one background that serves the entire page, and have another separate background on top of that which serves just the header and/or footer. depending on the style of the site, this may include interesting separations, and I have also seen .pngs used to get the header/footer design to 'fade' into the main background. &lt;/p&gt;\\r\\n\\r\\n&lt;p&gt;There are obviously many different ways that you can do this, and I'm sure someone will want to add on to my answer, but the way your example site chose was to use the &lt;code&gt;background&lt;/code&gt; property on their body and header tags to add their images. a snippet from their css file below:&lt;/p&gt;\\r\\n\\r\\n&lt;pre&gt;&lt;code&gt;body { \\r\\n  padding:0; \\r\\n  margin:0;\\r\\n  background:#4b1259 url(images/tile-bg.gif) repeat-x;\\r\\n  width:100%;\\r\\n  display:table;\\r\\n  font:16px/22px Georgia;\\r\\n  color:#ffffff;\\r\\n  text-align:left; \\r\\n}\\r\\n.header-bg { //this is where i found them adding the header image.\\r\\n  margin-bottom:20px;\\r\\n  background:url(images/header-bg.gif) no-repeat center top;\\r\\n}\\r\\n&lt;/code&gt;&lt;/pre&gt;</td>\n",
       "    </tr>\n",
       "    <tr>\n",
       "      <td>7321</td>\n",
       "      <td>0.265658</td>\n",
       "      <td>1222713</td>\n",
       "      <td>how do I create a line of arbitrary thickness using Bresenham?</td>\n",
       "      <td>algorithmgraphics</td>\n",
       "      <td>1222785.0</td>\n",
       "      <td>&lt;p&gt;I think the best way is to draw a rectangle rather than a line since a line with width is a two dimensional object. Tring to draw a set of parallel lines to avoid overdraw (to reduce write bandwidth) and underdraw (missing pixels) would be quite complex. It's not too hard to calculate the corner points of the rectangle from the start and end point and the width.&lt;/p&gt;\\r\\n\\r\\n&lt;p&gt;So, following a comment below, the process to do this would be:-&lt;/p&gt;\\r\\n\\r\\n&lt;ol&gt;\\r\\n&lt;li&gt;Create a rectangle the same length as the required line and width equal to the desired width, so (0,0) to (width,length)&lt;/li&gt;\\r\\n&lt;li&gt;Rotate and translate the rectangles corner coordinates to the desired position using a 2D transformation&lt;/li&gt;\\r\\n&lt;li&gt;Rasterise the rotated rectangle, either using a hardware accelerated renderer (an OpenGL quad for example*) or use a software rasteriser. It can be rendered using a quad rasteriser or as a pair of triangles (top left and bottom right for example).&lt;/li&gt;\\r\\n&lt;/ol&gt;\\r\\n\\r\\n&lt;p&gt;Note *: If you're using OpenGL you can also do Step 2 at the same time. Of course, using OpenGL does mean understanding OpenGL (big and complex) and this application may make that a tricky thing to implement at such a late stage in development.&lt;/p&gt;</td>\n",
       "    </tr>\n",
       "  </tbody>\n",
       "</table>\n",
       "</div>"
      ],
      "text/plain": [
       "      cos_similarity      q_id  \\\n",
       "8822  0.304882        19598522   \n",
       "2353  0.267349        39579175   \n",
       "7321  0.265658        1222713    \n",
       "\n",
       "                                                             q_title  \\\n",
       "8822  How do create perpetual animation without freezing?              \n",
       "2353  How do I create two different backgrounds on the same page?      \n",
       "7321  how do I create a line of arbitrary thickness using Bresenham?   \n",
       "\n",
       "                                                       tags  \\\n",
       "8822  javascriptanimationwhile-loopconditionalinfinite-loop   \n",
       "2353  htmlcssbackgroundbackground-color                       \n",
       "7321  algorithmgraphics                                       \n",
       "\n",
       "      accepted_answer_id  \\\n",
       "8822  19598634.0           \n",
       "2353  39579501.0           \n",
       "7321  1222785.0            \n",
       "\n",
       "                                                                                                                                                                                                                                                                                                                                                                                                                                                                                                                                                                                                                                                                                                                                                                                                                                                                                                                                                                                                                                                                                                                                                                                                                                                                                                                                                                                                                                                                                     a_body  \n",
       "8822  <p>Since Javascript is asynchornous there is no <code>sleep</code> methode. But instead, a good idea is to use <a href=\"http://www.w3schools.com/jsref/met_win_setinterval.asp\" rel=\"nofollow\"><code>setInterval</code></a> or <a href=\"http://www.w3schools.com/jsref/met_win_settimeout.asp\" rel=\"nofollow\"><code>setTimeout</code></a>.</p>\\r\\n\\r\\n<p>Without these function, your loop is going to take as most ressources as it can and it can result in a freeze (depending on your browser).</p>                                                                                                                                                                                                                                                                                                                                                                                                                                                                                                                                                                                                                                                                                                                                                                                                                                                                                                                                                                                \n",
       "2353  <p>the curved separation comes from the fact that the header image has purple in the bottom to create the curve. the actual file can be seen here: <a href=\"http://www.zucoffee.com/wp-content/themes/zu-coffee/images/header-bg.gif\" rel=\"nofollow\">http://www.zucoffee.com/wp-content/themes/zu-coffee/images/header-bg.gif</a></p>\\r\\n\\r\\n<p>This (to my knowledge) is fairly common practice to have one background that serves the entire page, and have another separate background on top of that which serves just the header and/or footer. depending on the style of the site, this may include interesting separations, and I have also seen .pngs used to get the header/footer design to 'fade' into the main background. </p>\\r\\n\\r\\n<p>There are obviously many different ways that you can do this, and I'm sure someone will want to add on to my answer, but the way your example site chose was to use the <code>background</code> property on their body and header tags to add their images. a snippet from their css file below:</p>\\r\\n\\r\\n<pre><code>body { \\r\\n  padding:0; \\r\\n  margin:0;\\r\\n  background:#4b1259 url(images/tile-bg.gif) repeat-x;\\r\\n  width:100%;\\r\\n  display:table;\\r\\n  font:16px/22px Georgia;\\r\\n  color:#ffffff;\\r\\n  text-align:left; \\r\\n}\\r\\n.header-bg { //this is where i found them adding the header image.\\r\\n  margin-bottom:20px;\\r\\n  background:url(images/header-bg.gif) no-repeat center top;\\r\\n}\\r\\n</code></pre>  \n",
       "7321  <p>I think the best way is to draw a rectangle rather than a line since a line with width is a two dimensional object. Tring to draw a set of parallel lines to avoid overdraw (to reduce write bandwidth) and underdraw (missing pixels) would be quite complex. It's not too hard to calculate the corner points of the rectangle from the start and end point and the width.</p>\\r\\n\\r\\n<p>So, following a comment below, the process to do this would be:-</p>\\r\\n\\r\\n<ol>\\r\\n<li>Create a rectangle the same length as the required line and width equal to the desired width, so (0,0) to (width,length)</li>\\r\\n<li>Rotate and translate the rectangles corner coordinates to the desired position using a 2D transformation</li>\\r\\n<li>Rasterise the rotated rectangle, either using a hardware accelerated renderer (an OpenGL quad for example*) or use a software rasteriser. It can be rendered using a quad rasteriser or as a pair of triangles (top left and bottom right for example).</li>\\r\\n</ol>\\r\\n\\r\\n<p>Note *: If you're using OpenGL you can also do Step 2 at the same time. Of course, using OpenGL does mean understanding OpenGL (big and complex) and this application may make that a tricky thing to implement at such a late stage in development.</p>                                                                                                                                                                                               "
      ]
     },
     "execution_count": 51,
     "metadata": {},
     "output_type": "execute_result"
    }
   ],
   "source": [
    "t1 = decorate_answers(similar_qs)\n",
    "t1"
   ]
  },
  {
   "cell_type": "markdown",
   "metadata": {},
   "source": [
    "## list of user input questions"
   ]
  },
  {
   "cell_type": "code",
   "execution_count": 71,
   "metadata": {},
   "outputs": [],
   "source": [
    "question_list = [\n",
    "    'Is there a way to visualize the distribution of my data?',\n",
    "    'How do I show data on a map?',\n",
    "    'How can I illustrate changes in my data over time?',\n",
    "    'Is there a way to show a “heatmap” of my data?',\n",
    "    'How can I present a picture of a network?',\n",
    "    'How can I plot a comparison of two data sets?',\n",
    "    'How can I create a chart without coding?',\n",
    "    'When should I use a bar chart versus a pie chart?',\n",
    "    'What is the easiest way to create a diagram of a network?',\n",
    "    'I need help creating a visualization/diagram/presentation of my data',\n",
    "    'When should I use a scatter plot?',\n",
    "    'Data visualization tips',\n",
    "    'How do I make a network diagram in d3?',\n",
    "    'How do I plot 2 datasets?',\n",
    "    'How can I animate a bar chart in Python?',\n",
    "    'I know how to create a line chart with matplotlib, but how do I do it in R?',\n",
    "    'What is the easiest way to create a heat map of the US?',\n",
    "    'How can I animate a choropleth in Tableau?  In PowerBI?  In D3?'\n",
    "]\n",
    "\n",
    "def g1(question_list):\n",
    "    res = []\n",
    "    res_df = pd.DataFrame()\n",
    "    for q in question_list:\n",
    "        similar_qs = find_similar(\n",
    "            vectorizer = vectorizer\n",
    "            , tfidf_matrix = m1\n",
    "            , question_input = q\n",
    "            , top_n = 5\n",
    "        )\n",
    "        t1 = decorate_answers(similar_qs)\n",
    "        t1[\"user_input\"] = q\n",
    "        t2 = t1[[\n",
    "            \"user_input\"\n",
    "            , \"cos_similarity\"\n",
    "            , \"q_id\"\n",
    "            , \"q_title\"\n",
    "            , \"tags\"\n",
    "            , \"accepted_answer_id\"\n",
    "            , \"a_body\"\n",
    "        ]]\n",
    "        res.append(t2)\n",
    "    res_df = pd.concat(res)\n",
    "    res_df.sort_values([\"user_input\", \"cos_similarity\"], ascending=[True, False])\n",
    "    return(res_df)\n",
    "\n",
    "t1 = g1(question_list)"
   ]
  },
  {
   "cell_type": "code",
   "execution_count": 72,
   "metadata": {
    "collapsed": true
   },
   "outputs": [
    {
     "data": {
      "text/html": [
       "<div>\n",
       "<style scoped>\n",
       "    .dataframe tbody tr th:only-of-type {\n",
       "        vertical-align: middle;\n",
       "    }\n",
       "\n",
       "    .dataframe tbody tr th {\n",
       "        vertical-align: top;\n",
       "    }\n",
       "\n",
       "    .dataframe thead th {\n",
       "        text-align: right;\n",
       "    }\n",
       "</style>\n",
       "<table border=\"1\" class=\"dataframe\">\n",
       "  <thead>\n",
       "    <tr style=\"text-align: right;\">\n",
       "      <th></th>\n",
       "      <th>user_input</th>\n",
       "      <th>cos_similarity</th>\n",
       "      <th>q_id</th>\n",
       "      <th>q_title</th>\n",
       "      <th>tags</th>\n",
       "      <th>accepted_answer_id</th>\n",
       "      <th>a_body</th>\n",
       "    </tr>\n",
       "  </thead>\n",
       "  <tbody>\n",
       "    <tr>\n",
       "      <td>6025</td>\n",
       "      <td>Is there a way to visualize the distribution of my data?</td>\n",
       "      <td>0.276722</td>\n",
       "      <td>13689631</td>\n",
       "      <td>Is there a way to get a place name based on coordinates?</td>\n",
       "      <td>c#geolocationcoordinateswindows-store-appsbing-maps</td>\n",
       "      <td>13696332.0</td>\n",
       "      <td>&lt;p&gt;I usually store the latitude/longitude coordinates and then use GMaps to look up the location, then \"on a best effort basis\" - look up the place's name using the address - again via Google Maps.&lt;/p&gt;\\r\\n\\r\\n&lt;pre&gt;&lt;code&gt;static string baseUri = \\r\\n  \"http://maps.googleapis.com/maps/api/geocode/xml?latlng={0},{1}&amp;amp;sensor=false\";\\r\\nstring location = string.Empty;\\r\\n\\r\\npublic static void RetrieveFormatedAddress(string lat, string lng)\\r\\n{\\r\\n    string requestUri = string.Format(baseUri, lat, lng);\\r\\n\\r\\n    using (WebClient wc = new WebClient())\\r\\n    {\\r\\n        string result = wc.DownloadString(requestUri);\\r\\n        var xmlElm = XElement.Parse(result);\\r\\n        var status = (from elm in xmlElm.Descendants() where \\r\\n            elm.Name == \"status\" select elm).FirstOrDefault();\\r\\n        if (status.Value.ToLower() == \"ok\")\\r\\n        {\\r\\n            var res = (from elm in xmlElm.Descendants() where \\r\\n                elm.Name == \"formatted_address\" select elm).FirstOrDefault();\\r\\n            requestUri = res.Value;\\r\\n        }\\r\\n    }\\r\\n}\\r\\n&lt;/code&gt;&lt;/pre&gt;\\r\\n\\r\\n&lt;p&gt;Edit:&lt;/p&gt;\\r\\n\\r\\n&lt;p&gt;Here's a simple version of the reverse:&lt;/p&gt;\\r\\n\\r\\n&lt;pre&gt;&lt;code&gt;public static Coordinate GetCoordinates(string region)\\r\\n{\\r\\n    using (var client = new WebClient())\\r\\n    {\\r\\n\\r\\n        string uri = \"http://maps.google.com/maps/geo?q='\" + region + \\r\\n          \"'&amp;amp;output=csv&amp;amp;key=sadfwet56346tyeryhretu6434tertertreyeryeryE1\";\\r\\n\\r\\n        string[] geocodeInfo = client.DownloadString(uri).Split(',');\\r\\n\\r\\n        return new Coordinate(Convert.ToDouble(geocodeInfo[2]), \\r\\n                   Convert.ToDouble(geocodeInfo[3]));\\r\\n    }\\r\\n}\\r\\n\\r\\npublic struct Coordinate\\r\\n{\\r\\n    private double lat;\\r\\n    private double lng;\\r\\n\\r\\n    public Coordinate(double latitude, double longitude)\\r\\n    {\\r\\n        lat = latitude;\\r\\n        lng = longitude;\\r\\n\\r\\n    }\\r\\n\\r\\n    public double Latitude { get { return lat; } set { lat = value; } }\\r\\n    public double Longitude { get { return lng; } set { lng = value; } }\\r\\n\\r\\n}\\r\\n&lt;/code&gt;&lt;/pre&gt;</td>\n",
       "    </tr>\n",
       "    <tr>\n",
       "      <td>3289</td>\n",
       "      <td>Is there a way to visualize the distribution of my data?</td>\n",
       "      <td>0.269952</td>\n",
       "      <td>5479972</td>\n",
       "      <td>Mathematica NDSolve: Is there a way to have variable coefficients?</td>\n",
       "      <td>functionvariableswolfram-mathematicaplot</td>\n",
       "      <td>5480072.0</td>\n",
       "      <td>&lt;p&gt;You should just use &lt;code&gt;SetDelayed&lt;/code&gt; (\"&lt;code&gt;:=&lt;/code&gt;\") instead of &lt;code&gt;Set&lt;/code&gt; in the function definition:&lt;/p&gt;\\r\\n\\r\\n&lt;pre&gt;&lt;code&gt;X[\\[CapitalDelta]_, \\[CapitalOmega]_, \\[CapitalGamma]_] := \\r\\n  NDSolve[{\\[Rho]eg'[\\r\\n      t] == (I*\\[CapitalDelta] - .5*\\[CapitalGamma])*\\[Rho]eg[t] - \\r\\n      I*.5*\\[CapitalOmega]*\\[Rho]ee[t] + \\r\\n      I*.5*\\[CapitalOmega]*\\[Rho]gg[t], \\[Rho]ge'[\\r\\n      t] == (-I*\\[CapitalDelta] - .5*\\[CapitalGamma])*\\[Rho]ge[t] + \\r\\n      I*.5*\\[CapitalOmega]\\[Conjugate]*\\[Rho]ee[t] - \\r\\n      I*.5*\\[CapitalOmega]\\[Conjugate]*\\[Rho]gg[t], \\[Rho]ee'[\\r\\n      t] == -I*.5*\\[CapitalOmega]\\[Conjugate]*\\[Rho]eg[t] + \\r\\n      I*.5*\\[CapitalOmega]*\\[Rho]ge[t] - \\[CapitalGamma]*\\[Rho]ee[\\r\\n        t], \\[Rho]gg'[t] == \\r\\n     I*.5*\\[CapitalOmega]\\[Conjugate]*\\[Rho]eg[t] - \\r\\n      I*.5*\\[CapitalOmega]*\\[Rho]ge[t] + \\[CapitalGamma]*\\[Rho]ee[\\r\\n        t], \\[Rho]ee[0] == 0, \\[Rho]gg[0] == 1, \\[Rho]ge[0] == \\r\\n     0, \\[Rho]eg[0] == \\r\\n     0}, {\\[Rho]ee, \\[Rho]eg, \\[Rho]ge, \\[Rho]gg}, {t, 0, 12}];\\r\\nPlot[Evaluate[{\\[Rho]ee[t] /. X[5, 2, 6], \\[Rho]ee[t] /. \\r\\n    X[2, 6, 17]}], {t, 0, 10}, PlotRange -&amp;gt; {0, 1}]\\r\\n&lt;/code&gt;&lt;/pre&gt;</td>\n",
       "    </tr>\n",
       "    <tr>\n",
       "      <td>1316</td>\n",
       "      <td>Is there a way to visualize the distribution of my data?</td>\n",
       "      <td>0.264565</td>\n",
       "      <td>6748937</td>\n",
       "      <td>Is there a way to colorize the git add --interactive mode?</td>\n",
       "      <td>gitcommand-line-interface</td>\n",
       "      <td>6748991.0</td>\n",
       "      <td>&lt;p&gt;In your &lt;code&gt;.gitconfig&lt;/code&gt;:&lt;/p&gt;\\r\\n\\r\\n&lt;pre&gt;&lt;code&gt;[color]\\r\\n    interactive = true\\r\\n&lt;/code&gt;&lt;/pre&gt;\\r\\n\\r\\n&lt;p&gt;I'm not sure &lt;em&gt;exactly&lt;/em&gt; how this will get colorized, but that's the builtin option.&lt;/p&gt;</td>\n",
       "    </tr>\n",
       "    <tr>\n",
       "      <td>5660</td>\n",
       "      <td>Is there a way to visualize the distribution of my data?</td>\n",
       "      <td>0.260371</td>\n",
       "      <td>48014162</td>\n",
       "      <td>Is there a way to use VSTS Variable Groups per environment?</td>\n",
       "      <td>azure-devopsazure-pipelinesazure-pipelines-release-pipeline</td>\n",
       "      <td>48578601.0</td>\n",
       "      <td>&lt;p&gt;This has now been implemented in VSTS variable groups as scopes. Go to your release definition -&gt; Variables -&gt; Variable Groups -&gt; Link variable group, and you get the link window as below, where you can choose the scope to be either release or one or more of your environments!&lt;/p&gt;\\r\\n\\r\\n&lt;p&gt;&lt;a href=\"https://i.stack.imgur.com/c1nH5.png\" rel=\"noreferrer\"&gt;&lt;img src=\"https://i.stack.imgur.com/c1nH5.png\" alt=\"enter image description here\"&gt;&lt;/a&gt;&lt;/p&gt;\\r\\n\\r\\n&lt;p&gt;I did not manage to find any release information on this feature, I just stumbled upon it as I was tweaking my releases.&lt;/p&gt;</td>\n",
       "    </tr>\n",
       "    <tr>\n",
       "      <td>9193</td>\n",
       "      <td>Is there a way to visualize the distribution of my data?</td>\n",
       "      <td>0.257285</td>\n",
       "      <td>13406948</td>\n",
       "      <td>osmdroid MapView IconOverlay - Is there a way to change the size of the icon?</td>\n",
       "      <td>androidgoogle-mapsandroid-mapviewosmdroidopenstreetmap</td>\n",
       "      <td>13442572.0</td>\n",
       "      <td>&lt;p&gt;By chance a friend of mine stumbled across the answer,\\r\\n&lt;a href=\"http://code.google.com/p/osmdroid/issues/detail?id=331\" rel=\"nofollow noreferrer\" title=\"Issue 331\"&gt;Issue 331&lt;/a&gt;&lt;/p&gt;\\r\\n\\r\\n&lt;p&gt;The issue was solved in a revision, here's what I did:&lt;/p&gt;\\r\\n\\r\\n&lt;p&gt;get:&lt;/p&gt;\\r\\n\\r\\n&lt;ul&gt;\\r\\n&lt;li&gt;&lt;a href=\"http://code.google.com/p/osmdroid/source/browse/trunk/osmdroid-android/src/main/java/org/osmdroid/views/overlay/ItemizedIconOverlay.java\" rel=\"nofollow noreferrer\" title=\"ItemizedIconOverlay.java\"&gt;ItemizedIconOverlay.java&lt;/a&gt;&lt;/li&gt;\\r\\n&lt;li&gt;&lt;a href=\"http://code.google.com/p/osmdroid/source/browse/trunk/osmdroid-android/src/main/java/org/osmdroid/views/overlay/ItemizedOverlay.java\" rel=\"nofollow noreferrer\" title=\"ItemizedOverlya.java\"&gt;ItemizedOverlya.java&lt;/a&gt;&lt;/li&gt;\\r\\n&lt;/ul&gt;\\r\\n\\r\\n&lt;p&gt;then add them to your project and then extend/use these files instead of the osmdroid's library files. With this I managed to get the icon to look like the ones in Google Maps (except the shadow, but that wasn't something that I realy wanted)&lt;/p&gt;\\r\\n\\r\\n&lt;p&gt;&lt;img src=\"https://i.stack.imgur.com/goZCo.png\" alt=\"fixede OSM icon\"&gt;&lt;/p&gt;</td>\n",
       "    </tr>\n",
       "    <tr>\n",
       "      <td>...</td>\n",
       "      <td>...</td>\n",
       "      <td>...</td>\n",
       "      <td>...</td>\n",
       "      <td>...</td>\n",
       "      <td>...</td>\n",
       "      <td>...</td>\n",
       "      <td>...</td>\n",
       "    </tr>\n",
       "    <tr>\n",
       "      <td>4738</td>\n",
       "      <td>How can I animate a choropleth in Tableau?  In PowerBI?  In D3?</td>\n",
       "      <td>0.207891</td>\n",
       "      <td>44150414</td>\n",
       "      <td>Tableau: How to perform reverse geo-coding in Tableau 10</td>\n",
       "      <td>tableaureverse-geocodingtableau-online</td>\n",
       "      <td>44169628.0</td>\n",
       "      <td>&lt;p&gt;If \"corresponding locations\" means something like \"123 Examplestreet, 1234 Example City\", you won't be able to do it in Tableau. \\r\\nYou will need an external process using for example the Google API that helps you with that.\\r\\nThe only thing that Tableau is capable of is displaying Lat/Lon coordinates or Geographic names on a map.&lt;/p&gt;\\r\\n\\r\\n&lt;p&gt;You can get more details with map layers \"Map/Map Layers\" to display for example street names. Alternatively you can use an external WMS service to display custom maps (eg. &lt;a href=\"https://www.mapbox.com/blog/tableau-integration/\" rel=\"nofollow noreferrer\"&gt;https://www.mapbox.com/blog/tableau-integration/&lt;/a&gt; ).&lt;/p&gt;</td>\n",
       "    </tr>\n",
       "    <tr>\n",
       "      <td>53</td>\n",
       "      <td>How can I animate a choropleth in Tableau?  In PowerBI?  In D3?</td>\n",
       "      <td>0.190066</td>\n",
       "      <td>50271541</td>\n",
       "      <td>How can I animate list items to be apeared one by one with JavaScript?</td>\n",
       "      <td>javascriptcss-animationslistitem</td>\n",
       "      <td>50272187.0</td>\n",
       "      <td>&lt;blockquote&gt;\\r\\n  &lt;p&gt;Uncaught TypeError: Cannot read property 'classList' of undefined&lt;/p&gt;\\r\\n&lt;/blockquote&gt;\\r\\n\\r\\n&lt;p&gt;because when you use &lt;code&gt;setTimeout(handler, delay)&lt;/code&gt;, the handler was called in other context.&lt;/p&gt;\\r\\n\\r\\n&lt;p&gt;If you want to &lt;strong&gt;fade in items one by one&lt;/strong&gt;, you should use different delay for each item.&lt;/p&gt;\\r\\n\\r\\n&lt;p&gt;If you want to &lt;strong&gt;fade in items&lt;/strong&gt; after you add class &lt;code&gt;fadein&lt;/code&gt;, your css should be&lt;/p&gt;\\r\\n\\r\\n&lt;pre&gt;&lt;code&gt;.fade-item {\\r\\n    transition: .2s all ease-in-out;\\r\\n    opacity: 0;\\r\\n}\\r\\n\\r\\n.fadein {\\r\\n    animation: fadeIn 0.9s 1;\\r\\n    animation-fill-mode: forwards;\\r\\n}\\r\\n\\r\\n@keyframes fadeIn {\\r\\n    0% {\\r\\n        opacity: 0;\\r\\n    }\\r\\n    100% {\\r\\n        opacity: 1;\\r\\n    }\\r\\n}\\r\\n&lt;/code&gt;&lt;/pre&gt;\\r\\n\\r\\n&lt;p&gt;demo:\\r\\n&lt;a href=\"https://jsfiddle.net/dkojpcpt/\" rel=\"nofollow noreferrer\"&gt;https://jsfiddle.net/dkojpcpt/&lt;/a&gt;&lt;/p&gt;</td>\n",
       "    </tr>\n",
       "    <tr>\n",
       "      <td>569</td>\n",
       "      <td>How can I animate a choropleth in Tableau?  In PowerBI?  In D3?</td>\n",
       "      <td>0.188893</td>\n",
       "      <td>734688</td>\n",
       "      <td>How can I animate a control so that it rolls out like a parchment scroll in WPF?</td>\n",
       "      <td>wpfanimation</td>\n",
       "      <td>734750.0</td>\n",
       "      <td>&lt;p&gt;The problem is that this is a fairly complex animation that requires one part of the control to be inverted and squished while the remaining are of the control is not. So this can't be answered with a simple scale or stretch animation. You might be able to use multiple animations on VisualBrushes that point at your user contorl, but it does get complex to swap these things in and out at runtime.&lt;/p&gt;\\r\\n\\r\\n&lt;p&gt;I'd like to recommend you check out the Transitionals project on CodePlex:&lt;/p&gt;\\r\\n\\r\\n&lt;p&gt;&lt;a href=\"http://www.codeplex.com/transitionals\" rel=\"nofollow noreferrer\"&gt;Transitionals Project&lt;/a&gt;&lt;/p&gt;\\r\\n\\r\\n&lt;p&gt;Transitionals includes many different kinds of animations and one may be close enough for you. If not, you can look at how the transitions are built and see if you can tweak one to meet your needs.&lt;/p&gt;\\r\\n\\r\\n&lt;p&gt;Finally, the most performant way to do this is with shaders. Shaders require some math, though, and are written in HLSL (not C#). If you're interested in learning more I highly recommend you check out the following article:&lt;/p&gt;\\r\\n\\r\\n&lt;p&gt;&lt;a href=\"http://blogs.msdn.com/greg_schechter/archive/2008/05/12/introduction-to-writing-effects.aspx\" rel=\"nofollow noreferrer\"&gt;Writing custom GPU-based Effects for WPF&lt;/a&gt;&lt;/p&gt;</td>\n",
       "    </tr>\n",
       "    <tr>\n",
       "      <td>2548</td>\n",
       "      <td>How can I animate a choropleth in Tableau?  In PowerBI?  In D3?</td>\n",
       "      <td>0.161317</td>\n",
       "      <td>50696419</td>\n",
       "      <td>How to create stacked chart together with column chart in Tableau?</td>\n",
       "      <td>chartsbar-charttableaustacked-chartcolumn-chart</td>\n",
       "      <td>50700501.0</td>\n",
       "      <td>&lt;p&gt;This can be achieved using data blending and shared axis or dual axis charts. Link the closed value data source by Time period and Type. Then drop the dimensions and measures as below.\\r\\n&lt;a href=\"https://i.stack.imgur.com/sw9VN.png\" rel=\"nofollow noreferrer\"&gt;&lt;img src=\"https://i.stack.imgur.com/sw9VN.png\" alt=\"enter image description here\"&gt;&lt;/a&gt;&lt;/p&gt;\\r\\n\\r\\n&lt;p&gt;&lt;strong&gt;EDIT:&lt;/strong&gt;\\r\\nYou need to use separate color for each chart. For 'sum of Value', drop type under color. For 'sum of  closed value', dont drop anything under color.(Just use a solid color as you only have one item)&lt;/p&gt;</td>\n",
       "    </tr>\n",
       "    <tr>\n",
       "      <td>2752</td>\n",
       "      <td>How can I animate a choropleth in Tableau?  In PowerBI?  In D3?</td>\n",
       "      <td>0.159277</td>\n",
       "      <td>38977726</td>\n",
       "      <td>Can I put a dimension value under two groups simultaneously in Tableau?</td>\n",
       "      <td>data-visualizationtableau</td>\n",
       "      <td>38978593.0</td>\n",
       "      <td>&lt;p&gt;I ended up solving this myself with some Access-VBA code in my database on the back-end.  Here it is in case it is of use to anyone:&lt;/p&gt;\\r\\n\\r\\n&lt;pre&gt;&lt;code&gt;Dim splitString As String\\r\\nsplitString = rs![MyFieldName]\\r\\nsplitString = Replace(splitString, \"Value1Value2\", \"Value1 vbCrLf Value2\")\\r\\nvarData = Split(splitString, vbCrLf) ' Get all newline delimited fields '\\r\\n&lt;/code&gt;&lt;/pre&gt;</td>\n",
       "    </tr>\n",
       "  </tbody>\n",
       "</table>\n",
       "<p>90 rows × 7 columns</p>\n",
       "</div>"
      ],
      "text/plain": [
       "                                                           user_input  \\\n",
       "6025  Is there a way to visualize the distribution of my data?          \n",
       "3289  Is there a way to visualize the distribution of my data?          \n",
       "1316  Is there a way to visualize the distribution of my data?          \n",
       "5660  Is there a way to visualize the distribution of my data?          \n",
       "9193  Is there a way to visualize the distribution of my data?          \n",
       "...                                                        ...          \n",
       "4738  How can I animate a choropleth in Tableau?  In PowerBI?  In D3?   \n",
       "53    How can I animate a choropleth in Tableau?  In PowerBI?  In D3?   \n",
       "569   How can I animate a choropleth in Tableau?  In PowerBI?  In D3?   \n",
       "2548  How can I animate a choropleth in Tableau?  In PowerBI?  In D3?   \n",
       "2752  How can I animate a choropleth in Tableau?  In PowerBI?  In D3?   \n",
       "\n",
       "      cos_similarity      q_id  \\\n",
       "6025  0.276722        13689631   \n",
       "3289  0.269952        5479972    \n",
       "1316  0.264565        6748937    \n",
       "5660  0.260371        48014162   \n",
       "9193  0.257285        13406948   \n",
       "...        ...             ...   \n",
       "4738  0.207891        44150414   \n",
       "53    0.190066        50271541   \n",
       "569   0.188893        734688     \n",
       "2548  0.161317        50696419   \n",
       "2752  0.159277        38977726   \n",
       "\n",
       "                                                                               q_title  \\\n",
       "6025  Is there a way to get a place name based on coordinates?                           \n",
       "3289  Mathematica NDSolve: Is there a way to have variable coefficients?                 \n",
       "1316  Is there a way to colorize the git add --interactive mode?                         \n",
       "5660  Is there a way to use VSTS Variable Groups per environment?                        \n",
       "9193  osmdroid MapView IconOverlay - Is there a way to change the size of the icon?      \n",
       "...                                                                             ...      \n",
       "4738  Tableau: How to perform reverse geo-coding in Tableau 10                           \n",
       "53    How can I animate list items to be apeared one by one with JavaScript?             \n",
       "569   How can I animate a control so that it rolls out like a parchment scroll in WPF?   \n",
       "2548  How to create stacked chart together with column chart in Tableau?                 \n",
       "2752  Can I put a dimension value under two groups simultaneously in Tableau?            \n",
       "\n",
       "                                                             tags  \\\n",
       "6025  c#geolocationcoordinateswindows-store-appsbing-maps           \n",
       "3289  functionvariableswolfram-mathematicaplot                      \n",
       "1316  gitcommand-line-interface                                     \n",
       "5660  azure-devopsazure-pipelinesazure-pipelines-release-pipeline   \n",
       "9193  androidgoogle-mapsandroid-mapviewosmdroidopenstreetmap        \n",
       "...                                                      ...        \n",
       "4738  tableaureverse-geocodingtableau-online                        \n",
       "53    javascriptcss-animationslistitem                              \n",
       "569   wpfanimation                                                  \n",
       "2548  chartsbar-charttableaustacked-chartcolumn-chart               \n",
       "2752  data-visualizationtableau                                     \n",
       "\n",
       "      accepted_answer_id  \\\n",
       "6025  13696332.0           \n",
       "3289  5480072.0            \n",
       "1316  6748991.0            \n",
       "5660  48578601.0           \n",
       "9193  13442572.0           \n",
       "...          ...           \n",
       "4738  44169628.0           \n",
       "53    50272187.0           \n",
       "569   734750.0             \n",
       "2548  50700501.0           \n",
       "2752  38978593.0           \n",
       "\n",
       "                                                                                                                                                                                                                                                                                                                                                                                                                                                                                                                                                                                                                                                                                                                                                                                                                                                                                                                                                                                                                                                                                                                                                                                                                                                                                                                                                                                                                                                                                                                                                                                                                                                                                                                                                                                                                                                                                                                                                                                                                                                                                                                                                                               a_body  \n",
       "6025  <p>I usually store the latitude/longitude coordinates and then use GMaps to look up the location, then \"on a best effort basis\" - look up the place's name using the address - again via Google Maps.</p>\\r\\n\\r\\n<pre><code>static string baseUri = \\r\\n  \"http://maps.googleapis.com/maps/api/geocode/xml?latlng={0},{1}&amp;sensor=false\";\\r\\nstring location = string.Empty;\\r\\n\\r\\npublic static void RetrieveFormatedAddress(string lat, string lng)\\r\\n{\\r\\n    string requestUri = string.Format(baseUri, lat, lng);\\r\\n\\r\\n    using (WebClient wc = new WebClient())\\r\\n    {\\r\\n        string result = wc.DownloadString(requestUri);\\r\\n        var xmlElm = XElement.Parse(result);\\r\\n        var status = (from elm in xmlElm.Descendants() where \\r\\n            elm.Name == \"status\" select elm).FirstOrDefault();\\r\\n        if (status.Value.ToLower() == \"ok\")\\r\\n        {\\r\\n            var res = (from elm in xmlElm.Descendants() where \\r\\n                elm.Name == \"formatted_address\" select elm).FirstOrDefault();\\r\\n            requestUri = res.Value;\\r\\n        }\\r\\n    }\\r\\n}\\r\\n</code></pre>\\r\\n\\r\\n<p>Edit:</p>\\r\\n\\r\\n<p>Here's a simple version of the reverse:</p>\\r\\n\\r\\n<pre><code>public static Coordinate GetCoordinates(string region)\\r\\n{\\r\\n    using (var client = new WebClient())\\r\\n    {\\r\\n\\r\\n        string uri = \"http://maps.google.com/maps/geo?q='\" + region + \\r\\n          \"'&amp;output=csv&amp;key=sadfwet56346tyeryhretu6434tertertreyeryeryE1\";\\r\\n\\r\\n        string[] geocodeInfo = client.DownloadString(uri).Split(',');\\r\\n\\r\\n        return new Coordinate(Convert.ToDouble(geocodeInfo[2]), \\r\\n                   Convert.ToDouble(geocodeInfo[3]));\\r\\n    }\\r\\n}\\r\\n\\r\\npublic struct Coordinate\\r\\n{\\r\\n    private double lat;\\r\\n    private double lng;\\r\\n\\r\\n    public Coordinate(double latitude, double longitude)\\r\\n    {\\r\\n        lat = latitude;\\r\\n        lng = longitude;\\r\\n\\r\\n    }\\r\\n\\r\\n    public double Latitude { get { return lat; } set { lat = value; } }\\r\\n    public double Longitude { get { return lng; } set { lng = value; } }\\r\\n\\r\\n}\\r\\n</code></pre>  \n",
       "3289  <p>You should just use <code>SetDelayed</code> (\"<code>:=</code>\") instead of <code>Set</code> in the function definition:</p>\\r\\n\\r\\n<pre><code>X[\\[CapitalDelta]_, \\[CapitalOmega]_, \\[CapitalGamma]_] := \\r\\n  NDSolve[{\\[Rho]eg'[\\r\\n      t] == (I*\\[CapitalDelta] - .5*\\[CapitalGamma])*\\[Rho]eg[t] - \\r\\n      I*.5*\\[CapitalOmega]*\\[Rho]ee[t] + \\r\\n      I*.5*\\[CapitalOmega]*\\[Rho]gg[t], \\[Rho]ge'[\\r\\n      t] == (-I*\\[CapitalDelta] - .5*\\[CapitalGamma])*\\[Rho]ge[t] + \\r\\n      I*.5*\\[CapitalOmega]\\[Conjugate]*\\[Rho]ee[t] - \\r\\n      I*.5*\\[CapitalOmega]\\[Conjugate]*\\[Rho]gg[t], \\[Rho]ee'[\\r\\n      t] == -I*.5*\\[CapitalOmega]\\[Conjugate]*\\[Rho]eg[t] + \\r\\n      I*.5*\\[CapitalOmega]*\\[Rho]ge[t] - \\[CapitalGamma]*\\[Rho]ee[\\r\\n        t], \\[Rho]gg'[t] == \\r\\n     I*.5*\\[CapitalOmega]\\[Conjugate]*\\[Rho]eg[t] - \\r\\n      I*.5*\\[CapitalOmega]*\\[Rho]ge[t] + \\[CapitalGamma]*\\[Rho]ee[\\r\\n        t], \\[Rho]ee[0] == 0, \\[Rho]gg[0] == 1, \\[Rho]ge[0] == \\r\\n     0, \\[Rho]eg[0] == \\r\\n     0}, {\\[Rho]ee, \\[Rho]eg, \\[Rho]ge, \\[Rho]gg}, {t, 0, 12}];\\r\\nPlot[Evaluate[{\\[Rho]ee[t] /. X[5, 2, 6], \\[Rho]ee[t] /. \\r\\n    X[2, 6, 17]}], {t, 0, 10}, PlotRange -&gt; {0, 1}]\\r\\n</code></pre>                                                                                                                                                                                                                                                                                                                                                                                                                                                                                                                                                                                                                                                                                                                                                                                                                                                                                                                                                  \n",
       "1316  <p>In your <code>.gitconfig</code>:</p>\\r\\n\\r\\n<pre><code>[color]\\r\\n    interactive = true\\r\\n</code></pre>\\r\\n\\r\\n<p>I'm not sure <em>exactly</em> how this will get colorized, but that's the builtin option.</p>                                                                                                                                                                                                                                                                                                                                                                                                                                                                                                                                                                                                                                                                                                                                                                                                                                                                                                                                                                                                                                                                                                                                                                                                                                                                                                                                                                                                                                                                                                                                                                                                                                                                                                                                                                                                                                                                                                                                                             \n",
       "5660  <p>This has now been implemented in VSTS variable groups as scopes. Go to your release definition -> Variables -> Variable Groups -> Link variable group, and you get the link window as below, where you can choose the scope to be either release or one or more of your environments!</p>\\r\\n\\r\\n<p><a href=\"https://i.stack.imgur.com/c1nH5.png\" rel=\"noreferrer\"><img src=\"https://i.stack.imgur.com/c1nH5.png\" alt=\"enter image description here\"></a></p>\\r\\n\\r\\n<p>I did not manage to find any release information on this feature, I just stumbled upon it as I was tweaking my releases.</p>                                                                                                                                                                                                                                                                                                                                                                                                                                                                                                                                                                                                                                                                                                                                                                                                                                                                                                                                                                                                                                                                                                                                                                                                                                                                                                                                                                                                                                                                                                                                                                          \n",
       "9193  <p>By chance a friend of mine stumbled across the answer,\\r\\n<a href=\"http://code.google.com/p/osmdroid/issues/detail?id=331\" rel=\"nofollow noreferrer\" title=\"Issue 331\">Issue 331</a></p>\\r\\n\\r\\n<p>The issue was solved in a revision, here's what I did:</p>\\r\\n\\r\\n<p>get:</p>\\r\\n\\r\\n<ul>\\r\\n<li><a href=\"http://code.google.com/p/osmdroid/source/browse/trunk/osmdroid-android/src/main/java/org/osmdroid/views/overlay/ItemizedIconOverlay.java\" rel=\"nofollow noreferrer\" title=\"ItemizedIconOverlay.java\">ItemizedIconOverlay.java</a></li>\\r\\n<li><a href=\"http://code.google.com/p/osmdroid/source/browse/trunk/osmdroid-android/src/main/java/org/osmdroid/views/overlay/ItemizedOverlay.java\" rel=\"nofollow noreferrer\" title=\"ItemizedOverlya.java\">ItemizedOverlya.java</a></li>\\r\\n</ul>\\r\\n\\r\\n<p>then add them to your project and then extend/use these files instead of the osmdroid's library files. With this I managed to get the icon to look like the ones in Google Maps (except the shadow, but that wasn't something that I realy wanted)</p>\\r\\n\\r\\n<p><img src=\"https://i.stack.imgur.com/goZCo.png\" alt=\"fixede OSM icon\"></p>                                                                                                                                                                                                                                                                                                                                                                                                                                                                                                                                                                                                                                                                                                                                                                                                                                                                                                                                                                                                                  \n",
       "...                                                                                                                                                                                                                                                                                                                                                                                                                                                                                                                                                                                                                                                                                                                                                                                                                                                                                                                                                                                                                                                                                                                                                               ...                                                                                                                                                                                                                                                                                                                                                                                                                                                                                                                                                                                                                                                                                                                                                                                                                                                                                                                                                                                                                  \n",
       "4738  <p>If \"corresponding locations\" means something like \"123 Examplestreet, 1234 Example City\", you won't be able to do it in Tableau. \\r\\nYou will need an external process using for example the Google API that helps you with that.\\r\\nThe only thing that Tableau is capable of is displaying Lat/Lon coordinates or Geographic names on a map.</p>\\r\\n\\r\\n<p>You can get more details with map layers \"Map/Map Layers\" to display for example street names. Alternatively you can use an external WMS service to display custom maps (eg. <a href=\"https://www.mapbox.com/blog/tableau-integration/\" rel=\"nofollow noreferrer\">https://www.mapbox.com/blog/tableau-integration/</a> ).</p>                                                                                                                                                                                                                                                                                                                                                                                                                                                                                                                                                                                                                                                                                                                                                                                                                                                                                                                                                                                                                                                                                                                                                                                                                                                                                                                                                                                                                                                                                    \n",
       "53    <blockquote>\\r\\n  <p>Uncaught TypeError: Cannot read property 'classList' of undefined</p>\\r\\n</blockquote>\\r\\n\\r\\n<p>because when you use <code>setTimeout(handler, delay)</code>, the handler was called in other context.</p>\\r\\n\\r\\n<p>If you want to <strong>fade in items one by one</strong>, you should use different delay for each item.</p>\\r\\n\\r\\n<p>If you want to <strong>fade in items</strong> after you add class <code>fadein</code>, your css should be</p>\\r\\n\\r\\n<pre><code>.fade-item {\\r\\n    transition: .2s all ease-in-out;\\r\\n    opacity: 0;\\r\\n}\\r\\n\\r\\n.fadein {\\r\\n    animation: fadeIn 0.9s 1;\\r\\n    animation-fill-mode: forwards;\\r\\n}\\r\\n\\r\\n@keyframes fadeIn {\\r\\n    0% {\\r\\n        opacity: 0;\\r\\n    }\\r\\n    100% {\\r\\n        opacity: 1;\\r\\n    }\\r\\n}\\r\\n</code></pre>\\r\\n\\r\\n<p>demo:\\r\\n<a href=\"https://jsfiddle.net/dkojpcpt/\" rel=\"nofollow noreferrer\">https://jsfiddle.net/dkojpcpt/</a></p>                                                                                                                                                                                                                                                                                                                                                                                                                                                                                                                                                                                                                                                                                                                                                                                                                                                                                                                                                                                                                                                                                                                                                                                                                               \n",
       "569   <p>The problem is that this is a fairly complex animation that requires one part of the control to be inverted and squished while the remaining are of the control is not. So this can't be answered with a simple scale or stretch animation. You might be able to use multiple animations on VisualBrushes that point at your user contorl, but it does get complex to swap these things in and out at runtime.</p>\\r\\n\\r\\n<p>I'd like to recommend you check out the Transitionals project on CodePlex:</p>\\r\\n\\r\\n<p><a href=\"http://www.codeplex.com/transitionals\" rel=\"nofollow noreferrer\">Transitionals Project</a></p>\\r\\n\\r\\n<p>Transitionals includes many different kinds of animations and one may be close enough for you. If not, you can look at how the transitions are built and see if you can tweak one to meet your needs.</p>\\r\\n\\r\\n<p>Finally, the most performant way to do this is with shaders. Shaders require some math, though, and are written in HLSL (not C#). If you're interested in learning more I highly recommend you check out the following article:</p>\\r\\n\\r\\n<p><a href=\"http://blogs.msdn.com/greg_schechter/archive/2008/05/12/introduction-to-writing-effects.aspx\" rel=\"nofollow noreferrer\">Writing custom GPU-based Effects for WPF</a></p>                                                                                                                                                                                                                                                                                                                                                                                                                                                                                                                                                                                                                                                                                                                                                                                                                                                                                   \n",
       "2548  <p>This can be achieved using data blending and shared axis or dual axis charts. Link the closed value data source by Time period and Type. Then drop the dimensions and measures as below.\\r\\n<a href=\"https://i.stack.imgur.com/sw9VN.png\" rel=\"nofollow noreferrer\"><img src=\"https://i.stack.imgur.com/sw9VN.png\" alt=\"enter image description here\"></a></p>\\r\\n\\r\\n<p><strong>EDIT:</strong>\\r\\nYou need to use separate color for each chart. For 'sum of Value', drop type under color. For 'sum of  closed value', dont drop anything under color.(Just use a solid color as you only have one item)</p>                                                                                                                                                                                                                                                                                                                                                                                                                                                                                                                                                                                                                                                                                                                                                                                                                                                                                                                                                                                                                                                                                                                                                                                                                                                                                                                                                                                                                                                                                                                                                                \n",
       "2752  <p>I ended up solving this myself with some Access-VBA code in my database on the back-end.  Here it is in case it is of use to anyone:</p>\\r\\n\\r\\n<pre><code>Dim splitString As String\\r\\nsplitString = rs![MyFieldName]\\r\\nsplitString = Replace(splitString, \"Value1Value2\", \"Value1 vbCrLf Value2\")\\r\\nvarData = Split(splitString, vbCrLf) ' Get all newline delimited fields '\\r\\n</code></pre>                                                                                                                                                                                                                                                                                                                                                                                                                                                                                                                                                                                                                                                                                                                                                                                                                                                                                                                                                                                                                                                                                                                                                                                                                                                                                                                                                                                                                                                                                                                                                                                                                                                                                                                                                                            \n",
       "\n",
       "[90 rows x 7 columns]"
      ]
     },
     "execution_count": 72,
     "metadata": {},
     "output_type": "execute_result"
    }
   ],
   "source": [
    "t1"
   ]
  },
  {
   "cell_type": "code",
   "execution_count": 73,
   "metadata": {
    "collapsed": true
   },
   "outputs": [
    {
     "data": {
      "text/plain": [
       "Is there a way to show a “heatmap” of my data?                                 5\n",
       "I need help creating a visualization/diagram/presentation of my data           5\n",
       "When should I use a scatter plot?                                              5\n",
       "How can I animate a bar chart in Python?                                       5\n",
       "How can I plot a comparison of two data sets?                                  5\n",
       "How can I animate a choropleth in Tableau?  In PowerBI?  In D3?                5\n",
       "How can I present a picture of a network?                                      5\n",
       "Is there a way to visualize the distribution of my data?                       5\n",
       "What is the easiest way to create a heat map of the US?                        5\n",
       "How do I make a network diagram in d3?                                         5\n",
       "What is the easiest way to create a diagram of a network?                      5\n",
       "When should I use a bar chart versus a pie chart?                              5\n",
       "How do I show data on a map?                                                   5\n",
       "How do I plot 2 datasets?                                                      5\n",
       "I know how to create a line chart with matplotlib, but how do I do it in R?    5\n",
       "How can I create a chart without coding?                                       5\n",
       "How can I illustrate changes in my data over time?                             5\n",
       "Data visualization tips                                                        5\n",
       "Name: user_input, dtype: int64"
      ]
     },
     "execution_count": 73,
     "metadata": {},
     "output_type": "execute_result"
    }
   ],
   "source": [
    "t1.user_input.value_counts()"
   ]
  }
 ],
 "metadata": {
  "kernelspec": {
   "display_name": "Python 3",
   "language": "python",
   "name": "python3"
  },
  "language_info": {
   "codemirror_mode": {
    "name": "ipython",
    "version": 3
   },
   "file_extension": ".py",
   "mimetype": "text/x-python",
   "name": "python",
   "nbconvert_exporter": "python",
   "pygments_lexer": "ipython3",
   "version": "3.7.4"
  }
 },
 "nbformat": 4,
 "nbformat_minor": 2
}
