{
 "cells": [
  {
   "cell_type": "markdown",
   "metadata": {},
   "source": [
    "# About\n",
    "\n",
    "test notebook to explore cosine similarity & tfidf\n"
   ]
  },
  {
   "cell_type": "code",
   "execution_count": 243,
   "metadata": {},
   "outputs": [],
   "source": [
    "import numpy as np\n",
    "import pandas as pd\n",
    "pd.set_option('display.max_colwidth', -1)"
   ]
  },
  {
   "cell_type": "markdown",
   "metadata": {},
   "source": [
    "## sample"
   ]
  },
  {
   "cell_type": "code",
   "execution_count": 70,
   "metadata": {},
   "outputs": [],
   "source": [
    "t1 = questions[questions[\"accepted_answer_id\"] > 0]\n",
    "questions_sample = t1.sample(600)"
   ]
  },
  {
   "cell_type": "markdown",
   "metadata": {},
   "source": [
    "## corpus"
   ]
  },
  {
   "cell_type": "code",
   "execution_count": 226,
   "metadata": {},
   "outputs": [],
   "source": [
    "# constructs corpus\n",
    "# with question id, title, accepted answer id, answer body\n",
    "def construct_corpus(questions, answers = answers):\n",
    "    t1 = questions[[\"id\", \"title\", \"accepted_answer_id\"]].rename(columns = {\"id\" : \"q_id\", \"title\" : \"q_title\"})\n",
    "    t2 = answers[[\"id\", \"body\"]].rename(columns = {\"id\" : \"a_id\", \"body\" : \"a_body\"})\n",
    "    t3 = t1.merge(t2, left_on = \"accepted_answer_id\", right_on = \"a_id\", how = \"inner\").drop(columns = \"a_id\")\n",
    "    return(t3)"
   ]
  },
  {
   "cell_type": "code",
   "execution_count": 244,
   "metadata": {},
   "outputs": [
    {
     "data": {
      "text/html": [
       "<div>\n",
       "<style scoped>\n",
       "    .dataframe tbody tr th:only-of-type {\n",
       "        vertical-align: middle;\n",
       "    }\n",
       "\n",
       "    .dataframe tbody tr th {\n",
       "        vertical-align: top;\n",
       "    }\n",
       "\n",
       "    .dataframe thead th {\n",
       "        text-align: right;\n",
       "    }\n",
       "</style>\n",
       "<table border=\"1\" class=\"dataframe\">\n",
       "  <thead>\n",
       "    <tr style=\"text-align: right;\">\n",
       "      <th></th>\n",
       "      <th>q_id</th>\n",
       "      <th>q_title</th>\n",
       "      <th>accepted_answer_id</th>\n",
       "      <th>a_body</th>\n",
       "    </tr>\n",
       "  </thead>\n",
       "  <tbody>\n",
       "    <tr>\n",
       "      <td>0</td>\n",
       "      <td>40482556</td>\n",
       "      <td>is it possible to use web view as a html reader (offline)?</td>\n",
       "      <td>40482678.0</td>\n",
       "      <td>&lt;p&gt;You could just put the file into your assets folder in the source code, and then do this:&lt;/p&gt;\\r\\n\\r\\n&lt;pre&gt;&lt;code&gt;WebView webView = (WebView)findViewById(R.id.webView1);\\r\\nwebview.loadUrl(\"file:///android_assets/file.html\");\\r\\n&lt;/code&gt;&lt;/pre&gt;\\r\\n\\r\\n&lt;p&gt;&lt;strong&gt;For display PDF:&lt;/strong&gt;&lt;/p&gt;\\r\\n\\r\\n&lt;p&gt;Since API Level 21 (Lollipop) Android provides a PdfRenderer class:&lt;/p&gt;\\r\\n\\r\\n&lt;pre&gt;&lt;code&gt;// create a new renderer\\r\\nPdfRenderer renderer = new PdfRenderer(getSeekableFileDescriptor());\\r\\n\\r\\n// let us just render all pages\\r\\nfinal int pageCount = renderer.getPageCount();\\r\\nfor (int i = 0; i &amp;lt; pageCount; i++) {\\r\\n  Page page = renderer.openPage(i);\\r\\n\\r\\n  // say we render for showing on the screen\\r\\n  page.render(mBitmap, null, null, Page.RENDER_MODE_FOR_DISPLAY);\\r\\n\\r\\n  // do stuff with the bitmap\\r\\n\\r\\n  // close the page\\r\\n  page.close();\\r\\n}\\r\\n\\r\\n// close the renderer\\r\\nrenderer.close();\\r\\n&lt;/code&gt;&lt;/pre&gt;\\r\\n\\r\\n&lt;p&gt;This sample demonstrates &lt;a href=\"https://github.com/googlesamples/android-PdfRendererBasic\" rel=\"nofollow noreferrer\"&gt;how to display PDF document on screen using the PdfRenderer introduced in Android 5.0 Lollipop.&lt;/a&gt;&lt;/p&gt;\\r\\n\\r\\n&lt;p&gt;For older APIs, checkout &lt;a href=\"https://github.com/barteksc/AndroidPdfViewer\" rel=\"nofollow noreferrer\"&gt;AndroidPdfViewer library&lt;/a&gt;, works on API 11 and higher:&lt;/p&gt;\\r\\n\\r\\n&lt;pre&gt;&lt;code&gt;pdfView.fromUri(Uri)\\r\\nor\\r\\npdfView.fromFile(File)\\r\\nor\\r\\npdfView.fromAsset(String)\\r\\n    .pages(0, 2, 1, 3, 3, 3) // all pages are displayed by default\\r\\n    .enableSwipe(true)\\r\\n    .swipeHorizontal(false)\\r\\n    .enableDoubletap(true)\\r\\n    .defaultPage(0)\\r\\n    .onDraw(onDrawListener)\\r\\n    .onLoad(onLoadCompleteListener)\\r\\n    .onPageChange(onPageChangeListener)\\r\\n    .onPageScroll(onPageScrollListener)\\r\\n    .onError(onErrorListener)\\r\\n    .enableAnnotationRendering(false)\\r\\n    .password(null)\\r\\n    .scrollHandle(null)\\r\\n    .load();\\r\\n&lt;/code&gt;&lt;/pre&gt;</td>\n",
       "    </tr>\n",
       "    <tr>\n",
       "      <td>1</td>\n",
       "      <td>10066328</td>\n",
       "      <td>C++: Comparing strings lexicographical</td>\n",
       "      <td>10066372.0</td>\n",
       "      <td>&lt;p&gt;Yes.&lt;/p&gt;\\r\\n\\r\\n&lt;p&gt;String's comparison operators are defined in terms of its &lt;code&gt;traits::compare&lt;/code&gt; (that is &lt;code&gt;char_traits&amp;lt;char&amp;gt;::compare&lt;/code&gt;) (C++03 21.3.6.8) which is specified to return a value based on the lexicographical ordering of its arguments (21.1.1).&lt;/p&gt;\\r\\n\\r\\n&lt;blockquote&gt;\\r\\n  &lt;p&gt;X::compare(p,q,n) ...  yields: 0 if for each i in [0,n),\\r\\n    X::eq(p[i],q[i]) is true; else, a negative\\r\\n    value if, for some j in [0,n),\\r\\n    X::lt(p[j],q[j]) is true and for each i in\\r\\n    [0,j) X::eq(p[i],q[i]) is true; else a positive value.&lt;/p&gt;\\r\\n&lt;/blockquote&gt;\\r\\n\\r\\n&lt;p&gt;In effect, it means comparing string must not be locale sensitive (which could be non-lexicographical in some locales, such as mine).&lt;/p&gt;</td>\n",
       "    </tr>\n",
       "    <tr>\n",
       "      <td>2</td>\n",
       "      <td>50038413</td>\n",
       "      <td>Fill bubbles with color in svyplot() in R (survey package)</td>\n",
       "      <td>50038857.0</td>\n",
       "      <td>&lt;p&gt;We can do the following:&lt;/p&gt;\\r\\n\\r\\n&lt;pre&gt;&lt;code&gt;getcol &amp;lt;- function(df) c(\"goldenrod\",\"tomato\",\"sienna\")[as.numeric(df$stype)]\\r\\n\\r\\nsvyplot(api00 ~ api99,\\r\\n    design = dstrat,\\r\\n    basecol = getcol,\\r\\n    style = \"bubble\",\\r\\n    alpha = c(0,1),\\r\\n    pch = 21,\\r\\n    bg = getcol(dstrat$variables))\\r\\n&lt;/code&gt;&lt;/pre&gt;\\r\\n\\r\\n&lt;p&gt;&lt;a href=\"https://i.stack.imgur.com/oWOxu.png\" rel=\"nofollow noreferrer\"&gt;&lt;img src=\"https://i.stack.imgur.com/oWOxu.png\" alt=\"enter image description here\"&gt;&lt;/a&gt;&lt;/p&gt;\\r\\n\\r\\n&lt;p&gt;Some comments:&lt;/p&gt;\\r\\n\\r\\n&lt;ol&gt;\\r\\n&lt;li&gt;In base R's &lt;code&gt;plot&lt;/code&gt;, when using &lt;code&gt;pch = 21&lt;/code&gt; you can set the outline colour with &lt;code&gt;col&lt;/code&gt; and fill colour with &lt;code&gt;bg&lt;/code&gt;.&lt;/li&gt;\\r\\n&lt;li&gt;Here, &lt;code&gt;basecol&lt;/code&gt; is an &lt;code&gt;svyplot&lt;/code&gt;-specific argument, which internally sets the outline colour &lt;code&gt;col&lt;/code&gt;.&lt;/li&gt;\\r\\n&lt;li&gt;We can use the same function that we used for &lt;code&gt;basecol&lt;/code&gt; to fill circles with the matching colour, by recognising that &lt;code&gt;dstrat$variables&lt;/code&gt; is the &lt;code&gt;data.frame&lt;/code&gt; that contains column &lt;code&gt;stype&lt;/code&gt;.&lt;/li&gt;\\r\\n&lt;/ol&gt;</td>\n",
       "    </tr>\n",
       "  </tbody>\n",
       "</table>\n",
       "</div>"
      ],
      "text/plain": [
       "       q_id                                                     q_title  \\\n",
       "0  40482556  is it possible to use web view as a html reader (offline)?   \n",
       "1  10066328  C++: Comparing strings lexicographical                       \n",
       "2  50038413  Fill bubbles with color in svyplot() in R (survey package)   \n",
       "\n",
       "   accepted_answer_id  \\\n",
       "0  40482678.0           \n",
       "1  10066372.0           \n",
       "2  50038857.0           \n",
       "\n",
       "                                                                                                                                                                                                                                                                                                                                                                                                                                                                                                                                                                                                                                                                                                                                                                                                                                                                                                                                                                                                                                                                                                                                                                                                                                                                                                                                                                                                                                                                                                                                                                                                                                                                                                                                                                                                                                                                                                                                                                                                                       a_body  \n",
       "0  <p>You could just put the file into your assets folder in the source code, and then do this:</p>\\r\\n\\r\\n<pre><code>WebView webView = (WebView)findViewById(R.id.webView1);\\r\\nwebview.loadUrl(\"file:///android_assets/file.html\");\\r\\n</code></pre>\\r\\n\\r\\n<p><strong>For display PDF:</strong></p>\\r\\n\\r\\n<p>Since API Level 21 (Lollipop) Android provides a PdfRenderer class:</p>\\r\\n\\r\\n<pre><code>// create a new renderer\\r\\nPdfRenderer renderer = new PdfRenderer(getSeekableFileDescriptor());\\r\\n\\r\\n// let us just render all pages\\r\\nfinal int pageCount = renderer.getPageCount();\\r\\nfor (int i = 0; i &lt; pageCount; i++) {\\r\\n  Page page = renderer.openPage(i);\\r\\n\\r\\n  // say we render for showing on the screen\\r\\n  page.render(mBitmap, null, null, Page.RENDER_MODE_FOR_DISPLAY);\\r\\n\\r\\n  // do stuff with the bitmap\\r\\n\\r\\n  // close the page\\r\\n  page.close();\\r\\n}\\r\\n\\r\\n// close the renderer\\r\\nrenderer.close();\\r\\n</code></pre>\\r\\n\\r\\n<p>This sample demonstrates <a href=\"https://github.com/googlesamples/android-PdfRendererBasic\" rel=\"nofollow noreferrer\">how to display PDF document on screen using the PdfRenderer introduced in Android 5.0 Lollipop.</a></p>\\r\\n\\r\\n<p>For older APIs, checkout <a href=\"https://github.com/barteksc/AndroidPdfViewer\" rel=\"nofollow noreferrer\">AndroidPdfViewer library</a>, works on API 11 and higher:</p>\\r\\n\\r\\n<pre><code>pdfView.fromUri(Uri)\\r\\nor\\r\\npdfView.fromFile(File)\\r\\nor\\r\\npdfView.fromAsset(String)\\r\\n    .pages(0, 2, 1, 3, 3, 3) // all pages are displayed by default\\r\\n    .enableSwipe(true)\\r\\n    .swipeHorizontal(false)\\r\\n    .enableDoubletap(true)\\r\\n    .defaultPage(0)\\r\\n    .onDraw(onDrawListener)\\r\\n    .onLoad(onLoadCompleteListener)\\r\\n    .onPageChange(onPageChangeListener)\\r\\n    .onPageScroll(onPageScrollListener)\\r\\n    .onError(onErrorListener)\\r\\n    .enableAnnotationRendering(false)\\r\\n    .password(null)\\r\\n    .scrollHandle(null)\\r\\n    .load();\\r\\n</code></pre>  \n",
       "1  <p>Yes.</p>\\r\\n\\r\\n<p>String's comparison operators are defined in terms of its <code>traits::compare</code> (that is <code>char_traits&lt;char&gt;::compare</code>) (C++03 21.3.6.8) which is specified to return a value based on the lexicographical ordering of its arguments (21.1.1).</p>\\r\\n\\r\\n<blockquote>\\r\\n  <p>X::compare(p,q,n) ...  yields: 0 if for each i in [0,n),\\r\\n    X::eq(p[i],q[i]) is true; else, a negative\\r\\n    value if, for some j in [0,n),\\r\\n    X::lt(p[j],q[j]) is true and for each i in\\r\\n    [0,j) X::eq(p[i],q[i]) is true; else a positive value.</p>\\r\\n</blockquote>\\r\\n\\r\\n<p>In effect, it means comparing string must not be locale sensitive (which could be non-lexicographical in some locales, such as mine).</p>                                                                                                                                                                                                                                                                                                                                                                                                                                                                                                                                                                                                                                                                                                                                                                                                                                                                                                                                                                                                                                                                                                                                                                                                                                                       \n",
       "2  <p>We can do the following:</p>\\r\\n\\r\\n<pre><code>getcol &lt;- function(df) c(\"goldenrod\",\"tomato\",\"sienna\")[as.numeric(df$stype)]\\r\\n\\r\\nsvyplot(api00 ~ api99,\\r\\n    design = dstrat,\\r\\n    basecol = getcol,\\r\\n    style = \"bubble\",\\r\\n    alpha = c(0,1),\\r\\n    pch = 21,\\r\\n    bg = getcol(dstrat$variables))\\r\\n</code></pre>\\r\\n\\r\\n<p><a href=\"https://i.stack.imgur.com/oWOxu.png\" rel=\"nofollow noreferrer\"><img src=\"https://i.stack.imgur.com/oWOxu.png\" alt=\"enter image description here\"></a></p>\\r\\n\\r\\n<p>Some comments:</p>\\r\\n\\r\\n<ol>\\r\\n<li>In base R's <code>plot</code>, when using <code>pch = 21</code> you can set the outline colour with <code>col</code> and fill colour with <code>bg</code>.</li>\\r\\n<li>Here, <code>basecol</code> is an <code>svyplot</code>-specific argument, which internally sets the outline colour <code>col</code>.</li>\\r\\n<li>We can use the same function that we used for <code>basecol</code> to fill circles with the matching colour, by recognising that <code>dstrat$variables</code> is the <code>data.frame</code> that contains column <code>stype</code>.</li>\\r\\n</ol>                                                                                                                                                                                                                                                                                                                                                                                                                                                                                                                                                                                                                                                                                                                                                                                                                                                                          "
      ]
     },
     "execution_count": 244,
     "metadata": {},
     "output_type": "execute_result"
    }
   ],
   "source": [
    "corpus = construct_corpus(questions_sample)\n",
    "corpus.head(3)"
   ]
  },
  {
   "cell_type": "markdown",
   "metadata": {},
   "source": [
    "# Cosine Similarity for Existing Questions"
   ]
  },
  {
   "cell_type": "code",
   "execution_count": 230,
   "metadata": {},
   "outputs": [],
   "source": [
    "from sklearn.feature_extraction.text import TfidfVectorizer\n",
    "\n",
    "tf = TfidfVectorizer(analyzer='word', ngram_range=(1,3), min_df = 0, stop_words = 'english')\n",
    "tfidf_matrix = tf.fit_transform(corpus.q_title)"
   ]
  },
  {
   "cell_type": "code",
   "execution_count": 240,
   "metadata": {},
   "outputs": [],
   "source": [
    "from sklearn.metrics.pairwise import linear_kernel\n",
    "\n",
    "def find_similar(tfidf_matrix, index, top_n = 3):\n",
    "    cosine_similarities = linear_kernel(tfidf_matrix[index:index+1], tfidf_matrix).flatten()\n",
    "    related_docs_indices = [i for i in cosine_similarities.argsort()[::-1] if i != index]\n",
    "    return [(index, cosine_similarities[index]) for index in related_docs_indices][0:top_n]"
   ]
  },
  {
   "cell_type": "code",
   "execution_count": 309,
   "metadata": {},
   "outputs": [],
   "source": [
    "def decorate_answers(similar_qs, corpus = corpus):\n",
    "    t1 = pd.DataFrame(similar_qs, columns = [\"q_index\", \"cos_similarity\"]).set_index([\"q_index\"])\n",
    "    t2 = corpus.iloc[t1.index]\n",
    "    t3 = pd.concat([t1, t2], axis = 1)\n",
    "    return(t3)"
   ]
  },
  {
   "cell_type": "code",
   "execution_count": 256,
   "metadata": {},
   "outputs": [
    {
     "name": "stdout",
     "output_type": "stream",
     "text": [
      "How to point to the center coordinates of a specific object in 2D in Unity?\n",
      "[(342, 0.10026783233746424), (340, 0.08168268913355363), (372, 0.07763675441482287)]\n"
     ]
    }
   ],
   "source": [
    "q_index = 101\n",
    "q1 = corpus.iloc[q_index]\n",
    "print(q1.q_title)\n",
    "similar_qs = find_similar(tfidf_matrix, q_index, top_n = 3)\n",
    "print(similar_qs)"
   ]
  },
  {
   "cell_type": "code",
   "execution_count": 310,
   "metadata": {},
   "outputs": [
    {
     "data": {
      "text/html": [
       "<div>\n",
       "<style scoped>\n",
       "    .dataframe tbody tr th:only-of-type {\n",
       "        vertical-align: middle;\n",
       "    }\n",
       "\n",
       "    .dataframe tbody tr th {\n",
       "        vertical-align: top;\n",
       "    }\n",
       "\n",
       "    .dataframe thead th {\n",
       "        text-align: right;\n",
       "    }\n",
       "</style>\n",
       "<table border=\"1\" class=\"dataframe\">\n",
       "  <thead>\n",
       "    <tr style=\"text-align: right;\">\n",
       "      <th></th>\n",
       "      <th>cos_similarity</th>\n",
       "      <th>q_id</th>\n",
       "      <th>q_title</th>\n",
       "      <th>accepted_answer_id</th>\n",
       "      <th>a_body</th>\n",
       "    </tr>\n",
       "  </thead>\n",
       "  <tbody>\n",
       "    <tr>\n",
       "      <td>342</td>\n",
       "      <td>0.100268</td>\n",
       "      <td>21854110</td>\n",
       "      <td>how to rotate an imageview in android on center point</td>\n",
       "      <td>21854206.0</td>\n",
       "      <td>&lt;pre&gt;&lt;code&gt;public class RotateImageView extends ImageView {\\r\\n\\r\\nprivate Animation mRotation;\\r\\n    public bool isAnimating = false;\\r\\n\\r\\npublic RotateImageView(Context context) {\\r\\n    super(context);\\r\\n    Init(null);\\r\\n}\\r\\n\\r\\npublic RotateImageView(Context context, AttributeSet attrs) {\\r\\n    super(context, attrs);\\r\\n    Init(attrs);\\r\\n}\\r\\n\\r\\n@TargetApi(Build.VERSION_CODES.HONEYCOMB)\\r\\npublic RotateImageView(Context context, AttributeSet attrs, int defStyle) {\\r\\n    super(context, attrs, defStyle);\\r\\n    Init(attrs);\\r\\n}\\r\\n\\r\\nprivate void Init(AttributeSet attrs) {\\r\\n    startAnimation();\\r\\n}\\r\\n\\r\\npublic void startAnimation() {\\r\\n    if (mRotation == null) {\\r\\n        mRotation = AnimationUtils.loadAnimation(getContext(), R.anim.rotate);\\r\\n        mRotation.setRepeatCount(Animation.INFINITE);\\r\\n    }\\r\\n    this.startAnimation(mRotation);\\r\\n            isAnimating  = true;\\r\\n}\\r\\n\\r\\npublic void stopAnimation() {\\r\\n    if (mRotation != null)\\r\\n        clearAnimation();\\r\\n            isAnimating  = false;\\r\\n}\\r\\n\\r\\n@Override\\r\\npublic void setVisibility(int visibility) {\\r\\n    if (visibility == GONE || visibility == INVISIBLE) {\\r\\n        clearAnimation();\\r\\n    } else if (visibility == VISIBLE) {\\r\\n        startAnimation(mRotation);\\r\\n    }\\r\\n    super.setVisibility(visibility);\\r\\n}\\r\\n&lt;/code&gt;&lt;/pre&gt;\\r\\n\\r\\n&lt;p&gt;}&lt;/p&gt;\\r\\n\\r\\n&lt;p&gt;rotate.xml&lt;/p&gt;\\r\\n\\r\\n&lt;pre&gt;&lt;code&gt;    &amp;lt;?xml version=\"1.0\" encoding=\"utf-8\"?&amp;gt;\\r\\n&amp;lt;rotate xmlns:android=\"http://schemas.android.com/apk/res/android\"\\r\\n    android:duration=\"5000\"\\r\\n    android:fromDegrees=\"0\"\\r\\n    android:interpolator=\"@android:anim/linear_interpolator\"\\r\\n    android:pivotX=\"50%\"\\r\\n    android:pivotY=\"50%\"\\r\\n    android:startOffset=\"0\"\\r\\n    android:toDegrees=\"360\" /&amp;gt;\\r\\n&lt;/code&gt;&lt;/pre&gt;\\r\\n\\r\\n&lt;p&gt;&lt;strong&gt;EDITED&lt;/strong&gt;&lt;/p&gt;\\r\\n\\r\\n&lt;pre&gt;&lt;code&gt;    RotateImageView image = new RotateImageView(Context);\\r\\n    image.addOnClickListener(new View.OnClickListener(){\\r\\n     if(image.isAnimating)\\r\\n        image.stopAnimating();\\r\\n     else \\r\\n        image.startAnimating();\\r\\n}\\r\\n&lt;/code&gt;&lt;/pre&gt;</td>\n",
       "    </tr>\n",
       "    <tr>\n",
       "      <td>340</td>\n",
       "      <td>0.081683</td>\n",
       "      <td>45123186</td>\n",
       "      <td>Find out an object's box actual 4 edges scaled to the screen/camera size (Unity 2D)</td>\n",
       "      <td>45124972.0</td>\n",
       "      <td>&lt;p&gt;As Draco18s pointed out, you convert &lt;code&gt;pos&lt;/code&gt; to screenspace but not &lt;code&gt;rect&lt;/code&gt;.&lt;/p&gt;\\r\\n\\r\\n&lt;p&gt;If you look at unity's API docs for &lt;code&gt;WorldToScreenPoint()&lt;/code&gt;\\r\\nit says that it &lt;/p&gt;\\r\\n\\r\\n&lt;blockquote&gt;\\r\\n  &lt;p&gt;Transforms position from world space into screen space. Screenspace is\\r\\n  defined in pixels.&lt;/p&gt;\\r\\n&lt;/blockquote&gt;\\r\\n\\r\\n&lt;p&gt;whereas &lt;code&gt;transform.position&lt;/code&gt; returns&lt;/p&gt;\\r\\n\\r\\n&lt;blockquote&gt;\\r\\n  &lt;p&gt;The position of the transform in world space.&lt;/p&gt;\\r\\n&lt;/blockquote&gt;\\r\\n\\r\\n&lt;p&gt;What you have is a problem of combining screenspace, measured in pixels, and world space, which is totally different.&lt;/p&gt;\\r\\n\\r\\n&lt;p&gt;Because you are using &lt;code&gt;pixelRect&lt;/code&gt;, I would recommend changing &lt;code&gt;var rect = image.transform.rect;&lt;/code&gt;\\r\\nto be &lt;code&gt;var rect = Camera.main.WorldToScreenPoint(image.transform.position);&lt;/code&gt;&lt;/p&gt;\\r\\n\\r\\n&lt;p&gt;You will then of course have to also check the other corners in a similar way, and if all 4 corners return true then the the object is inside the other.&lt;/p&gt;</td>\n",
       "    </tr>\n",
       "    <tr>\n",
       "      <td>372</td>\n",
       "      <td>0.077637</td>\n",
       "      <td>50272399</td>\n",
       "      <td>Three.js - 2D object in 3D space (by Vertices)</td>\n",
       "      <td>50274103.0</td>\n",
       "      <td>&lt;p&gt;Just a concept, using a quaternion:&lt;/p&gt;\\r\\n\\r\\n&lt;p&gt;&lt;div class=\"snippet\" data-lang=\"js\" data-hide=\"false\" data-console=\"false\" data-babel=\"false\"&gt;\\r\\n&lt;div class=\"snippet-code\"&gt;\\r\\n&lt;pre class=\"snippet-code-js lang-js prettyprint-override\"&gt;&lt;code&gt;var scene = new THREE.Scene();\\r\\nvar camera = new THREE.PerspectiveCamera(60, window.innerWidth / window.innerHeight, 1, 1000);\\r\\ncamera.position.set(2, 2, 4).setLength(40);\\r\\nvar renderer = new THREE.WebGLRenderer({\\r\\n  antialias: true\\r\\n});\\r\\nrenderer.setSize(window.innerWidth, window.innerHeight);\\r\\nrenderer.setClearColor(0x101010);\\r\\ndocument.body.appendChild(renderer.domElement);\\r\\n\\r\\nvar controls = new THREE.OrbitControls(camera, renderer.domElement);\\r\\n\\r\\nscene.add(new THREE.AxesHelper(3));\\r\\n\\r\\nvar rawPoints = [{\\r\\n  \"x\": 10,\\r\\n  \"y\": 10,\\r\\n  \"z\": 1\\r\\n}, {\\r\\n  \"x\": 9.421052631578952,\\r\\n  \"y\": 11.736842105263158,\\r\\n  \"z\": 6.789473684210525\\r\\n}, {\\r\\n  \"x\": 5,\\r\\n  \"y\": 12.142857142857142,\\r\\n  \"z\": 7.7142857142857135\\r\\n}, {\\r\\n  \"x\": 5.285714285714286,\\r\\n  \"y\": 13,\\r\\n  \"z\": 10.628571428571426\\r\\n}, {\\r\\n  \"x\": -1,\\r\\n  \"y\": 13,\\r\\n  \"z\": 10\\r\\n}, {\\r\\n  \"x\": 0,\\r\\n  \"y\": 10,\\r\\n  \"z\": 0\\r\\n}]\\r\\n\\r\\nvar points = [];\\r\\nrawPoints.forEach(r =&amp;gt; {\\r\\n  points.push(new THREE.Vector3(r.x, r.y, r.z));\\r\\n});\\r\\n\\r\\nvar tri = new THREE.Triangle(points[2], points[1], points[0]);\\r\\nvar normal = new THREE.Vector3();\\r\\ntri.getNormal(normal);\\r\\n\\r\\nvar baseNormal = new THREE.Vector3(0, 0, 1);\\r\\nvar quaternion = new THREE.Quaternion().setFromUnitVectors(normal, baseNormal);\\r\\n\\r\\nvar tempPoints = [];\\r\\npoints.forEach(p =&amp;gt; {\\r\\n  tempPoints.push(p.clone().applyQuaternion(quaternion));\\r\\n})\\r\\n\\r\\nvar shape = new THREE.Shape(tempPoints);\\r\\nvar shapeGeom = new THREE.ShapeGeometry(shape);\\r\\nvar mesh = new THREE.Mesh(shapeGeom, new THREE.MeshBasicMaterial({\\r\\n  color: \"red\",\\r\\n  side: THREE.DoubleSide,\\r\\n  wireframe: false\\r\\n}));\\r\\nconsole.log(points);\\r\\nmesh.geometry.vertices = points;\\r\\nscene.add(mesh);\\r\\n\\r\\nrender();\\r\\n\\r\\nfunction render() {\\r\\n  requestAnimationFrame(render);\\r\\n  renderer.render(scene, camera);\\r\\n}&lt;/code&gt;&lt;/pre&gt;\\r\\n&lt;pre class=\"snippet-code-css lang-css prettyprint-override\"&gt;&lt;code&gt;body {\\r\\n  overflow: hidden;\\r\\n  margin: 0;\\r\\n}&lt;/code&gt;&lt;/pre&gt;\\r\\n&lt;pre class=\"snippet-code-html lang-html prettyprint-override\"&gt;&lt;code&gt;&amp;lt;script src=\"https://cdnjs.cloudflare.com/ajax/libs/three.js/92/three.min.js\"&amp;gt;&amp;lt;/script&amp;gt;\\r\\n&amp;lt;script src=\"https://threejs.org/examples/js/controls/OrbitControls.js\"&amp;gt;&amp;lt;/script&amp;gt;&lt;/code&gt;&lt;/pre&gt;\\r\\n&lt;/div&gt;\\r\\n&lt;/div&gt;\\r\\n&lt;/p&gt;</td>\n",
       "    </tr>\n",
       "  </tbody>\n",
       "</table>\n",
       "</div>"
      ],
      "text/plain": [
       "     cos_similarity      q_id  \\\n",
       "342  0.100268        21854110   \n",
       "340  0.081683        45123186   \n",
       "372  0.077637        50272399   \n",
       "\n",
       "                                                                                 q_title  \\\n",
       "342  how to rotate an imageview in android on center point                                 \n",
       "340  Find out an object's box actual 4 edges scaled to the screen/camera size (Unity 2D)   \n",
       "372  Three.js - 2D object in 3D space (by Vertices)                                        \n",
       "\n",
       "     accepted_answer_id  \\\n",
       "342  21854206.0           \n",
       "340  45124972.0           \n",
       "372  50274103.0           \n",
       "\n",
       "                                                                                                                                                                                                                                                                                                                                                                                                                                                                                                                                                                                                                                                                                                                                                                                                                                                                                                                                                                                                                                                                                                                                                                                                                                                                                                                                                                                                                                                                                                                                                                                                                                                                                                                                                                                                                                                                                                                                                                                                                                                                                                                                                                                                                                                                                                                                                                                                                                                                                                                                                                                                                                                                                              a_body  \n",
       "342  <pre><code>public class RotateImageView extends ImageView {\\r\\n\\r\\nprivate Animation mRotation;\\r\\n    public bool isAnimating = false;\\r\\n\\r\\npublic RotateImageView(Context context) {\\r\\n    super(context);\\r\\n    Init(null);\\r\\n}\\r\\n\\r\\npublic RotateImageView(Context context, AttributeSet attrs) {\\r\\n    super(context, attrs);\\r\\n    Init(attrs);\\r\\n}\\r\\n\\r\\n@TargetApi(Build.VERSION_CODES.HONEYCOMB)\\r\\npublic RotateImageView(Context context, AttributeSet attrs, int defStyle) {\\r\\n    super(context, attrs, defStyle);\\r\\n    Init(attrs);\\r\\n}\\r\\n\\r\\nprivate void Init(AttributeSet attrs) {\\r\\n    startAnimation();\\r\\n}\\r\\n\\r\\npublic void startAnimation() {\\r\\n    if (mRotation == null) {\\r\\n        mRotation = AnimationUtils.loadAnimation(getContext(), R.anim.rotate);\\r\\n        mRotation.setRepeatCount(Animation.INFINITE);\\r\\n    }\\r\\n    this.startAnimation(mRotation);\\r\\n            isAnimating  = true;\\r\\n}\\r\\n\\r\\npublic void stopAnimation() {\\r\\n    if (mRotation != null)\\r\\n        clearAnimation();\\r\\n            isAnimating  = false;\\r\\n}\\r\\n\\r\\n@Override\\r\\npublic void setVisibility(int visibility) {\\r\\n    if (visibility == GONE || visibility == INVISIBLE) {\\r\\n        clearAnimation();\\r\\n    } else if (visibility == VISIBLE) {\\r\\n        startAnimation(mRotation);\\r\\n    }\\r\\n    super.setVisibility(visibility);\\r\\n}\\r\\n</code></pre>\\r\\n\\r\\n<p>}</p>\\r\\n\\r\\n<p>rotate.xml</p>\\r\\n\\r\\n<pre><code>    &lt;?xml version=\"1.0\" encoding=\"utf-8\"?&gt;\\r\\n&lt;rotate xmlns:android=\"http://schemas.android.com/apk/res/android\"\\r\\n    android:duration=\"5000\"\\r\\n    android:fromDegrees=\"0\"\\r\\n    android:interpolator=\"@android:anim/linear_interpolator\"\\r\\n    android:pivotX=\"50%\"\\r\\n    android:pivotY=\"50%\"\\r\\n    android:startOffset=\"0\"\\r\\n    android:toDegrees=\"360\" /&gt;\\r\\n</code></pre>\\r\\n\\r\\n<p><strong>EDITED</strong></p>\\r\\n\\r\\n<pre><code>    RotateImageView image = new RotateImageView(Context);\\r\\n    image.addOnClickListener(new View.OnClickListener(){\\r\\n     if(image.isAnimating)\\r\\n        image.stopAnimating();\\r\\n     else \\r\\n        image.startAnimating();\\r\\n}\\r\\n</code></pre>                                                                                                                                                                                                                                                                                                                                                                                                                                                                                      \n",
       "340  <p>As Draco18s pointed out, you convert <code>pos</code> to screenspace but not <code>rect</code>.</p>\\r\\n\\r\\n<p>If you look at unity's API docs for <code>WorldToScreenPoint()</code>\\r\\nit says that it </p>\\r\\n\\r\\n<blockquote>\\r\\n  <p>Transforms position from world space into screen space. Screenspace is\\r\\n  defined in pixels.</p>\\r\\n</blockquote>\\r\\n\\r\\n<p>whereas <code>transform.position</code> returns</p>\\r\\n\\r\\n<blockquote>\\r\\n  <p>The position of the transform in world space.</p>\\r\\n</blockquote>\\r\\n\\r\\n<p>What you have is a problem of combining screenspace, measured in pixels, and world space, which is totally different.</p>\\r\\n\\r\\n<p>Because you are using <code>pixelRect</code>, I would recommend changing <code>var rect = image.transform.rect;</code>\\r\\nto be <code>var rect = Camera.main.WorldToScreenPoint(image.transform.position);</code></p>\\r\\n\\r\\n<p>You will then of course have to also check the other corners in a similar way, and if all 4 corners return true then the the object is inside the other.</p>                                                                                                                                                                                                                                                                                                                                                                                                                                                                                                                                                                                                                                                                                                                                                                                                                                                                                                                                                                                                                                                                                                                                                                                                                                                                                                                                                                                                                                                                                                                                                                                                                           \n",
       "372  <p>Just a concept, using a quaternion:</p>\\r\\n\\r\\n<p><div class=\"snippet\" data-lang=\"js\" data-hide=\"false\" data-console=\"false\" data-babel=\"false\">\\r\\n<div class=\"snippet-code\">\\r\\n<pre class=\"snippet-code-js lang-js prettyprint-override\"><code>var scene = new THREE.Scene();\\r\\nvar camera = new THREE.PerspectiveCamera(60, window.innerWidth / window.innerHeight, 1, 1000);\\r\\ncamera.position.set(2, 2, 4).setLength(40);\\r\\nvar renderer = new THREE.WebGLRenderer({\\r\\n  antialias: true\\r\\n});\\r\\nrenderer.setSize(window.innerWidth, window.innerHeight);\\r\\nrenderer.setClearColor(0x101010);\\r\\ndocument.body.appendChild(renderer.domElement);\\r\\n\\r\\nvar controls = new THREE.OrbitControls(camera, renderer.domElement);\\r\\n\\r\\nscene.add(new THREE.AxesHelper(3));\\r\\n\\r\\nvar rawPoints = [{\\r\\n  \"x\": 10,\\r\\n  \"y\": 10,\\r\\n  \"z\": 1\\r\\n}, {\\r\\n  \"x\": 9.421052631578952,\\r\\n  \"y\": 11.736842105263158,\\r\\n  \"z\": 6.789473684210525\\r\\n}, {\\r\\n  \"x\": 5,\\r\\n  \"y\": 12.142857142857142,\\r\\n  \"z\": 7.7142857142857135\\r\\n}, {\\r\\n  \"x\": 5.285714285714286,\\r\\n  \"y\": 13,\\r\\n  \"z\": 10.628571428571426\\r\\n}, {\\r\\n  \"x\": -1,\\r\\n  \"y\": 13,\\r\\n  \"z\": 10\\r\\n}, {\\r\\n  \"x\": 0,\\r\\n  \"y\": 10,\\r\\n  \"z\": 0\\r\\n}]\\r\\n\\r\\nvar points = [];\\r\\nrawPoints.forEach(r =&gt; {\\r\\n  points.push(new THREE.Vector3(r.x, r.y, r.z));\\r\\n});\\r\\n\\r\\nvar tri = new THREE.Triangle(points[2], points[1], points[0]);\\r\\nvar normal = new THREE.Vector3();\\r\\ntri.getNormal(normal);\\r\\n\\r\\nvar baseNormal = new THREE.Vector3(0, 0, 1);\\r\\nvar quaternion = new THREE.Quaternion().setFromUnitVectors(normal, baseNormal);\\r\\n\\r\\nvar tempPoints = [];\\r\\npoints.forEach(p =&gt; {\\r\\n  tempPoints.push(p.clone().applyQuaternion(quaternion));\\r\\n})\\r\\n\\r\\nvar shape = new THREE.Shape(tempPoints);\\r\\nvar shapeGeom = new THREE.ShapeGeometry(shape);\\r\\nvar mesh = new THREE.Mesh(shapeGeom, new THREE.MeshBasicMaterial({\\r\\n  color: \"red\",\\r\\n  side: THREE.DoubleSide,\\r\\n  wireframe: false\\r\\n}));\\r\\nconsole.log(points);\\r\\nmesh.geometry.vertices = points;\\r\\nscene.add(mesh);\\r\\n\\r\\nrender();\\r\\n\\r\\nfunction render() {\\r\\n  requestAnimationFrame(render);\\r\\n  renderer.render(scene, camera);\\r\\n}</code></pre>\\r\\n<pre class=\"snippet-code-css lang-css prettyprint-override\"><code>body {\\r\\n  overflow: hidden;\\r\\n  margin: 0;\\r\\n}</code></pre>\\r\\n<pre class=\"snippet-code-html lang-html prettyprint-override\"><code>&lt;script src=\"https://cdnjs.cloudflare.com/ajax/libs/three.js/92/three.min.js\"&gt;&lt;/script&gt;\\r\\n&lt;script src=\"https://threejs.org/examples/js/controls/OrbitControls.js\"&gt;&lt;/script&gt;</code></pre>\\r\\n</div>\\r\\n</div>\\r\\n</p>  "
      ]
     },
     "execution_count": 310,
     "metadata": {},
     "output_type": "execute_result"
    }
   ],
   "source": [
    "decorate_answers(similar_qs)"
   ]
  },
  {
   "cell_type": "markdown",
   "metadata": {},
   "source": [
    "# Cosine Similarity for User-Input Questions"
   ]
  },
  {
   "cell_type": "code",
   "execution_count": 312,
   "metadata": {},
   "outputs": [],
   "source": [
    "from sklearn.feature_extraction.text import TfidfVectorizer\n",
    "\n",
    "tf = TfidfVectorizer(analyzer='word', ngram_range=(1,3), min_df = 0, stop_words = 'english')\n",
    "tfidf_matrix = tf.fit_transform(corpus.q_title)"
   ]
  },
  {
   "cell_type": "code",
   "execution_count": 321,
   "metadata": {},
   "outputs": [],
   "source": [
    "from sklearn.metrics.pairwise import linear_kernel\n",
    "\n",
    "def find_similar(tfidf_matrix, question_input, top_n = 3):\n",
    "    t1 = tf.transform([question_input])\n",
    "    cosine_similarities = linear_kernel(t1, tfidf_matrix).flatten()\n",
    "    related_docs_indices = [i for i in cosine_similarities.argsort()[::-1]]\n",
    "    return [(index, cosine_similarities[index]) for index in related_docs_indices][0:top_n]"
   ]
  },
  {
   "cell_type": "code",
   "execution_count": 322,
   "metadata": {},
   "outputs": [],
   "source": [
    "def decorate_answers(similar_qs, corpus = corpus):\n",
    "    t1 = pd.DataFrame(similar_qs, columns = [\"q_index\", \"cos_similarity\"]).set_index([\"q_index\"])\n",
    "    t2 = corpus.iloc[t1.index]\n",
    "    t3 = pd.concat([t1, t2], axis = 1)\n",
    "    return(t3)"
   ]
  },
  {
   "cell_type": "code",
   "execution_count": 323,
   "metadata": {},
   "outputs": [
    {
     "data": {
      "text/plain": [
       "[(101, 1.0000000000000002),\n",
       " (342, 0.10026783233746427),\n",
       " (340, 0.08168268913355364)]"
      ]
     },
     "execution_count": 323,
     "metadata": {},
     "output_type": "execute_result"
    }
   ],
   "source": [
    "similar_qs = find_similar(tfidf_matrix, \"How to point to the center coordinates of a specific object in 2D in Unity?\")\n",
    "similar_qs"
   ]
  },
  {
   "cell_type": "code",
   "execution_count": 317,
   "metadata": {},
   "outputs": [
    {
     "data": {
      "text/html": [
       "<div>\n",
       "<style scoped>\n",
       "    .dataframe tbody tr th:only-of-type {\n",
       "        vertical-align: middle;\n",
       "    }\n",
       "\n",
       "    .dataframe tbody tr th {\n",
       "        vertical-align: top;\n",
       "    }\n",
       "\n",
       "    .dataframe thead th {\n",
       "        text-align: right;\n",
       "    }\n",
       "</style>\n",
       "<table border=\"1\" class=\"dataframe\">\n",
       "  <thead>\n",
       "    <tr style=\"text-align: right;\">\n",
       "      <th></th>\n",
       "      <th>cos_similarity</th>\n",
       "      <th>q_id</th>\n",
       "      <th>q_title</th>\n",
       "      <th>accepted_answer_id</th>\n",
       "      <th>a_body</th>\n",
       "    </tr>\n",
       "  </thead>\n",
       "  <tbody>\n",
       "    <tr>\n",
       "      <td>101</td>\n",
       "      <td>1.000000</td>\n",
       "      <td>46894448</td>\n",
       "      <td>How to point to the center coordinates of a specific object in 2D in Unity?</td>\n",
       "      <td>46894801.0</td>\n",
       "      <td>&lt;p&gt;You have the possibility to assign the \"forward\" vector of your 2D element using &lt;code&gt;transform.right = ....&lt;/code&gt;&lt;/p&gt;\\r\\n\\r\\n&lt;pre&gt;&lt;code&gt;Transform target = GameObject.Find(\"Center_Planet\").transform ;\\r\\n\\r\\n// ...\\r\\n\\r\\nfor (int i = 0; i &amp;lt; missile_num; ++i)\\r\\n{\\r\\n    // ...     \\r\\n     missile_prefab_instantiate.transform.right = target.position - missile_prefab_instantiate.transform.position ;\\r\\n}\\r\\nyield return new WaitForSeconds(0.9f);\\r\\n\\r\\n// ...\\r\\n&lt;/code&gt;&lt;/pre&gt;</td>\n",
       "    </tr>\n",
       "    <tr>\n",
       "      <td>342</td>\n",
       "      <td>0.100268</td>\n",
       "      <td>21854110</td>\n",
       "      <td>how to rotate an imageview in android on center point</td>\n",
       "      <td>21854206.0</td>\n",
       "      <td>&lt;pre&gt;&lt;code&gt;public class RotateImageView extends ImageView {\\r\\n\\r\\nprivate Animation mRotation;\\r\\n    public bool isAnimating = false;\\r\\n\\r\\npublic RotateImageView(Context context) {\\r\\n    super(context);\\r\\n    Init(null);\\r\\n}\\r\\n\\r\\npublic RotateImageView(Context context, AttributeSet attrs) {\\r\\n    super(context, attrs);\\r\\n    Init(attrs);\\r\\n}\\r\\n\\r\\n@TargetApi(Build.VERSION_CODES.HONEYCOMB)\\r\\npublic RotateImageView(Context context, AttributeSet attrs, int defStyle) {\\r\\n    super(context, attrs, defStyle);\\r\\n    Init(attrs);\\r\\n}\\r\\n\\r\\nprivate void Init(AttributeSet attrs) {\\r\\n    startAnimation();\\r\\n}\\r\\n\\r\\npublic void startAnimation() {\\r\\n    if (mRotation == null) {\\r\\n        mRotation = AnimationUtils.loadAnimation(getContext(), R.anim.rotate);\\r\\n        mRotation.setRepeatCount(Animation.INFINITE);\\r\\n    }\\r\\n    this.startAnimation(mRotation);\\r\\n            isAnimating  = true;\\r\\n}\\r\\n\\r\\npublic void stopAnimation() {\\r\\n    if (mRotation != null)\\r\\n        clearAnimation();\\r\\n            isAnimating  = false;\\r\\n}\\r\\n\\r\\n@Override\\r\\npublic void setVisibility(int visibility) {\\r\\n    if (visibility == GONE || visibility == INVISIBLE) {\\r\\n        clearAnimation();\\r\\n    } else if (visibility == VISIBLE) {\\r\\n        startAnimation(mRotation);\\r\\n    }\\r\\n    super.setVisibility(visibility);\\r\\n}\\r\\n&lt;/code&gt;&lt;/pre&gt;\\r\\n\\r\\n&lt;p&gt;}&lt;/p&gt;\\r\\n\\r\\n&lt;p&gt;rotate.xml&lt;/p&gt;\\r\\n\\r\\n&lt;pre&gt;&lt;code&gt;    &amp;lt;?xml version=\"1.0\" encoding=\"utf-8\"?&amp;gt;\\r\\n&amp;lt;rotate xmlns:android=\"http://schemas.android.com/apk/res/android\"\\r\\n    android:duration=\"5000\"\\r\\n    android:fromDegrees=\"0\"\\r\\n    android:interpolator=\"@android:anim/linear_interpolator\"\\r\\n    android:pivotX=\"50%\"\\r\\n    android:pivotY=\"50%\"\\r\\n    android:startOffset=\"0\"\\r\\n    android:toDegrees=\"360\" /&amp;gt;\\r\\n&lt;/code&gt;&lt;/pre&gt;\\r\\n\\r\\n&lt;p&gt;&lt;strong&gt;EDITED&lt;/strong&gt;&lt;/p&gt;\\r\\n\\r\\n&lt;pre&gt;&lt;code&gt;    RotateImageView image = new RotateImageView(Context);\\r\\n    image.addOnClickListener(new View.OnClickListener(){\\r\\n     if(image.isAnimating)\\r\\n        image.stopAnimating();\\r\\n     else \\r\\n        image.startAnimating();\\r\\n}\\r\\n&lt;/code&gt;&lt;/pre&gt;</td>\n",
       "    </tr>\n",
       "    <tr>\n",
       "      <td>340</td>\n",
       "      <td>0.081683</td>\n",
       "      <td>45123186</td>\n",
       "      <td>Find out an object's box actual 4 edges scaled to the screen/camera size (Unity 2D)</td>\n",
       "      <td>45124972.0</td>\n",
       "      <td>&lt;p&gt;As Draco18s pointed out, you convert &lt;code&gt;pos&lt;/code&gt; to screenspace but not &lt;code&gt;rect&lt;/code&gt;.&lt;/p&gt;\\r\\n\\r\\n&lt;p&gt;If you look at unity's API docs for &lt;code&gt;WorldToScreenPoint()&lt;/code&gt;\\r\\nit says that it &lt;/p&gt;\\r\\n\\r\\n&lt;blockquote&gt;\\r\\n  &lt;p&gt;Transforms position from world space into screen space. Screenspace is\\r\\n  defined in pixels.&lt;/p&gt;\\r\\n&lt;/blockquote&gt;\\r\\n\\r\\n&lt;p&gt;whereas &lt;code&gt;transform.position&lt;/code&gt; returns&lt;/p&gt;\\r\\n\\r\\n&lt;blockquote&gt;\\r\\n  &lt;p&gt;The position of the transform in world space.&lt;/p&gt;\\r\\n&lt;/blockquote&gt;\\r\\n\\r\\n&lt;p&gt;What you have is a problem of combining screenspace, measured in pixels, and world space, which is totally different.&lt;/p&gt;\\r\\n\\r\\n&lt;p&gt;Because you are using &lt;code&gt;pixelRect&lt;/code&gt;, I would recommend changing &lt;code&gt;var rect = image.transform.rect;&lt;/code&gt;\\r\\nto be &lt;code&gt;var rect = Camera.main.WorldToScreenPoint(image.transform.position);&lt;/code&gt;&lt;/p&gt;\\r\\n\\r\\n&lt;p&gt;You will then of course have to also check the other corners in a similar way, and if all 4 corners return true then the the object is inside the other.&lt;/p&gt;</td>\n",
       "    </tr>\n",
       "  </tbody>\n",
       "</table>\n",
       "</div>"
      ],
      "text/plain": [
       "     cos_similarity      q_id  \\\n",
       "101  1.000000        46894448   \n",
       "342  0.100268        21854110   \n",
       "340  0.081683        45123186   \n",
       "\n",
       "                                                                                 q_title  \\\n",
       "101  How to point to the center coordinates of a specific object in 2D in Unity?           \n",
       "342  how to rotate an imageview in android on center point                                 \n",
       "340  Find out an object's box actual 4 edges scaled to the screen/camera size (Unity 2D)   \n",
       "\n",
       "     accepted_answer_id  \\\n",
       "101  46894801.0           \n",
       "342  21854206.0           \n",
       "340  45124972.0           \n",
       "\n",
       "                                                                                                                                                                                                                                                                                                                                                                                                                                                                                                                                                                                                                                                                                                                                                                                                                                                                                                                                                                                                                                                                                                                                                                                                                                                                                                                                                                                                                                                                                                                                                                                                                                                                                                                                                                                                                                                                                                                                                                                                                                                                                                                                                                                                          a_body  \n",
       "101  <p>You have the possibility to assign the \"forward\" vector of your 2D element using <code>transform.right = ....</code></p>\\r\\n\\r\\n<pre><code>Transform target = GameObject.Find(\"Center_Planet\").transform ;\\r\\n\\r\\n// ...\\r\\n\\r\\nfor (int i = 0; i &lt; missile_num; ++i)\\r\\n{\\r\\n    // ...     \\r\\n     missile_prefab_instantiate.transform.right = target.position - missile_prefab_instantiate.transform.position ;\\r\\n}\\r\\nyield return new WaitForSeconds(0.9f);\\r\\n\\r\\n// ...\\r\\n</code></pre>                                                                                                                                                                                                                                                                                                                                                                                                                                                                                                                                                                                                                                                                                                                                                                                                                                                                                                                                                                                                                                                                                                                                                                                                                                                                                                                                                                                                                                                                                                                                                                                                                                                                                                     \n",
       "342  <pre><code>public class RotateImageView extends ImageView {\\r\\n\\r\\nprivate Animation mRotation;\\r\\n    public bool isAnimating = false;\\r\\n\\r\\npublic RotateImageView(Context context) {\\r\\n    super(context);\\r\\n    Init(null);\\r\\n}\\r\\n\\r\\npublic RotateImageView(Context context, AttributeSet attrs) {\\r\\n    super(context, attrs);\\r\\n    Init(attrs);\\r\\n}\\r\\n\\r\\n@TargetApi(Build.VERSION_CODES.HONEYCOMB)\\r\\npublic RotateImageView(Context context, AttributeSet attrs, int defStyle) {\\r\\n    super(context, attrs, defStyle);\\r\\n    Init(attrs);\\r\\n}\\r\\n\\r\\nprivate void Init(AttributeSet attrs) {\\r\\n    startAnimation();\\r\\n}\\r\\n\\r\\npublic void startAnimation() {\\r\\n    if (mRotation == null) {\\r\\n        mRotation = AnimationUtils.loadAnimation(getContext(), R.anim.rotate);\\r\\n        mRotation.setRepeatCount(Animation.INFINITE);\\r\\n    }\\r\\n    this.startAnimation(mRotation);\\r\\n            isAnimating  = true;\\r\\n}\\r\\n\\r\\npublic void stopAnimation() {\\r\\n    if (mRotation != null)\\r\\n        clearAnimation();\\r\\n            isAnimating  = false;\\r\\n}\\r\\n\\r\\n@Override\\r\\npublic void setVisibility(int visibility) {\\r\\n    if (visibility == GONE || visibility == INVISIBLE) {\\r\\n        clearAnimation();\\r\\n    } else if (visibility == VISIBLE) {\\r\\n        startAnimation(mRotation);\\r\\n    }\\r\\n    super.setVisibility(visibility);\\r\\n}\\r\\n</code></pre>\\r\\n\\r\\n<p>}</p>\\r\\n\\r\\n<p>rotate.xml</p>\\r\\n\\r\\n<pre><code>    &lt;?xml version=\"1.0\" encoding=\"utf-8\"?&gt;\\r\\n&lt;rotate xmlns:android=\"http://schemas.android.com/apk/res/android\"\\r\\n    android:duration=\"5000\"\\r\\n    android:fromDegrees=\"0\"\\r\\n    android:interpolator=\"@android:anim/linear_interpolator\"\\r\\n    android:pivotX=\"50%\"\\r\\n    android:pivotY=\"50%\"\\r\\n    android:startOffset=\"0\"\\r\\n    android:toDegrees=\"360\" /&gt;\\r\\n</code></pre>\\r\\n\\r\\n<p><strong>EDITED</strong></p>\\r\\n\\r\\n<pre><code>    RotateImageView image = new RotateImageView(Context);\\r\\n    image.addOnClickListener(new View.OnClickListener(){\\r\\n     if(image.isAnimating)\\r\\n        image.stopAnimating();\\r\\n     else \\r\\n        image.startAnimating();\\r\\n}\\r\\n</code></pre>  \n",
       "340  <p>As Draco18s pointed out, you convert <code>pos</code> to screenspace but not <code>rect</code>.</p>\\r\\n\\r\\n<p>If you look at unity's API docs for <code>WorldToScreenPoint()</code>\\r\\nit says that it </p>\\r\\n\\r\\n<blockquote>\\r\\n  <p>Transforms position from world space into screen space. Screenspace is\\r\\n  defined in pixels.</p>\\r\\n</blockquote>\\r\\n\\r\\n<p>whereas <code>transform.position</code> returns</p>\\r\\n\\r\\n<blockquote>\\r\\n  <p>The position of the transform in world space.</p>\\r\\n</blockquote>\\r\\n\\r\\n<p>What you have is a problem of combining screenspace, measured in pixels, and world space, which is totally different.</p>\\r\\n\\r\\n<p>Because you are using <code>pixelRect</code>, I would recommend changing <code>var rect = image.transform.rect;</code>\\r\\nto be <code>var rect = Camera.main.WorldToScreenPoint(image.transform.position);</code></p>\\r\\n\\r\\n<p>You will then of course have to also check the other corners in a similar way, and if all 4 corners return true then the the object is inside the other.</p>                                                                                                                                                                                                                                                                                                                                                                                                                                                                                                                                                                                                                                                                                                                                                                                                                                                                                                                                                                                                                                                                                                                                       "
      ]
     },
     "execution_count": 317,
     "metadata": {},
     "output_type": "execute_result"
    }
   ],
   "source": [
    "decorate_answers(similar_qs)"
   ]
  },
  {
   "cell_type": "code",
   "execution_count": 318,
   "metadata": {},
   "outputs": [
    {
     "data": {
      "text/plain": [
       "[(210, 0.3465426956980782),\n",
       " (267, 0.33679816934966145),\n",
       " (18, 0.29708062066447544)]"
      ]
     },
     "execution_count": 318,
     "metadata": {},
     "output_type": "execute_result"
    }
   ],
   "source": [
    "similar_qs = find_similar(tfidf_matrix, \"How do I create a bar chart?\")\n",
    "similar_qs"
   ]
  },
  {
   "cell_type": "code",
   "execution_count": 319,
   "metadata": {},
   "outputs": [
    {
     "data": {
      "text/html": [
       "<div>\n",
       "<style scoped>\n",
       "    .dataframe tbody tr th:only-of-type {\n",
       "        vertical-align: middle;\n",
       "    }\n",
       "\n",
       "    .dataframe tbody tr th {\n",
       "        vertical-align: top;\n",
       "    }\n",
       "\n",
       "    .dataframe thead th {\n",
       "        text-align: right;\n",
       "    }\n",
       "</style>\n",
       "<table border=\"1\" class=\"dataframe\">\n",
       "  <thead>\n",
       "    <tr style=\"text-align: right;\">\n",
       "      <th></th>\n",
       "      <th>cos_similarity</th>\n",
       "      <th>q_id</th>\n",
       "      <th>q_title</th>\n",
       "      <th>accepted_answer_id</th>\n",
       "      <th>a_body</th>\n",
       "    </tr>\n",
       "  </thead>\n",
       "  <tbody>\n",
       "    <tr>\n",
       "      <td>210</td>\n",
       "      <td>0.346543</td>\n",
       "      <td>28157752</td>\n",
       "      <td>R: Stacked bar chart from two column data</td>\n",
       "      <td>28157933.0</td>\n",
       "      <td>&lt;p&gt;You can use a base &lt;code&gt;barplot&lt;/code&gt; here. Here an example&lt;/p&gt;\\r\\n\\r\\n&lt;pre&gt;&lt;code&gt;dd&amp;lt;-read.table(text=\"Date Speed\\r\\n01/01/2013 56\\r\\n01/01/2013 45\\r\\n01/01/2013 34\\r\\n02/01/2013 23\\r\\n02/01/2013 12\\r\\n02/01/2013 1\\r\\n03/01/2013 48\", header=T)\\r\\n\\r\\n#make sure it's a date    \\r\\nspeed_date &amp;lt;- as.Date(dd$Date, \"%m/%d/%Y\")\\r\\n\\r\\n#cut data into requested bins\\r\\nspeed_cut &amp;lt;- cut(dd$Speed, \\r\\n    breaks=c(0,40,48,60,Inf),\\r\\n    labels=c(\"0-40\", \"41-48\", \"49-60\", \"&amp;gt; 60\")\\r\\n)\\r\\n\\r\\n#pick a color for each bin\\r\\nspeed_cols &amp;lt;- heat.colors(nlevels(speed_cut))\\r\\n\\r\\nbarplot(table(speed_cut, speed_date), col=speed_cols)\\r\\nlegend(\"topright\",levels(speed_cut), fill=speed_cols)\\r\\n&lt;/code&gt;&lt;/pre&gt;\\r\\n\\r\\n&lt;p&gt;this produces&lt;/p&gt;\\r\\n\\r\\n&lt;p&gt;&lt;img src=\"https://i.stack.imgur.com/ioNuT.png\" alt=\"enter image description here\"&gt;&lt;/p&gt;\\r\\n\\r\\n&lt;p&gt;You may wish to change the colors to suit your taste.&lt;/p&gt;</td>\n",
       "    </tr>\n",
       "    <tr>\n",
       "      <td>267</td>\n",
       "      <td>0.336798</td>\n",
       "      <td>46637560</td>\n",
       "      <td>to resize the existing lines in a bar chart</td>\n",
       "      <td>46637617.0</td>\n",
       "      <td>&lt;p&gt;You need to update the existing paths:&lt;/p&gt;\\r\\n\\r\\n&lt;pre&gt;&lt;code&gt;g.selectAll(\".line\")\\r\\n    .transition()\\r\\n    .duration(750)\\r\\n    .attr(\"d\", function(d) {\\r\\n        return line(d.values)\\r\\n    })\\r\\n&lt;/code&gt;&lt;/pre&gt;\\r\\n\\r\\n&lt;p&gt;Here is the updated plunker: &lt;a href=\"http://plnkr.co/edit/w0INQyy3hEcuzvP5J8FR?p=preview\" rel=\"nofollow noreferrer\"&gt;http://plnkr.co/edit/w0INQyy3hEcuzvP5J8FR?p=preview&lt;/a&gt;&lt;/p&gt;</td>\n",
       "    </tr>\n",
       "    <tr>\n",
       "      <td>18</td>\n",
       "      <td>0.297081</td>\n",
       "      <td>50667397</td>\n",
       "      <td>Plotting a DataFrame (that has a date index) as a bar chart</td>\n",
       "      <td>50667655.0</td>\n",
       "      <td>&lt;p&gt;It seems to be working in the example below.&lt;/p&gt;\\r\\n\\r\\n&lt;pre&gt;&lt;code&gt;from numpy.random import randint\\r\\nimport pandas as pd\\r\\nimport matplotlib.pyplot as plt\\r\\n\\r\\n# Create data frames for the example\\r\\nrng = pd.date_range('3/7/2018 00:00', periods=10, freq='1w')\\r\\ndf = pd.DataFrame({'usersPerWeek': randint(10, 200, 10)}, index=rng)\\r\\n\\r\\nfigPerWeek = plt.figure(dpi=80, figsize=(8,1))\\r\\naxis = figPerWeek.add_subplot(1,1,1)\\r\\naxis.bar(x=df.index, height=df.usersPerWeek)\\r\\nplt.ylabel('usersPerWeek')\\r\\nplt.show()\\r\\n&lt;/code&gt;&lt;/pre&gt;\\r\\n\\r\\n&lt;p&gt;&lt;a href=\"https://i.stack.imgur.com/Xgypf.png\" rel=\"nofollow noreferrer\"&gt;&lt;img src=\"https://i.stack.imgur.com/Xgypf.png\" alt=\"enter image description here\"&gt;&lt;/a&gt;&lt;/p&gt;</td>\n",
       "    </tr>\n",
       "  </tbody>\n",
       "</table>\n",
       "</div>"
      ],
      "text/plain": [
       "     cos_similarity      q_id  \\\n",
       "210  0.346543        28157752   \n",
       "267  0.336798        46637560   \n",
       "18   0.297081        50667397   \n",
       "\n",
       "                                                         q_title  \\\n",
       "210  R: Stacked bar chart from two column data                     \n",
       "267  to resize the existing lines in a bar chart                   \n",
       "18   Plotting a DataFrame (that has a date index) as a bar chart   \n",
       "\n",
       "     accepted_answer_id  \\\n",
       "210  28157933.0           \n",
       "267  46637617.0           \n",
       "18   50667655.0           \n",
       "\n",
       "                                                                                                                                                                                                                                                                                                                                                                                                                                                                                                                                                                                                                                                                                                                                                                                                                                                                                                                                             a_body  \n",
       "210  <p>You can use a base <code>barplot</code> here. Here an example</p>\\r\\n\\r\\n<pre><code>dd&lt;-read.table(text=\"Date Speed\\r\\n01/01/2013 56\\r\\n01/01/2013 45\\r\\n01/01/2013 34\\r\\n02/01/2013 23\\r\\n02/01/2013 12\\r\\n02/01/2013 1\\r\\n03/01/2013 48\", header=T)\\r\\n\\r\\n#make sure it's a date    \\r\\nspeed_date &lt;- as.Date(dd$Date, \"%m/%d/%Y\")\\r\\n\\r\\n#cut data into requested bins\\r\\nspeed_cut &lt;- cut(dd$Speed, \\r\\n    breaks=c(0,40,48,60,Inf),\\r\\n    labels=c(\"0-40\", \"41-48\", \"49-60\", \"&gt; 60\")\\r\\n)\\r\\n\\r\\n#pick a color for each bin\\r\\nspeed_cols &lt;- heat.colors(nlevels(speed_cut))\\r\\n\\r\\nbarplot(table(speed_cut, speed_date), col=speed_cols)\\r\\nlegend(\"topright\",levels(speed_cut), fill=speed_cols)\\r\\n</code></pre>\\r\\n\\r\\n<p>this produces</p>\\r\\n\\r\\n<p><img src=\"https://i.stack.imgur.com/ioNuT.png\" alt=\"enter image description here\"></p>\\r\\n\\r\\n<p>You may wish to change the colors to suit your taste.</p>  \n",
       "267  <p>You need to update the existing paths:</p>\\r\\n\\r\\n<pre><code>g.selectAll(\".line\")\\r\\n    .transition()\\r\\n    .duration(750)\\r\\n    .attr(\"d\", function(d) {\\r\\n        return line(d.values)\\r\\n    })\\r\\n</code></pre>\\r\\n\\r\\n<p>Here is the updated plunker: <a href=\"http://plnkr.co/edit/w0INQyy3hEcuzvP5J8FR?p=preview\" rel=\"nofollow noreferrer\">http://plnkr.co/edit/w0INQyy3hEcuzvP5J8FR?p=preview</a></p>                                                                                                                                                                                                                                                                                                                                                                                                                                                                                                                          \n",
       "18   <p>It seems to be working in the example below.</p>\\r\\n\\r\\n<pre><code>from numpy.random import randint\\r\\nimport pandas as pd\\r\\nimport matplotlib.pyplot as plt\\r\\n\\r\\n# Create data frames for the example\\r\\nrng = pd.date_range('3/7/2018 00:00', periods=10, freq='1w')\\r\\ndf = pd.DataFrame({'usersPerWeek': randint(10, 200, 10)}, index=rng)\\r\\n\\r\\nfigPerWeek = plt.figure(dpi=80, figsize=(8,1))\\r\\naxis = figPerWeek.add_subplot(1,1,1)\\r\\naxis.bar(x=df.index, height=df.usersPerWeek)\\r\\nplt.ylabel('usersPerWeek')\\r\\nplt.show()\\r\\n</code></pre>\\r\\n\\r\\n<p><a href=\"https://i.stack.imgur.com/Xgypf.png\" rel=\"nofollow noreferrer\"><img src=\"https://i.stack.imgur.com/Xgypf.png\" alt=\"enter image description here\"></a></p>                                                                                                                                                                                                    "
      ]
     },
     "execution_count": 319,
     "metadata": {},
     "output_type": "execute_result"
    }
   ],
   "source": [
    "decorate_answers(similar_qs)"
   ]
  }
 ],
 "metadata": {
  "kernelspec": {
   "display_name": "Python 3",
   "language": "python",
   "name": "python3"
  },
  "language_info": {
   "codemirror_mode": {
    "name": "ipython",
    "version": 3
   },
   "file_extension": ".py",
   "mimetype": "text/x-python",
   "name": "python",
   "nbconvert_exporter": "python",
   "pygments_lexer": "ipython3",
   "version": "3.7.4"
  }
 },
 "nbformat": 4,
 "nbformat_minor": 2
}
